{
 "cells": [
  {
   "cell_type": "code",
   "execution_count": 1,
   "metadata": {
    "collapsed": false
   },
   "outputs": [
    {
     "name": "stdout",
     "output_type": "stream",
     "text": [
      "rm -rf build/*\r\n"
     ]
    }
   ],
   "source": [
    "!make clean"
   ]
  },
  {
   "cell_type": "code",
   "execution_count": 3,
   "metadata": {
    "collapsed": false
   },
   "outputs": [
    {
     "name": "stdout",
     "output_type": "stream",
     "text": [
      "sphinx-build -b html -d build/doctrees   source build/html\n",
      "\u001b[01mRunning Sphinx v1.4.1\u001b[39;49;00m\n",
      "\u001b[01mloading translations [zh_CN]... \u001b[39;49;00mdone\n",
      "\u001b[01mloading pickled environment... \u001b[39;49;00mdone\n",
      "\u001b[01mbuilding [mo]: \u001b[39;49;00mtargets for 0 po files that are out of date\n",
      "\u001b[01mbuilding [html]\u001b[39;49;00m: targets for 1 source files that are out of date\n",
      "\u001b[01mupdating environment: \u001b[39;49;00m0 added, 1 changed, 0 removed\n",
      "/home/supermap/GISpark/GISpark_doc/source/geospatial/geojson/geojson.ipynb: WARNING: file not found: 'geospatial/geojson/urn:ogc:def:crs:OGC:1.3:CRS84'\n",
      "\n",
      "/home/supermap/GISpark/GISpark_doc/source/geospatial/geojson/geojson.ipynb:266: WARNING: Inline emphasis start-string without end-string.\n",
      "/home/supermap/GISpark/GISpark_doc/source/geospatial/geojson/geojson.ipynb:334: SEVERE: Title level inconsistent:\n",
      "\n",
      "没有孔的：\n",
      "^^^^^^^^^^\n",
      "/home/supermap/GISpark/GISpark_doc/source/geospatial/geojson/geojson.ipynb:345: SEVERE: Title level inconsistent:\n",
      "\n",
      "有孔的：\n",
      "^^^^^^^^\n",
      "\u001b[01mlooking for now-outdated files... \u001b[39;49;00mnone found\n",
      "\u001b[01mpickling environment... \u001b[39;49;00mdone\n",
      "\u001b[01mchecking consistency... \u001b[39;49;00m/home/supermap/GISpark/GISpark_doc/source/geospatial/convert.ipynb:: WARNING: document isn't included in any toctree\n",
      "/home/supermap/GISpark/GISpark_doc/source/geospatial/gdal/gdal-geometry.ipynb:: WARNING: document isn't included in any toctree\n",
      "/home/supermap/GISpark/GISpark_doc/source/geospatial/geojson/geojson.ipynb:: WARNING: document isn't included in any toctree\n",
      "/home/supermap/GISpark/GISpark_doc/source/geospatial/geojson/pygeojson.ipynb:: WARNING: document isn't included in any toctree\n",
      "/home/supermap/GISpark/GISpark_doc/source/geospatial/giscript/giscript_quickstart.ipynb:: WARNING: document isn't included in any toctree\n",
      "/home/supermap/GISpark/GISpark_doc/source/geospatial/giscript/shp2udb.ipynb:: WARNING: document isn't included in any toctree\n",
      "/home/supermap/GISpark/GISpark_doc/source/geospatial/matplotlib/mpl_basemap.ipynb:: WARNING: document isn't included in any toctree\n",
      "/home/supermap/GISpark/GISpark_doc/source/geospatial/openstreetmap/osm-discovery.ipynb:: WARNING: document isn't included in any toctree\n",
      "/home/supermap/GISpark/GISpark_doc/source/geospatial/openstreetmap/osm-extract.ipynb:: WARNING: document isn't included in any toctree\n",
      "/home/supermap/GISpark/GISpark_doc/source/geospatial/openstreetmap/osm-extract2json.ipynb:: WARNING: document isn't included in any toctree\n",
      "/home/supermap/GISpark/GISpark_doc/source/geospatial/openstreetmap/osm-json2geometry.ipynb:: WARNING: document isn't included in any toctree\n",
      "/home/supermap/GISpark/GISpark_doc/source/geospatial/openstreetmap/osm-overpass-highway.ipynb:: WARNING: document isn't included in any toctree\n",
      "/home/supermap/GISpark/GISpark_doc/source/geospatial/openstreetmap/osm-overpass-node.ipynb:: WARNING: document isn't included in any toctree\n",
      "/home/supermap/GISpark/GISpark_doc/source/geospatial/openstreetmap/osm-spark.ipynb:: WARNING: document isn't included in any toctree\n",
      "/home/supermap/GISpark/GISpark_doc/source/geospatial/openstreetmap/osm-tag2json.ipynb:: WARNING: document isn't included in any toctree\n",
      "/home/supermap/GISpark/GISpark_doc/source/geospatial/srtm/srtm_usgs.ipynb:: WARNING: document isn't included in any toctree\n",
      "/home/supermap/GISpark/GISpark_doc/source/jupyter/jupyter_quickstart.ipynb:: WARNING: document isn't included in any toctree\n",
      "/home/supermap/GISpark/GISpark_doc/source/jupyter/sphinx_quickstart.ipynb:: WARNING: document isn't included in any toctree\n",
      "/home/supermap/GISpark/GISpark_doc/source/markit.md:: WARNING: document isn't included in any toctree\n",
      "/home/supermap/GISpark/GISpark_doc/source/opendatasource.md:: WARNING: document isn't included in any toctree\n",
      "/home/supermap/GISpark/GISpark_doc/source/pystart/gdp_plot.ipynb:: WARNING: document isn't included in any toctree\n",
      "/home/supermap/GISpark/GISpark_doc/source/pystart/git_get.ipynb:: WARNING: document isn't included in any toctree\n",
      "/home/supermap/GISpark/GISpark_doc/source/pystart/git_list.md:: WARNING: document isn't included in any toctree\n",
      "/home/supermap/GISpark/GISpark_doc/source/pystart/jupyter_magics.ipynb:: WARNING: document isn't included in any toctree\n",
      "/home/supermap/GISpark/GISpark_doc/source/pystart/latex.ipynb:: WARNING: document isn't included in any toctree\n",
      "/home/supermap/GISpark/GISpark_doc/source/pystart/math.ipynb:: WARNING: document isn't included in any toctree\n",
      "/home/supermap/GISpark/GISpark_doc/source/pystart/matplot.ipynb:: WARNING: document isn't included in any toctree\n",
      "/home/supermap/GISpark/GISpark_doc/source/pystart/pandas_and_matplotlib.ipynb:: WARNING: document isn't included in any toctree\n",
      "/home/supermap/GISpark/GISpark_doc/source/pystart/pandas_quickstart.ipynb:: WARNING: document isn't included in any toctree\n",
      "/home/supermap/GISpark/GISpark_doc/source/pystart/pystart_blaze.ipynb:: WARNING: document isn't included in any toctree\n",
      "/home/supermap/GISpark/GISpark_doc/source/pystart/pystart_catalog.ipynb:: WARNING: document isn't included in any toctree\n",
      "/home/supermap/GISpark/GISpark_doc/source/pystart/pystart_databasic.ipynb:: WARNING: document isn't included in any toctree\n",
      "/home/supermap/GISpark/GISpark_doc/source/pystart/pystart_filewrite.ipynb:: WARNING: document isn't included in any toctree\n",
      "/home/supermap/GISpark/GISpark_doc/source/pystart/pystart_helloworld.ipynb:: WARNING: document isn't included in any toctree\n",
      "/home/supermap/GISpark/GISpark_doc/source/pystart/pystart_ospath.ipynb:: WARNING: document isn't included in any toctree\n",
      "done\n",
      "\u001b[01mpreparing documents... \u001b[39;49;00mdone\n",
      "/home/supermap/GISpark/GISpark_doc/source/geospatial/geojson/geojson.ipynb:25: WARNING: Could not lex literal_block as \"python\". Highlighting skipped.\n",
      "/home/supermap/GISpark/GISpark_doc/source/geospatial/geojson/geojson.ipynb:111: WARNING: Could not lex literal_block as \"python\". Highlighting skipped.\n",
      "/home/supermap/GISpark/GISpark_doc/source/geospatial/geojson/geojson.ipynb:134: WARNING: Could not lex literal_block as \"python\". Highlighting skipped.\n",
      "/home/supermap/GISpark/GISpark_doc/source/geospatial/geojson/geojson.ipynb:: WARNING: Pygments lexer name 'ipython3' is not known\n",
      "\n",
      "\u001b[01mgenerating indices...\u001b[39;49;00m genindex\n",
      "\u001b[01mwriting additional pages...\u001b[39;49;00m search\n",
      "\u001b[01mcopying images... \u001b[39;49;00m[100%] \u001b[33msvg/blaze_med.png\u001b[39;49;00m                                      \n",
      "\u001b[01mcopying static files... \u001b[39;49;00mdone\n",
      "\u001b[01mcopying extra files... \u001b[39;49;00mdone\n",
      "\u001b[01mdumping search index in English (code: en) ... \u001b[39;49;00mdone\n",
      "\u001b[01mdumping object inventory... \u001b[39;49;00mdone\n",
      "\u001b[01mbuild succeeded, 43 warnings.\u001b[39;49;00m\n",
      "\n",
      "Build finished. The HTML pages are in build/html.\n"
     ]
    }
   ],
   "source": [
    "!make html"
   ]
  },
  {
   "cell_type": "code",
   "execution_count": 4,
   "metadata": {
    "collapsed": false
   },
   "outputs": [],
   "source": [
    "#!make latexpdf"
   ]
  },
  {
   "cell_type": "code",
   "execution_count": null,
   "metadata": {
    "collapsed": true
   },
   "outputs": [],
   "source": []
  }
 ],
 "metadata": {
  "kernelspec": {
   "display_name": "Python 3",
   "language": "python",
   "name": "python3"
  },
  "language_info": {
   "codemirror_mode": {
    "name": "ipython",
    "version": 3
   },
   "file_extension": ".py",
   "mimetype": "text/x-python",
   "name": "python",
   "nbconvert_exporter": "python",
   "pygments_lexer": "ipython3",
   "version": "3.5.1"
  }
 },
 "nbformat": 4,
 "nbformat_minor": 0
}
