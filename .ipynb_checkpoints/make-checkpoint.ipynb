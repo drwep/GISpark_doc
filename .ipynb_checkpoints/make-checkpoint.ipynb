{
 "cells": [
  {
   "cell_type": "code",
   "execution_count": 9,
   "metadata": {
    "collapsed": false
   },
   "outputs": [
    {
     "name": "stdout",
     "output_type": "stream",
     "text": [
      "rm -rf build/*\r\n"
     ]
    }
   ],
   "source": [
    "!make clean"
   ]
  },
  {
   "cell_type": "code",
   "execution_count": 26,
   "metadata": {
    "collapsed": false
   },
   "outputs": [
    {
     "name": "stdout",
     "output_type": "stream",
     "text": [
      "sphinx-build -b html -d build/doctrees   source build/html\n",
      "\u001b[01mRunning Sphinx v1.4.1\u001b[39;49;00m\n",
      "\u001b[01mloading translations [zh_CN]... \u001b[39;49;00mdone\n",
      "\u001b[01mloading pickled environment... \u001b[39;49;00mdone\n",
      "\u001b[01mbuilding [mo]: \u001b[39;49;00mtargets for 0 po files that are out of date\n",
      "\u001b[01mbuilding [html]\u001b[39;49;00m: targets for 2 source files that are out of date\n",
      "\u001b[01mupdating environment: \u001b[39;49;00m2 added, 2 changed, 0 removed\n",
      "\n",
      "\u001b[31;01mException occurred:\u001b[39;49;00m\n",
      "  File \"/home/supermap/.local/lib/python3.5/site-packages/nbconvert/preprocessors/execute.py\", line 176, in preprocess_cell\n",
      "    raise CellExecutionError(msg)\n",
      "nbconvert.preprocessors.execute.CellExecutionError: An error occurred while executing the following cell:\n",
      "------------------\n",
      "import fiona\n",
      "\n",
      "# Register format drivers with a context manager\n",
      "with fiona.drivers():\n",
      "    # Open a file for reading. We'll call this the \"source.\"\n",
      "    with fiona.open('docs/data/test_uk.shp') as source:\n",
      "\n",
      "        # The file we'll write to, the \"sink\", must be initialized\n",
      "        # with a coordinate system, a format driver name, and\n",
      "        # a record schema.  We can get initial values from the open\n",
      "        # collection's ``meta`` property and then modify them as\n",
      "        # desired.\n",
      "\n",
      "        meta = source.meta\n",
      "        meta['schema']['geometry'] = 'Point'\n",
      "\n",
      "        # Open an output file, using the same format driver and\n",
      "        # coordinate reference system as the source. The ``meta``\n",
      "        # mapping fills in the keyword parameters of fiona.open().\n",
      "\n",
      "        with fiona.open('test_write.shp', 'w', **meta) as sink:\n",
      "\n",
      "            # Process only the records intersecting a box.\n",
      "            for f in source.filter(bbox=(-5.0, 55.0, 0.0, 60.0)):\n",
      "\n",
      "                # Get a point on the boundary of the record's\n",
      "                # geometry.\n",
      "\n",
      "                f['geometry'] = {\n",
      "                    'type': 'Point',\n",
      "                    'coordinates': f['geometry']['coordinates'][0][0]}\n",
      "\n",
      "                # Write the record out.\n",
      "\n",
      "                sink.write(f)\n",
      "\n",
      "    # The sink's contents are flushed to disk and the file is\n",
      "    # closed when its ``with`` block ends. This effectively\n",
      "    # executes ``sink.flush(); sink.close()``.\n",
      "\n",
      "# At the end of the ``with fiona.drivers()`` block, context\n",
      "# manager exits and all drivers are de-registered.\n",
      "------------------\n",
      "\n",
      "OSError: no such file or directory: 'docs/data/test_uk.shp'\n",
      "\u001b[31;01mThe full traceback has been saved in /tmp/sphinx-err-9ymse7dw.log, if you want to report the issue to the developers.\u001b[39;49;00m\n",
      "Please also report this if it was a user error, so that a better error message can be provided next time.\n",
      "A bug report can be filed in the tracker at <https://github.com/sphinx-doc/sphinx/issues>. Thanks!\n",
      "Makefile:56: recipe for target 'html' failed\n",
      "make: *** [html] Error 1\n"
     ]
    }
   ],
   "source": [
    "!make html"
   ]
  },
  {
   "cell_type": "code",
   "execution_count": 4,
   "metadata": {
    "collapsed": false
   },
   "outputs": [],
   "source": [
    "#!make latexpdf"
   ]
  },
  {
   "cell_type": "code",
   "execution_count": null,
   "metadata": {
    "collapsed": true
   },
   "outputs": [],
   "source": []
  }
 ],
 "metadata": {
  "kernelspec": {
   "display_name": "Python 3",
   "language": "python",
   "name": "python3"
  },
  "language_info": {
   "codemirror_mode": {
    "name": "ipython",
    "version": 3
   },
   "file_extension": ".py",
   "mimetype": "text/x-python",
   "name": "python",
   "nbconvert_exporter": "python",
   "pygments_lexer": "ipython3",
   "version": "3.5.1"
  }
 },
 "nbformat": 4,
 "nbformat_minor": 0
}
