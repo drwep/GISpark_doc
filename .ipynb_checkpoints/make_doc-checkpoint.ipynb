{
 "cells": [
  {
   "cell_type": "code",
   "execution_count": 6,
   "metadata": {
    "collapsed": false
   },
   "outputs": [
    {
     "name": "stdout",
     "output_type": "stream",
     "text": [
      "sphinx-build -b html -d build/doctrees   source build/html\n",
      "\u001b[01mRunning Sphinx v1.4.1\u001b[39;49;00m\n",
      "\u001b[01mloading translations [zh_CN]... \u001b[39;49;00mdone\n",
      "\u001b[01mloading pickled environment... \u001b[39;49;00mdone\n",
      "\u001b[01mbuilding [mo]: \u001b[39;49;00mtargets for 0 po files that are out of date\n",
      "\u001b[01mbuilding [html]\u001b[39;49;00m: targets for 1 source files that are out of date\n",
      "\u001b[01mupdating environment: \u001b[39;49;00m0 added, 1 changed, 0 removed\n",
      "\n",
      "/home/supermap/GISpark/GISpark_doc/source/index.rst:5: WARNING: Explicit markup ends without a blank line; unexpected unindent.\n",
      "/home/supermap/GISpark/GISpark_doc/source/index.rst:21: WARNING: Title underline too short.\n",
      "\n",
      "GISpark是什么？\n",
      "^^^^^^^^^^^^^^\n",
      "/home/supermap/GISpark/GISpark_doc/source/index.rst:24: WARNING: Title underline too short.\n",
      "\n",
      "GISpark体系架构\n",
      "^^^^^^^^^^^^^^\n",
      "/home/supermap/GISpark/GISpark_doc/source/index.rst:24: WARNING: Title underline too short.\n",
      "\n",
      "GISpark体系架构\n",
      "^^^^^^^^^^^^^^\n",
      "/home/supermap/GISpark/GISpark_doc/source/index.rst:30: WARNING: Title underline too short.\n",
      "\n",
      "可持续的信息基础设施\n",
      "^^^^^^^^^^^^^^^^^^^\n",
      "/home/supermap/GISpark/GISpark_doc/source/index.rst:30: WARNING: Title underline too short.\n",
      "\n",
      "可持续的信息基础设施\n",
      "^^^^^^^^^^^^^^^^^^^\n",
      "/home/supermap/GISpark/GISpark_doc/source/index.rst:32: WARNING: Title overline too short.\n",
      "\n",
      "------------------\n",
      "云计算基础设施的搭建\n",
      "------------------\n",
      "/home/supermap/GISpark/GISpark_doc/source/index.rst:32: WARNING: Title overline too short.\n",
      "\n",
      "------------------\n",
      "云计算基础设施的搭建\n",
      "------------------\n",
      "/home/supermap/GISpark/GISpark_doc/source/index.rst:60: WARNING: Title overline too short.\n",
      "\n",
      "-------------------------\n",
      "分布式计算与持续交付环境部署\n",
      "-------------------------\n",
      "/home/supermap/GISpark/GISpark_doc/source/index.rst:60: WARNING: Title overline too short.\n",
      "\n",
      "-------------------------\n",
      "分布式计算与持续交付环境部署\n",
      "-------------------------\n",
      "/home/supermap/GISpark/GISpark_doc/source/index.rst:72: WARNING: Title underline too short.\n",
      "\n",
      "[Anaconda科学计算环境]\n",
      "^^^^^^^^^^^^^^^^^^^^\n",
      "/home/supermap/GISpark/GISpark_doc/source/index.rst:72: WARNING: Title underline too short.\n",
      "\n",
      "[Anaconda科学计算环境]\n",
      "^^^^^^^^^^^^^^^^^^^^\n",
      "/home/supermap/GISpark/GISpark_doc/source/index.rst:75: WARNING: Block quote ends without a blank line; unexpected unindent.\n",
      "/home/supermap/GISpark/GISpark_doc/source/index.rst:77: WARNING: Bullet list ends without a blank line; unexpected unindent.\n",
      "/home/supermap/GISpark/GISpark_doc/source/index.rst:116: WARNING: Title underline too short.\n",
      "\n",
      "几何对象模型与地图绘制\n",
      "^^^^^^^^^^^^^^^^^^^^^\n",
      "/home/supermap/GISpark/GISpark_doc/source/index.rst:116: WARNING: Title underline too short.\n",
      "\n",
      "几何对象模型与地图绘制\n",
      "^^^^^^^^^^^^^^^^^^^^^\n",
      "\u001b[01mlooking for now-outdated files... \u001b[39;49;00mnone found\n",
      "\u001b[01mpickling environment... \u001b[39;49;00mdone\n",
      "\u001b[01mchecking consistency... \u001b[39;49;00m/home/supermap/GISpark/GISpark_doc/source/.ipynb_checkpoints/pystart_databasic-checkpoint.ipynb:: WARNING: document isn't included in any toctree\n",
      "/home/supermap/GISpark/GISpark_doc/source/helloworld.rst:: WARNING: document isn't included in any toctree\n",
      "/home/supermap/GISpark/GISpark_doc/source/markit.md:: WARNING: document isn't included in any toctree\n",
      "done\n",
      "\u001b[01mpreparing documents... \u001b[39;49;00mdone\n",
      "\n",
      "\u001b[01mgenerating indices...\u001b[39;49;00m genindex\n",
      "\u001b[01mwriting additional pages...\u001b[39;49;00m search\n",
      "\u001b[01mcopying static files... \u001b[39;49;00mdone\n",
      "\u001b[01mcopying extra files... \u001b[39;49;00mdone\n",
      "\u001b[01mdumping search index in English (code: en) ... \u001b[39;49;00mdone\n",
      "\u001b[01mdumping object inventory... \u001b[39;49;00mdone\n",
      "\u001b[01mbuild succeeded, 19 warnings.\u001b[39;49;00m\n",
      "\n",
      "Build finished. The HTML pages are in build/html.\n"
     ]
    }
   ],
   "source": [
    "!make html"
   ]
  },
  {
   "cell_type": "code",
   "execution_count": 4,
   "metadata": {
    "collapsed": false
   },
   "outputs": [],
   "source": [
    "#!make latexpdf"
   ]
  },
  {
   "cell_type": "code",
   "execution_count": null,
   "metadata": {
    "collapsed": true
   },
   "outputs": [],
   "source": []
  }
 ],
 "metadata": {
  "kernelspec": {
   "display_name": "Python 3",
   "language": "python",
   "name": "python3"
  },
  "language_info": {
   "codemirror_mode": {
    "name": "ipython",
    "version": 3
   },
   "file_extension": ".py",
   "mimetype": "text/x-python",
   "name": "python",
   "nbconvert_exporter": "python",
   "pygments_lexer": "ipython3",
   "version": "3.5.1"
  }
 },
 "nbformat": 4,
 "nbformat_minor": 0
}
