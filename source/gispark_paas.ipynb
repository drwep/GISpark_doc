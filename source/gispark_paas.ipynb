{
 "cells": [
  {
   "cell_type": "markdown",
   "metadata": {},
   "source": [
    "# 分布式计算与持续交付\n",
    "\n",
    "## 持续集成与持续交付\n",
    "\n",
    "    * [GitLab源代码托管与版本管理](gitlabyuan_dai_ma_tuo_guan_yu_ban_ben_guan_li.md)\n",
    "    * [Jenkins持续构建系统](jenkinschi_xu_gou_jian_xi_tong.md)\n",
    "    * [Maven软件构建仓库](mavenruan_jian_gou_jian_cang_ku.md)\n",
    "    * [企业级服务总线](qi_ye_ji_fu_wu_zong_xian.md)\n",
    "\n",
    "\n",
    "## Anaconda科学计算包\n",
    "\n",
    "### [安装Anaconda](an_zhuang_anaconda.md)\n",
    "\n",
    "### Jupyter Notebook安装\n",
    "    通过功能强大的Notebook进行远程数据分析。\n",
    "    * [配置Jupyter Notebook](pei_zhi_jupyter_notebook.md)\n",
    "\n",
    "## Spark分布式计算平台\n",
    "\n",
    "### Spark安装与配置\n",
    "    * [部署架构](bu_shu_jia_gou.md)\n",
    "    * [主节点安装](zhu_jie_dian_an_zhuang.md)\n",
    "    * [从节点安装](cong_jie_dian_an_zhuang.md)\n",
    "    * [PySpark配置](pysparkpei_zhi.md)\n",
    "   \n",
    "\n",
    "##   [Python基础教程](doc/pystart_catalog.md)\n",
    "    pystart_databasic\n",
    "    pandas_quickstart \n",
    "\n",
    "    [Jupyter魔法操作符](doc/jupyter_magics.md)\n",
    "    [Notebook资源大全](git_list.md)\n",
    "    [下载Git资源到本地](git_get.md)\n",
    "    \n",
    "### Python并行处理方法\n",
    "    * [快速并行处理方法]\n",
    "    * [调度到后台执行]\n",
    "\n",
    "### PySpark快速入门\n",
    "    * [Spark 安装配置](doc/sparksetup.md)\n",
    "    * [Spark SQL使用](doc/pysparksql.md)\n",
    "\n",
    "\n",
    "    \n"
   ]
  }
 ],
 "metadata": {
  "kernelspec": {
   "display_name": "Python 3",
   "language": "python",
   "name": "python3"
  },
  "language_info": {
   "codemirror_mode": {
    "name": "ipython",
    "version": 3
   },
   "file_extension": ".py",
   "mimetype": "text/x-python",
   "name": "python",
   "nbconvert_exporter": "python",
   "pygments_lexer": "ipython3",
   "version": "3.5.1"
  }
 },
 "nbformat": 4,
 "nbformat_minor": 0
}
