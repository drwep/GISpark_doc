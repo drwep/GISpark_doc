{
 "cells": [
  {
   "cell_type": "markdown",
   "metadata": {},
   "source": [
    "# 地理空间信息数据处理\n",
    "  \n",
    "地理空间信息数据分为矢量、栅格和影像三种主要类型。矢量数据包括店、线、面及其复合类型，以及圆、椭圆等参数化对象。栅格是以矩阵方式保存的数据类型，每一个矩阵的元素代表相应的地理位置的特征值。影像分为RGB表示的普通图像和以多个栅格值表达的多波段图像。本章将介绍一些常用的空间数据格式、几何对象模型、算法库和使用Python的处理方法，以及通过使用这些技术进行OpenStreetMap、SRTM和TM等开放的免费数据的处理过程和方法。"
   ]
  },
  {
   "cell_type": "markdown",
   "metadata": {},
   "source": [
    "## 地理空间数据格式\n",
    "\n",
    "在专业GIS应用中，空间数据往往保存在大型的商用级数据库中（参考[SuperMap](http://www.supermap.com.cn)）。但在大数据研究和分析中，为了使用方便，经常使用完全开放的格式，如GML(基于XML的几何对象格式)、[WKT(well known text)](geospatial/geojson/geowkt.ipynb)和WKB(二进制格式的WKT)、[GeoJSON](geospatial/geojson/geojson.ipynb)格式。在Python中进行地理几何数据处理的支持库有GeoPandas、Shapely、GDAL库，以及专业GIS的脚本引擎-GIScript等，下面介绍其使用和用于数据处理的方法。\n",
    "\n",
    "### GeoJSON 规范\n",
    "\n",
    "[GeoJSON](geospatial/geojson/geojson.ipynb)是一种对各种地理数据结构进行编码的格式。GeoJSON对象可以表示几何、特征或者特征集合。GeoJSON支持下面几何类型：点、线、面、多点、多线、多面和几何集合。GeoJSON里的特征包含一个几何对象和其他属性，特征集合表示一系列特征。\n",
    "\n",
    "### GeoJSON 编程\n",
    "\n",
    "Python的词典和列表、元组等数据结构可以直接与JSON映射。GeoJSON完全遵循JSON规范，因此GeoJSON很容易[通过Python编程操作](geospatial/geojson/pygeojson.ipynb)，并且与Shapeply、Fiona、GeoPandas组合使用，完成地理空间对象和文件的I/O操作。GDAL和很多商业GIS软件也都支持GeoJSON，可以非常方便地进行数据交换，尤其是在网络服务中，通过JavaScript也能方便地处理并在HTML5中绘制出来，有逐渐取代其它格式的趋势。\n",
    "\n",
    "### GeoCSV 格式\n",
    "\n",
    "Hadoop和Spark为了便于分布式处理中数据切分，都主要按照分行处理方式设计。因此，空间数据经常保存为[空间数据CSV格式](geospatial/geojson/geocsv.ipynb)，方便在分布式环境下使用。CSV格式数据域一般以`\"`分隔和表格符`\\t`两种常见格式，而几何对象一般采用[WKT(well known text)](geospatial/geojson/geowkt.ipynb)、WKB(WKT的二进制编码)或GeoJSON格式存储，每行以回车(或回车换行)结束。"
   ]
  },
  {
   "cell_type": "markdown",
   "metadata": {},
   "source": [
    "## 几何对象与地图绘制\n",
    "\n",
    "商业GIS平台软件都提供了专业级的几何对象计算和地图绘制、快速制图等功能（参考[SuperMap](http://www.supermap.com.cn)）。使用开源的Python库也可以绘制出适合空间可视化表达的图表(如Matplotlib/Bokeh/plotly/QTGraph等)，常用的几何对象操作和空间运算也可以使用GeoPandas/Shaply/Fiona等Python库来完成。\n",
    "\n",
    "\n",
    "### Matplotlib绘制地图\n",
    "Matplotlib是Python上广泛使用的绘图库，支持在Jupyter Notebook中绘图。\n",
    "\n",
    "安装：\n",
    "\n",
    "    conda install basemap\n",
    "\n",
    "详情参考：http://matplotlib.org/basemap/users/geography.html 。安装basemap包后，可以直接[使用Matplotlib绘制地图](geospatial/matplotlib/mpl_basemap.ipynb)。"
   ]
  },
  {
   "cell_type": "markdown",
   "metadata": {},
   "source": [
    "### GeoPandas内存数据集\n",
    "[GeoPandas内存数据集](geospatial/geopandas/geopandas.ipynb)派生于Pandas数据类，增加GeoSeries对象，可以存储Geometry地理空间几何对象。GeoPandas的Geometry对象采用GeoJSON格式存储，非常便于在Python中操作，详细请参考[GeoPandas.org](http://www.GeoPandas.org)。\n",
    "\n",
    "GeoPandas的目的是在Python下更容易处理地理数据。它结合了pandas和shaply的功能，提供在pandas下的空间操作和shapel下高层次的处理多几何构型的接口。GeoPandas允许你很容易的用Python进行操作，不然的话，你将不得不用一个空间数据库去处理，如PostGIS。\n",
    "\n",
    "#### 安装Pandas\n",
    "\n",
    "使用pip或easy_install：\n",
    "\n",
    "    pip install geopandas\n",
    "\n",
    "你也可以通过克隆GitHub上的仓库去安装最新的开发版本，命令脚本如下：\n",
    "\n",
    "    git clone https://github.com/geopandas/geopandas.git\n",
    "    cd geopandas\n",
    "    python setup.py install\n",
    "\n",
    "同样也可以在PyPI上安装最新的可用开发版本，使用pip，加上--pre安装1.4或者更高的版本，或者直接使用pip从GitHub仓库中安装：\n",
    "\n",
    "    pip install git+git://github.com/geopandas/geopandas.git\n",
    "    \n",
    "#### Pandas使用示例\n",
    "注意，里面用到了下一步介绍的Shapely库。\n",
    "\n",
    "```\n",
    "%matplotlib inline\n",
    "\n",
    "import numpy as np\n",
    "from geopandas import *\n",
    "from shapely.geometry import *\n",
    "\n",
    "p1 = Polygon([(0, 0), (1, 0), (1, 1)])\n",
    "p2 = Polygon([(0, 0), (1, 0), (1, 1), (0, 1)])\n",
    "p3 = Polygon([(2, 0), (3, 0), (3, 1), (2, 1)])\n",
    "\n",
    "g = GeoSeries([p1, p2, p3])\n",
    "g\n",
    "\n",
    "```"
   ]
  },
  {
   "cell_type": "markdown",
   "metadata": {},
   "source": [
    "### Shapely几何对象运算\n",
    "[Shapely](geospatial/shapely.ipynb)提供地理几何对象数据结构、编解码及对象之间的几何代数运算，支持WKT和JSON的几何对象编解码，为GeoPandas提供几何对象相关的操作。[Shapely工程源代码](https://github.com/Toblerity/Shapely.git)可以直接下载、编译、安装，详细文档[参见这里](http://toblerity.org/shapely/project.html)。\n",
    "\n",
    "Shapely用法示例：\n",
    "\n",
    "```\n",
    ">>> from shapely.geometry import Point\n",
    "\n",
    ">>> patch = Point(0.0, 0.0).buffer(10.0)\n",
    ">>> patch\n",
    "<shapely.geometry.polygon.Polygon object at 0x...>\n",
    "\n",
    ">>> patch.area\n",
    "313.65484905459385\n",
    "```"
   ]
  },
  {
   "cell_type": "markdown",
   "metadata": {},
   "source": [
    "### Fiona几何对象操作\n",
    "[Fiona库](geospatial/fiona.ipynb)提供几何对象的文件读写功能，基于OGR实现的简洁的Python API对象接口，详情可以查看[文档](http://toblerity.org/fiona/README.html#usage)和[源代码](https://github.com/Toblerity/Fiona)。\n",
    "\n",
    "使用Fiona的范式：\n",
    "\n",
    "    with fiona.drivers():\n",
    "\n",
    "        for layername in fiona.listlayers('docs/data'):\n",
    "            with fiona.open('docs/data', layer=layername) as c:\n",
    "                print(layername, len(c))\n",
    "\n",
    "    # Output:\n",
    "    # test_uk 48"
   ]
  },
  {
   "cell_type": "markdown",
   "metadata": {},
   "source": [
    "## PyProj地图投影\n",
    "\n",
    "投影是地理空间数据处理中的空间坐标参照方法，经常需要在不同的坐标体系下进行转换。PyProj是PROJ4投影支持库的Python API，提供各种地图投影参数的管理、操作和坐标变换。详细参考[安装PyProj](https://pypi.python.org/pypi/pyproj/)、[PyProj文档](https://jswhit.github.io/pyproj/)、[PyProj代码](https://github.com/jswhit/pyproj)。\n",
    "\n",
    "    >>> # projection 1: UTM zone 15, grs80 ellipse, NAD83 datum\n",
    "    >>> # (defined by epsg code 26915)\n",
    "    >>> p1 = Proj(init='epsg:26915')\n",
    "    \n",
    "    >>> # projection 2: UTM zone 15, clrk66 ellipse, NAD27 datum\n",
    "    >>> p2 = Proj(init='epsg:26715')\n",
    "    \n",
    "    >>> # find x,y of Jefferson City, MO.\n",
    "    >>> x1, y1 = p1(-92.199881,38.56694)\n",
    "    \n",
    "    >>> # transform this point to projection 2 coordinates.\n",
    "    >>> x2, y2 = transform(p1,p2,x1,y1)\n",
    "    >>> '%9.3f %11.3f' % (x1,y1)\n",
    "    '569704.566 4269024.671'\n",
    "    \n",
    "    >>> '%9.3f %11.3f' % (x2,y2)\n",
    "    '569722.342 4268814.027'\n",
    "    \n",
    "    >>> '%8.3f %5.3f' % p2(x2,y2,inverse=True)\n",
    "    ' -92.200 38.567'\n",
    "    \n",
    "    >>> # process 3 points at a time in a tuple\n",
    "    >>> lats = (38.83,39.32,38.75) # Columbia, KC and StL Missouri\n",
    "    >>> lons = (-92.22,-94.72,-90.37)\n",
    "    >>> x1, y1 = p1(lons,lats)\n",
    "    >>> x2, y2 = transform(p1,p2,x1,y1)\n",
    "    \n",
    "    >>> xy = x1+y1\n",
    "    >>> '%9.3f %9.3f %9.3f %11.3f %11.3f %11.3f' % xy\n",
    "    '567703.344 351730.944 728553.093 4298200.739 4353698.725 4292319.005'\n",
    "    \n",
    "    >>> xy = x2+y2\n",
    "    >>> '%9.3f %9.3f %9.3f %11.3f %11.3f %11.3f' % xy\n",
    "    '567721.149 351747.558 728569.133 4297989.112 4353489.644 4292106.305'\n",
    "    >>> lons, lats = p2(x2,y2,inverse=True)\n",
    "    \n",
    "    >>> xy = lons+lats\n",
    "    >>> '%8.3f %8.3f %8.3f %5.3f %5.3f %5.3f' % xy\n",
    "    ' -92.220  -94.720  -90.370 38.830 39.320 38.750'\n",
    "    \n",
    "    >>> # test datum shifting, installation of extra datum grid files.\n",
    "    >>> p1 = Proj(proj='latlong',datum='WGS84')\n",
    "    >>> x1 = -111.5; y1 = 45.25919444444\n",
    "    >>> p2 = Proj(proj=\"utm\",zone=10,datum='NAD27')\n",
    "    >>> x2, y2 = transform(p1, p2, x1, y1)\n",
    "    \n",
    "    >>> \"%s  %s\" % (str(x2)[:9],str(y2)[:9])\n",
    "    '1402285.9  5076292.4'"
   ]
  },
  {
   "cell_type": "markdown",
   "metadata": {},
   "source": [
    "## GDAL库安装与使用\n",
    "[GDAL](http://www.gdal.org)是一个广泛使用的地理空间数据对象和文件读写的支持库，其本身完全开源，已经被整合到了很多开源软件和商业GIS软件中，上面介绍的Fiona也使用了GDAL中的OGR矢量几何对象支持库。详情查看[GDAL库安装与使用](geospatial/gdal/gdal-geometry.ipynb)。GDAL本身采用C++编写，但可以支持[多种API接口]()，[Python](https://trac.osgeo.org/gdal/wiki/GdalOgrInPython)也可以直接访问。"
   ]
  },
  {
   "cell_type": "markdown",
   "metadata": {},
   "source": [
    "## GIScript安装与使用\n",
    "GIScript是专业GIS脚本引擎，提供数据交换、数据管理、制图和分析等丰富的功能，支持在Jupyter notebook和Spark环境下使用，支持Linux和Windows操作系统，请参考[GIScript安装与使用](geospatial/giscript/giscript_quickstart.ipynb)。"
   ]
  },
  {
   "cell_type": "markdown",
   "metadata": {},
   "source": [
    "## OSM开源地图数据处理\n",
    "OSM是[OpenStreetMap](http://www.openstreetmap.org)的众包开放地图，原始数据采用xml格式进行存储。这里提供的教程包括：[OSM数据下载与结构分析](geospatial/openstreetmap/osm-discovery.ipynb)、[Overpass在线API使用](geospatial/openstreetmap/osm-overpass-node.ipynb)、[OSM流式转为行存储JSON](geospatial/openstreetmap/osm-extract2json.ipynb),所生成的行式存储数据可以在PySpark中数据查询[构建Geometry](geospatial/openstreetmap/osm-spark.ipynb)和进行更高级的组合分析。"
   ]
  },
  {
   "cell_type": "markdown",
   "metadata": {},
   "source": [
    "## SRTM地形高程数据处理\n",
    "这里介绍[SRTM地形高程数据处理](geospatial/srtm/srtm_usgs.ipynb)方法，将实现数据的下载、转为GeoTif、设置投影等基本操作，以及进行渲染立体图、解译等高线等高级功能。"
   ]
  },
  {
   "cell_type": "markdown",
   "metadata": {},
   "source": [
    "## 影像数据处理与挖掘\n",
    "Python中有丰富的影像处理模块，这里以TM影像处理为例，进行影像处理方法的介绍。影像的高级处理、土地分类、对象识别、机器学习等将在后续的专题中另行介绍。  \n",
    "\n",
    "[Rasterio](https://github.com/mapbox/rasterio.git)是读写地理空间信息栅格数据集的工具。Rasterio采用GDAL进行文件I/O和栅格文件格式的操作。典型功能是接受和返回Numpy的ndarray数据对象。Rasterio设计为提高地理空间栅格文件处理的生产率，让其处理变得更有趣。"
   ]
  }
 ],
 "metadata": {
  "kernelspec": {
   "display_name": "Python 3",
   "language": "python",
   "name": "python3"
  },
  "language_info": {
   "codemirror_mode": {
    "name": "ipython",
    "version": 3
   },
   "file_extension": ".py",
   "mimetype": "text/x-python",
   "name": "python",
   "nbconvert_exporter": "python",
   "pygments_lexer": "ipython3",
   "version": "3.5.1"
  }
 },
 "nbformat": 4,
 "nbformat_minor": 0
}
