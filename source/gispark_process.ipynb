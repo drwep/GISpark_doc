{
 "cells": [
  {
   "cell_type": "markdown",
   "metadata": {},
   "source": [
    "# 地理空间信息数据处理\n",
    "\n",
    "## 地理空间数据格式\n",
    "\n",
    "* [GeoJSON 规范](geospatial/geojson/geojson.md)\n",
    "* [GeoJSON 编程](geospatial/geojson/pygeojson.md)\n",
    "* [空间数据CSV格式](geospatial/geocsv.md)\n",
    "\n",
    "## 几何对象与地图绘制\n",
    "\n",
    "* [Matplotlib绘制地图](geospatial/mpl_basemap.md)\n",
    "* [GeoPandas内存数据集](geospatial/geoagebra.md)\n",
    "* [Shapely几何对象结构](geospatial/shapely.md)\n",
    "* [Fiona几何计算操作](geospatial/fiona.md)\n",
    "\n",
    "## GDAL库安装与使用\n",
    "[GDAL库安装与使用](geospatial/gdal-geometry.md)  \n",
    "GDAL的Geometry使用:http://nbviewer.jupyter.org/github/supergis/git_notebook/blob/master/gdal/gdal-geometry.ipynb\n",
    "\n",
    "## GIScript安装与使用\n",
    "    [GIScript安装与使用](geospatial/giscript/giscript_quickstart.md)\n",
    "\n",
    "## OSM开源地图数据处理\n",
    "* [OSM数据下载与结构分析](geospatial/openstreetmap/osm-discovery.md)\n",
    "* [Overpass在线API使用](geospatial/openstreetmap/osm-overpass-node.md)\n",
    "* [OSM流式转为行存储JSON](geospatial/openstreetmap/osm-extract2json.md)\n",
    "* [OSM构建Geometry](geospatial/openstreetmap/osm-spark.md)\n",
    "* PySpark中数据查询\n",
    "\n",
    "## SRTM地形高程数据处理\n",
    "* [SRTM地形高程数据处理](geospatial/srtm/srtm_usgs.md)\n",
    "\n",
    "## 影像数据处理与挖掘\n",
    "    以TM影像处理为例。"
   ]
  }
 ],
 "metadata": {
  "kernelspec": {
   "display_name": "Python 3",
   "language": "python",
   "name": "python3"
  },
  "language_info": {
   "codemirror_mode": {
    "name": "ipython",
    "version": 3
   },
   "file_extension": ".py",
   "mimetype": "text/x-python",
   "name": "python",
   "nbconvert_exporter": "python",
   "pygments_lexer": "ipython3",
   "version": "3.5.1"
  }
 },
 "nbformat": 4,
 "nbformat_minor": 0
}
