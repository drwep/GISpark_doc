{
 "cells": [
  {
   "cell_type": "code",
   "execution_count": 3,
   "metadata": {
    "collapsed": false
   },
   "outputs": [
    {
     "name": "stderr",
     "output_type": "stream",
     "text": [
      "Loading required package: sp\n",
      "Checking rgeos availability: FALSE\n",
      " \tNote: when rgeos is not available, polygon geometry \tcomputations in maptools depend on gpclib,\n",
      " \twhich has a restricted licence. It is disabled by default;\n",
      " \tto enable gpclib, type gpclibPermit()\n"
     ]
    }
   ],
   "source": [
    "library(maptools)"
   ]
  },
  {
   "cell_type": "code",
   "execution_count": 2,
   "metadata": {
    "collapsed": false
   },
   "outputs": [
    {
     "ename": "ERROR",
     "evalue": "Error in library(\"rgdal\"): there is no package called ‘rgdal’\n",
     "output_type": "error",
     "traceback": [
      "Error in library(\"rgdal\"): there is no package called ‘rgdal’\n"
     ]
    },
    {
     "ename": "ERROR",
     "evalue": "Error in eval(expr, envir, enclos): File not found\n",
     "output_type": "error",
     "traceback": [
      "Error in eval(expr, envir, enclos): File not found\n"
     ]
    }
   ],
   "source": [
    "# RGDAL Load Shape File Example\n",
    "# 02 November 2015\n",
    "# Donald R. Mackert\n",
    "\n",
    "# Load the library rgdal\n",
    "# Assumes the rgdal package is installed install.packages('rgdal')\n",
    "\n",
    "library(\"rgdal\")\n",
    "\n",
    "# Set the data directory\n",
    "# The US Administrative Boundaries from http://www.gadm.org/ will be used\n",
    "\n",
    "# Set the data directory\n",
    "\n",
    "dataDirectory <- \"../data/Shape\"\n",
    "\n",
    "# Set the shape file name - USA_adm1.shp\n",
    "# This the US administrative boundary one file\n",
    "\n",
    "shapeName <- \"countries.shp\"\n",
    "\n",
    "# Create the filename\n",
    "\n",
    "fileName <- paste(dataDirectory, \"/\", shapeName, sep = \"\")\n",
    "\n",
    "# Test to see if the file exists\n",
    "\n",
    "if(file.exists(fileName)) {\n",
    "      \n",
    "      # Get the layer names\n",
    "      \n",
    "      fileLayers <- ogrListLayers(dsn = fileName)\n",
    "      \n",
    "      # Get the file information for the first layer\n",
    "      \n",
    "      fileInfo <- ogrInfo(dsn = fileName, fileLayers[1])\n",
    "      \n",
    "      # Load the file for the first layer\n",
    "      \n",
    "      fileData <- readOGR(dsn = fileName, fileLayers[1])\n",
    "      \n",
    "} else {\n",
    "      \n",
    "      stop(\"File not found\")\n",
    "      \n",
    "}"
   ]
  }
 ],
 "metadata": {
  "kernelspec": {
   "display_name": "R",
   "language": "R",
   "name": "ir"
  },
  "language_info": {
   "codemirror_mode": "r",
   "file_extension": ".r",
   "mimetype": "text/x-r-source",
   "name": "R",
   "pygments_lexer": "r",
   "version": "3.2.2"
  }
 },
 "nbformat": 4,
 "nbformat_minor": 0
}
