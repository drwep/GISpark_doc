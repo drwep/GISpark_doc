{
 "cells": [
  {
   "cell_type": "markdown",
   "metadata": {},
   "source": [
    "# Shapely\n",
    "[Shapely](http://toblerity.org/shapely/project.html)-Manipulation and analysis of geometric objects in the Cartesian plane.\n",
    "\n",
    "<img src=\"http://farm3.staticflickr.com/2738/4511827859_b5822043b7_o_d.png\" />\n",
    "\n",
    "Shapely is a BSD-licensed Python package for manipulation and analysis of planar geometric objects. It is based on the widely deployed GEOS (the engine of PostGIS) and JTS (from which GEOS is ported) libraries. Shapely is not concerned with data formats or coordinate systems, but can be readily integrated with packages that are. For more details, see:\n",
    "\n",
    "    Shapely manual\n",
    "    Shapely example apps\n",
    "\n",
    "## Requirements\n",
    "\n",
    "Shapely 1.3 requires\n",
    "\n",
    "    Python >=2.6 (including Python 3.x)\n",
    "    libgeos_c >=3.1 (3.0 and below have not been tested, YMMV)\n",
    "\n",
    "## Installation\n",
    "\n",
    "Windows users should use the executable installer, which contains the required GEOS DLL. Other users should acquire libgeos_c by any means, make sure that it is on the system library path, and install from the Python package index:\n",
    "\n",
    "$ pip install Shapely\n",
    "\n",
    "or from a source distribution with the setup script:\n",
    "\n",
    "$ python setup.py install\n",
    "\n",
    "* Warning\n",
    "\n",
    "Windows users: do not under any circumstances use pip (or easy_install) to uninstall Shapely versions < 1.2.17. Due to the way Shapely used to install its GEOS DLL and a distribute or setuptools bug, your Python installation may be broken by an uninstall command. Shapely 1.2.17 will uninstall safely.\n",
    "\n",
    "## Usage\n",
    "Here is the canonical example of building an approximately circular patch by buffering a point:"
   ]
  },
  {
   "cell_type": "code",
   "execution_count": 2,
   "metadata": {
    "collapsed": false
   },
   "outputs": [
    {
     "data": {
      "image/svg+xml": [
       "<svg xmlns=\"http://www.w3.org/2000/svg\" xmlns:xlink=\"http://www.w3.org/1999/xlink\" width=\"100.0\" height=\"100.0\" viewBox=\"-10.8 -10.8 21.6 21.6\" preserveAspectRatio=\"xMinYMin meet\"><g transform=\"matrix(1,0,0,-1,0,0.0)\"><path fill-rule=\"evenodd\" fill=\"#66cc99\" stroke=\"#555555\" stroke-width=\"0.43200000000000005\" opacity=\"0.6\" d=\"M 10.0,0.0 L 9.95184726672197,-0.980171403295605 L 9.807852804032306,-1.9509032201612808 L 9.56940335732209,-2.902846772544621 L 9.23879532511287,-3.826834323650894 L 8.819212643483553,-4.713967368259972 L 8.314696123025456,-5.555702330196017 L 7.730104533627374,-6.343932841636449 L 7.071067811865481,-7.071067811865469 L 6.343932841636462,-7.7301045336273635 L 5.555702330196031,-8.314696123025447 L 4.713967368259986,-8.819212643483546 L 3.8268343236509086,-9.238795325112862 L 2.902846772544636,-9.569403357322084 L 1.9509032201612964,-9.807852804032303 L 0.9801714032956209,-9.951847266721966 L 1.6155445744325867e-14,-10.0 L -0.9801714032955888,-9.95184726672197 L -1.9509032201612646,-9.807852804032308 L -2.902846772544605,-9.569403357322093 L -3.8268343236508784,-9.238795325112875 L -4.713967368259957,-8.81921264348356 L -5.555702330196005,-8.314696123025463 L -6.343932841636439,-7.730104533627382 L -7.071067811865462,-7.071067811865488 L -7.730104533627359,-6.343932841636468 L -8.314696123025444,-5.555702330196036 L -8.819212643483542,-4.71396736825999 L -9.238795325112862,-3.8268343236509113 L -9.569403357322084,-2.9028467725446365 L -9.807852804032303,-1.9509032201612948 L -9.951847266721968,-0.9801714032956171 L -10.0,-1.0106430996148605e-14 L -9.95184726672197,0.980171403295597 L -9.807852804032306,1.950903220161275 L -9.569403357322091,2.902846772544617 L -9.23879532511287,3.826834323650892 L -8.819212643483553,4.713967368259972 L -8.314696123025454,5.55570233019602 L -7.730104533627371,6.343932841636453 L -7.071067811865477,7.071067811865475 L -6.343932841636459,7.730104533627367 L -5.55570233019603,8.314696123025447 L -4.713967368259987,8.819212643483546 L -3.8268343236509117,9.238795325112862 L -2.902846772544641,9.569403357322084 L -1.9509032201613041,9.8078528040323 L -0.980171403295631,9.951847266721966 L -2.848232278972479e-14,10.0 L 0.9801714032955743,9.951847266721972 L 1.9509032201612482,9.807852804032311 L 2.902846772544587,9.569403357322098 L 3.826834323650859,9.238795325112884 L 4.713967368259937,8.81921264348357 L 5.555702330195982,8.31469612302548 L 6.3439328416364145,7.730104533627403 L 7.0710678118654355,7.071067811865515 L 7.730104533627332,6.343932841636501 L 8.314696123025417,5.555702330196074 L 8.81921264348352,4.713967368260034 L 9.238795325112841,3.826834323650962 L 9.569403357322066,2.9028467725446925 L 9.80785280403229,1.950903220161357 L 9.95184726672196,0.9801714032956848 L 10.0,8.238535137130597e-14 L 10.0,0.0 z\" /></g></svg>"
      ],
      "text/plain": [
       "<shapely.geometry.polygon.Polygon at 0x7f80746c0d68>"
      ]
     },
     "execution_count": 2,
     "metadata": {},
     "output_type": "execute_result"
    }
   ],
   "source": [
    "from shapely.geometry import Point\n",
    "\n",
    "patch = Point(0.0, 0.0).buffer(10.0)\n",
    "patch\n",
    "#<shapely.geometry.polygon.Polygon object at 0x...>"
   ]
  },
  {
   "cell_type": "code",
   "execution_count": 3,
   "metadata": {
    "collapsed": false
   },
   "outputs": [
    {
     "data": {
      "text/plain": [
       "313.6548490545939"
      ]
     },
     "execution_count": 3,
     "metadata": {},
     "output_type": "execute_result"
    }
   ],
   "source": [
    "patch.area\n",
    "#313.65484905459385"
   ]
  },
  {
   "cell_type": "markdown",
   "metadata": {},
   "source": [
    "See the manual for comprehensive usage snippets and the dissolve.py and intersect.py example apps.\n",
    "Integration\n",
    "\n",
    "Shapely does not read or write data files, but it can serialize and deserialize using several well known formats and protocols. The shapely.wkb and shapely.wkt modules provide dumpers and loaders inspired by Python’s pickle module.:\n",
    "\n",
    ">>> from shapely.wkt import dumps, loads\n",
    ">>> dumps(loads('POINT (0 0)'))\n",
    "'POINT (0.0000000000000000 0.0000000000000000)'\n",
    "\n",
    "All linear objects, such as the rings of a polygon (like patch above), provide the Numpy array interface.:\n",
    "\n",
    ">>> from numpy import asarray\n",
    ">>> ag = asarray(patch.exterior)\n",
    ">>> ag\n",
    "array([[  1.00000000e+01,   0.00000000e+00],\n",
    "       [  9.95184727e+00,  -9.80171403e-01],\n",
    "       [  9.80785280e+00,  -1.95090322e+00],\n",
    "       ...\n",
    "       [  1.00000000e+01,   0.00000000e+00]])\n",
    "\n",
    "That yields a Numpy array of [x, y] arrays. This is not always exactly what one wants for plotting shapes with Matplotlib (for example), so Shapely 1.2 adds a xy property for obtaining separate arrays of coordinate x and y values.:\n",
    "\n",
    ">>> x, y = patch.exterior.xy\n",
    ">>> ax = asarray(x)\n",
    ">>> ax\n",
    "array([  1.00000000e+01,   9.95184727e+00,   9.80785280e+00,  ...])\n",
    "\n",
    "Numpy arrays can also be adapted to Shapely linestrings:\n",
    "\n",
    ">>> from shapely.geometry import asLineString\n",
    ">>> asLineString(ag).length\n",
    "62.806623139095073\n",
    ">>> asLineString(ag).wkt\n",
    "'LINESTRING (10.0000000000000000 0.0000000000000000, ...)'\n",
    "\n",
    "Shapely can also integrate with other Python GIS packages using data modeled after GeoJSON.\n",
    "\n",
    ">>> import json\n",
    ">>> from shapely.geometry import mapping, shape\n",
    ">>> s = shape(json.loads('{\"type\": \"Point\", \"coordinates\": [0.0, 0.0]}'))\n",
    ">>> s\n",
    "<shapely.geometry.point.Point object at 0x...>\n",
    ">>> print(json.dumps(mapping(s)))\n",
    "{\"type\": \"Point\", \"coordinates\": [0.0, 0.0]}\n",
    "\n",
    "Development and Testing\n",
    "\n",
    "Dependecies for developing Shapely are listed in requirements-dev.txt. Cython and Numpy are not required for production installations, only for development. Use of a virtual environment is strongly recommended.:\n",
    "\n",
    "$ virtualenv .\n",
    "$ source bin/activate\n",
    "(env)$ pip install -r requirements-dev.txt\n",
    "(env)$ python setup.py develop\n",
    "\n",
    "Shapely uses a Zope-stye suite of unittests and doctests, exercised via setup.py.:\n",
    "\n",
    "(env)$ python setup.py test\n",
    "\n",
    "Nosetests won’t run the tests properly; Zope doctest suites are not currently supported well by nose.\n",
    "Support\n",
    "\n",
    "Please discuss Shapely with us at http://lists.gispython.org/mailman/listinfo/community.\n",
    "\n",
    "Bugs may be reported at https://github.com/Toblerity/Shapely.\n",
    "Credits\n",
    "\n",
    "Shapely is written by:\n",
    "\n",
    "    Sean Gillies\n",
    "    Aron Bierbaum\n",
    "    Kai Lautaportti\n",
    "    Oliver Tonnhofer\n",
    "\n",
    "Patches contributed by:\n",
    "\n",
    "    Allan Adair (https://github.com/allanadair)\n",
    "    Howard Butler\n",
    "    Gabi Davar (https://github.com/mindw)\n",
    "    Phil Elson (https://github.com/pelson)\n",
    "    Johan Euphrosine (https://github.com/proppy)\n",
    "    Bertrand Gervais (https://github.com/BertrandGervais)\n",
    "    Marc Jansen (https://github.com/marcjansen)\n",
    "    Kelsey Jordahl (https://github.com/kjordahl)\n",
    "    Frédéric Junod\n",
    "    Thomas Kluyver (https://github.com/takluyver)\n",
    "    Eric Lemoine\n",
    "    Naveen Michaud-Agrawal (https://github.com/nmichaud)\n",
    "    psagers https://github.com/psagers\n",
    "    Jeethu Rao (https://github.com/jeethu)\n",
    "    Benjamin Root (https://github.com/WeatherGod)\n",
    "    Jason Sanford (https://github.com/JasonSanford)\n",
    "    Johannes Schönberger (https://github.com/ahojnnes)\n",
    "    Jonathan Tartley\n",
    "    Kristian Thy\n",
    "    Mike Toews (https://github.com/mwtoews)\n",
    "    Maarten Vermeyen (https://github.com/maarten-vermeyen)\n",
    "\n",
    "See also: https://github.com/Toblerity/Shapely/graphs/contributors.\n",
    "\n",
    "Additional help from:\n",
    "\n",
    "    Justin Bronn (GeoDjango) for ctypes inspiration\n",
    "    Martin Davis (JTS)\n",
    "    Jaakko Salli for the Windows distributions\n",
    "    Sandro Santilli, Mateusz Loskot, Paul Ramsey, et al (GEOS Project)\n",
    "\n",
    "Major portions of this work were supported by a grant (for Pleiades) from the U.S. National Endowment for the Humanities (http://www.neh.gov)."
   ]
  }
 ],
 "metadata": {
  "kernelspec": {
   "display_name": "Python 3",
   "language": "python",
   "name": "python3"
  },
  "language_info": {
   "codemirror_mode": {
    "name": "ipython",
    "version": 3
   },
   "file_extension": ".py",
   "mimetype": "text/x-python",
   "name": "python",
   "nbconvert_exporter": "python",
   "pygments_lexer": "ipython3",
   "version": "3.5.1"
  }
 },
 "nbformat": 4,
 "nbformat_minor": 0
}
