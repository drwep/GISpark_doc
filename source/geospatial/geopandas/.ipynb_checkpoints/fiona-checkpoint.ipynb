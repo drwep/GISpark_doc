{
 "cells": [
  {
   "cell_type": "markdown",
   "metadata": {},
   "source": [
    "# Fiona\n",
    "\n",
    "\n",
    "[Fiona](http://toblerity.org/fiona/README.html#usage) is OGR’s neat, nimble, no-nonsense API for Python programmers.\n",
    "https://travis-ci.org/Toblerity/Fiona.png?branch=master\n",
    "\n",
    "Fiona is designed to be simple and dependable. It focuses on reading and writing data in standard Python IO style and relies upon familiar Python types and protocols such as files, dictionaries, mappings, and iterators instead of classes specific to OGR. Fiona can read and write real-world data using multi-layered GIS formats and zipped virtual file systems and integrates readily with other Python GIS packages such as pyproj, Rtree, and Shapely.\n",
    "\n",
    "## Usage\n",
    "\n",
    "### Collections\n",
    "Records are read from and written to file-like Collection objects returned from the fiona.open() function. Records are mappings modeled on the GeoJSON format. They don’t have any spatial methods of their own, so if you want to do anything fancy with them you will probably need Shapely or something like it. Here is an example of using Fiona to read some records from one data file, change their geometry attributes, and write them to a new data file."
   ]
  },
  {
   "cell_type": "code",
   "execution_count": null,
   "metadata": {
    "collapsed": true
   },
   "outputs": [],
   "source": [
    "import fiona\n",
    "\n",
    "# Register format drivers with a context manager\n",
    "with fiona.drivers():\n",
    "    # Open a file for reading. We'll call this the \"source.\"\n",
    "    with fiona.open('docs/data/test_uk.shp') as source:\n",
    "\n",
    "        # The file we'll write to, the \"sink\", must be initialized\n",
    "        # with a coordinate system, a format driver name, and\n",
    "        # a record schema.  We can get initial values from the open\n",
    "        # collection's ``meta`` property and then modify them as\n",
    "        # desired.\n",
    "\n",
    "        meta = source.meta\n",
    "        meta['schema']['geometry'] = 'Point'\n",
    "\n",
    "        # Open an output file, using the same format driver and\n",
    "        # coordinate reference system as the source. The ``meta``\n",
    "        # mapping fills in the keyword parameters of fiona.open().\n",
    "\n",
    "        with fiona.open('test_write.shp', 'w', **meta) as sink:\n",
    "\n",
    "            # Process only the records intersecting a box.\n",
    "            for f in source.filter(bbox=(-5.0, 55.0, 0.0, 60.0)):\n",
    "\n",
    "                # Get a point on the boundary of the record's\n",
    "                # geometry.\n",
    "\n",
    "                f['geometry'] = {\n",
    "                    'type': 'Point',\n",
    "                    'coordinates': f['geometry']['coordinates'][0][0]}\n",
    "\n",
    "                # Write the record out.\n",
    "\n",
    "                sink.write(f)\n",
    "\n",
    "    # The sink's contents are flushed to disk and the file is\n",
    "    # closed when its ``with`` block ends. This effectively\n",
    "    # executes ``sink.flush(); sink.close()``.\n",
    "\n",
    "# At the end of the ``with fiona.drivers()`` block, context\n",
    "# manager exits and all drivers are de-registered."
   ]
  },
  {
   "cell_type": "markdown",
   "metadata": {},
   "source": [
    "The fiona.drivers() function and context manager are new in 1.1. The example above shows the way to use it to register and de-register drivers in a deterministic and efficient way. Code written for Fiona 1.0 will continue to work: opened collections may manage the global driver registry if no other manager is present.\n",
    "Reading Multilayer data\n",
    "\n",
    "Collections can also be made from single layers within multilayer files or directories of data. The target layer is specified by name or by its integer index within the file or directory. The fiona.listlayers() function provides an index ordered list of layer names."
   ]
  },
  {
   "cell_type": "code",
   "execution_count": null,
   "metadata": {
    "collapsed": true
   },
   "outputs": [],
   "source": [
    "with fiona.drivers():\n",
    "\n",
    "    for layername in fiona.listlayers('docs/data'):\n",
    "        with fiona.open('docs/data', layer=layername) as c:\n",
    "            print(layername, len(c))\n",
    "\n",
    "# Output:\n",
    "# test_uk 48"
   ]
  },
  {
   "cell_type": "markdown",
   "metadata": {},
   "source": [
    "Layer can also be specified by index. In this case, layer=0 and layer='test_uk' specify the same layer in the data file or directory."
   ]
  },
  {
   "cell_type": "code",
   "execution_count": null,
   "metadata": {
    "collapsed": true
   },
   "outputs": [],
   "source": [
    "with fiona.drivers():\n",
    "\n",
    "    for i, layername in enumerate(fiona.listlayers('docs/data')):\n",
    "        with fiona.open('docs/data', layer=i) as c:\n",
    "            print(i, layername, len(c))\n",
    "\n",
    "# Output:\n",
    "# 0 test_uk 48"
   ]
  },
  {
   "cell_type": "markdown",
   "metadata": {},
   "source": [
    "### Writing Multilayer data\n",
    "\n",
    "Multilayer data can be written as well. Layers must be specified by name when writing."
   ]
  },
  {
   "cell_type": "code",
   "execution_count": null,
   "metadata": {
    "collapsed": true
   },
   "outputs": [],
   "source": [
    "with fiona.drivers():\n",
    "\n",
    "    with open('docs/data/test_uk.shp') as c:\n",
    "        meta = c.meta\n",
    "        f = next(c)\n",
    "\n",
    "    with fiona.open('/tmp/foo', 'w', layer='bar', **meta) as c:\n",
    "        c.write(f)\n",
    "\n",
    "    print(fiona.listlayers('/tmp/foo'))\n",
    "    # Output: ['bar']\n",
    "\n",
    "    with fiona.open('/tmp/foo', layer='bar') as c:\n",
    "        print(len(c))\n",
    "        f = next(c)\n",
    "        print(f['geometry']['type'])\n",
    "        print(f['properties'])\n",
    "\n",
    "    # Output:\n",
    "    # 1\n",
    "    # Polygon\n",
    "    # {'FIPS_CNTRY': 'UK', 'POP_CNTRY': 60270708.0, 'CAT': 232.0,\n",
    "    #  'AREA': 244820.0, 'CNTRY_NAME': 'United Kingdom'}"
   ]
  },
  {
   "cell_type": "markdown",
   "metadata": {},
   "source": [
    "A view of the /tmp/foo directory will confirm the creation of the new files.\n",
    "\n",
    "$ ls /tmp/foo\n",
    "bar.cpg bar.dbf bar.prj bar.shp bar.shx\n",
    "\n",
    "Collections from archives and virtual file systems\n",
    "\n",
    "Zip and Tar archives can be treated as virtual filesystems and Collections can be made from paths and layers within them. In other words, Fiona lets you read and write zipped Shapefiles."
   ]
  },
  {
   "cell_type": "code",
   "execution_count": null,
   "metadata": {
    "collapsed": true
   },
   "outputs": [],
   "source": [
    "with fiona.drivers():\n",
    "\n",
    "    for i, layername in enumerate(\n",
    "            fiona.listlayers(\n",
    "                '/',\n",
    "                vfs='zip://docs/data/test_uk.zip')):\n",
    "        with fiona.open(\n",
    "                '/',\n",
    "                vfs='zip://docs/data/test_uk.zip',\n",
    "                layer=i) as c:\n",
    "            print(i, layername, len(c))\n",
    "\n",
    "# Output:\n",
    "# 0 test_uk 48"
   ]
  },
  {
   "cell_type": "markdown",
   "metadata": {},
   "source": [
    "Fiona CLI\n",
    "\n",
    "Fiona’s command line interface, named “fio”, is documented at docs/cli.rst. Its fio info pretty prints information about a data file.\n",
    "\n",
    "$ fio info docs/data/test_uk.shp\n",
    "{ 'bbox': (-8.621389, 49.911659, 1.749444, 60.844444),\n",
    "  'count': 48,\n",
    "  'crs': { u'datum': u'WGS84', u'no_defs': True, u'proj': u'longlat'},\n",
    "  'driver': u'ESRI Shapefile',\n",
    "  'schema': { 'geometry': 'Polygon',\n",
    "              'properties': OrderedDict([(u'CAT', 'float:16'), (u'FIPS_CNTRY', 'str:80'), (u'CNTRY_NAME', 'str:80'), (u'AREA', 'float:15.2'), (u'POP_CNTRY', 'float:15.2')])}}\n",
    "\n",
    "Installation\n",
    "\n",
    "Fiona requires Python 2.6, 2.7, 3.3, or 3.4 and GDAL/OGR 1.8+. To build from a source distribution you will need a C compiler and GDAL and Python development headers and libraries (libgdal1-dev for Debian/Ubuntu, gdal-dev for CentOS/Fedora).\n",
    "\n",
    "To build from a repository copy, you will also need Cython to build C sources from the project’s .pyx files. See the project’s requirements-dev.txt file for guidance.\n",
    "\n",
    "The popular Kyngchaos GDAL frameworks will satisfy the GDAL/OGR dependency for OS X. Fiona’s author uses Homebrew (brew install gdal) on OS X.\n",
    "Python Requirements\n",
    "\n",
    "Fiona depends on the modules six and argparse. The latter is standard in Python 2.7+. Easy_install and pip will fetch these requirements for you, but users installing Fiona from a Windows installer must get them separately.\n",
    "Unix-like systems\n",
    "\n",
    "Assuming you’re using a virtualenv (if not, skip to the 4th command) and GDAL/OGR libraries, headers, and gdal-config program are installed to well known locations on your system via your system’s package manager (brew install gdal using Homebrew on OS X), installation is this simple:\n",
    "\n",
    "$ mkdir fiona_env\n",
    "$ virtualenv fiona_env\n",
    "$ source fiona_env/bin/activate\n",
    "(fiona_env)$ pip install Fiona\n",
    "\n",
    "If gdal-config is not available or if GDAL/OGR headers and libs aren’t installed to a well known location, you must set include dirs, library dirs, and libraries options via the setup.cfg file or setup command line as shown below (using git):\n",
    "\n",
    "(fiona_env)$ git clone git://github.com/Toblerity/Fiona.git\n",
    "(fiona_env)$ cd Fiona\n",
    "(fiona_env)$ python setup.py build_ext -I/path/to/gdal/include -L/path/to/gdal/lib -lgdal install\n",
    "\n",
    "Windows\n",
    "\n",
    "Binary installers are available at http://www.lfd.uci.edu/~gohlke/pythonlibs/#fiona and coming eventually to PyPI.\n",
    "Development and testing\n",
    "\n",
    "Building from the source requires Cython. Tests require Nose. If the GDAL/OGR libraries, headers, and gdal-config program are installed to well known locations on your system (via your system’s package manager), you can do this:\n",
    "\n",
    "(fiona_env)$ git clone git://github.com/Toblerity/Fiona.git\n",
    "(fiona_env)$ cd Fiona\n",
    "(fiona_env)$ python setup.py develop\n",
    "(fiona_env)$ nosetests\n",
    "\n",
    "If you have a non-standard environment, you’ll need to specify the include and lib dirs and GDAL library on the command line:\n",
    "\n",
    "(fiona_env)$ python setup.py build_ext -I/path/to/gdal/include -L/path/to/gdal/lib -lgdal develop\n",
    "(fiona_env)$ nosetests"
   ]
  }
 ],
 "metadata": {
  "kernelspec": {
   "display_name": "Python 3",
   "language": "python",
   "name": "python3"
  },
  "language_info": {
   "codemirror_mode": {
    "name": "ipython",
    "version": 3
   },
   "file_extension": ".py",
   "mimetype": "text/x-python",
   "name": "python",
   "nbconvert_exporter": "python",
   "pygments_lexer": "ipython3",
   "version": "3.5.1"
  }
 },
 "nbformat": 4,
 "nbformat_minor": 0
}
