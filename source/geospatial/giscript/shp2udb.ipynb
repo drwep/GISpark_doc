{
 "cells": [
  {
   "cell_type": "markdown",
   "metadata": {},
   "source": [
    "# GIScript与GDAL的联合制图教程。\n",
    "　本交互程序演示使用GDAL将SRTM转为GeoTIF,并生成等高线进行制图。\n",
    " >1、下载SRTM高程数据。  \n",
    " 2、将*.hgt数据转为GeoTif。  \n",
    " 3、产生立体渲染图。  \n",
    " 4、产生等高线。  \n",
    " 5、转为UDB，配图输出。  \n",
    " 6、在SuperMap iDesktop Cross中制图。"
   ]
  },
  {
   "cell_type": "code",
   "execution_count": null,
   "metadata": {
    "collapsed": true
   },
   "outputs": [],
   "source": []
  },
  {
   "cell_type": "code",
   "execution_count": null,
   "metadata": {
    "collapsed": true
   },
   "outputs": [],
   "source": []
  }
 ],
 "metadata": {
  "kernelspec": {
   "display_name": "Python 3",
   "language": "python",
   "name": "python3"
  },
  "language_info": {
   "codemirror_mode": {
    "name": "ipython",
    "version": 3
   },
   "file_extension": ".py",
   "mimetype": "text/x-python",
   "name": "python",
   "nbconvert_exporter": "python",
   "pygments_lexer": "ipython3",
   "version": "3.5.1"
  }
 },
 "nbformat": 4,
 "nbformat_minor": 0
}
