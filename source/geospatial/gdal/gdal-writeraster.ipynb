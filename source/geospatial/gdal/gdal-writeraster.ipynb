{
 "cells": [
  {
   "cell_type": "code",
   "execution_count": 4,
   "metadata": {
    "collapsed": true
   },
   "outputs": [],
   "source": [
    "#!/usr/bin/python\n",
    "#coding=utf-8"
   ]
  },
  {
   "cell_type": "markdown",
   "metadata": {},
   "source": [
    "# 用GDAL写入栅格数据文件\n",
    "by [openthings@163.com](http://my.oschina.net/u/2306127/blog?catalog=3420733), 2016-04-25."
   ]
  },
  {
   "cell_type": "code",
   "execution_count": 5,
   "metadata": {
    "collapsed": true
   },
   "outputs": [],
   "source": [
    "from osgeo import gdal, gdalconst\n",
    "from osgeo.gdalconst import *\n",
    "import gdal, gdalconst"
   ]
  },
  {
   "cell_type": "markdown",
   "metadata": {},
   "source": [
    "GDAL (http://www.gdal.org) 原生支持超过100种栅格数据类型，涵盖所有主流GIS与RS数据格式，包括:\n",
    "*   TIFF, GeoTIFF, JPEG, JPEG2000, PNG, GIF, BMP, ECW, MrSID    \n",
    "*   HDF4, HDF5  \n",
    "*   USGS DOQ, USGS DEM  \n",
    "*   GRASS, Idrisi, ENVI, Imagine   \n",
    "*   ArcInfo grids, ArcSDE raster\n",
    "\n",
    "完整的文件格式支持列表可以参考 http://www.gdal.org/formats_list.html"
   ]
  },
  {
   "cell_type": "markdown",
   "metadata": {},
   "source": [
    "#### 以计算NDVI为例\n",
    "NDVI=(NIR-RED)/(NIR+RED),其中NIR为波段3，RED为波段2.\n",
    "\n",
    "编程要点如下：\n",
    "*    将波段3读入数组data3，将波段2读入数组data2\n",
    "*    计算公式为： ndvi = (data3 – data2) / (data3 + data2)\n",
    "*    当data3和data2均为0时（例如用0表示NODATA），会出现被0除的错误，导致程序崩溃。需要用mask配合choose将0值去掉\n",
    "\n",
    "代码如下，仅有4行。"
   ]
  },
  {
   "cell_type": "code",
   "execution_count": 2,
   "metadata": {
    "collapsed": false
   },
   "outputs": [
    {
     "ename": "NameError",
     "evalue": "name 'band2' is not defined",
     "output_type": "error",
     "traceback": [
      "\u001b[1;31m---------------------------------------------------------------------------\u001b[0m",
      "\u001b[1;31mNameError\u001b[0m                                 Traceback (most recent call last)",
      "\u001b[1;32m<ipython-input-2-5ed42d003a6c>\u001b[0m in \u001b[0;36m<module>\u001b[1;34m()\u001b[0m\n\u001b[1;32m----> 1\u001b[1;33m \u001b[0mdata2\u001b[0m \u001b[1;33m=\u001b[0m \u001b[0mband2\u001b[0m\u001b[1;33m.\u001b[0m\u001b[0mReadAsArray\u001b[0m\u001b[1;33m(\u001b[0m\u001b[1;36m0\u001b[0m\u001b[1;33m,\u001b[0m \u001b[1;36m0\u001b[0m\u001b[1;33m,\u001b[0m \u001b[0mcols\u001b[0m\u001b[1;33m,\u001b[0m\u001b[0mrows\u001b[0m\u001b[1;33m)\u001b[0m\u001b[1;33m.\u001b[0m\u001b[0mastype\u001b[0m\u001b[1;33m(\u001b[0m\u001b[0mNumeric\u001b[0m\u001b[1;33m.\u001b[0m\u001b[0mFloat16\u001b[0m\u001b[1;33m)\u001b[0m\u001b[1;33m\u001b[0m\u001b[0m\n\u001b[0m\u001b[0;32m      2\u001b[0m \u001b[0mdata3\u001b[0m \u001b[1;33m=\u001b[0m \u001b[0mband3\u001b[0m\u001b[1;33m.\u001b[0m\u001b[0mReadAsArray\u001b[0m\u001b[1;33m(\u001b[0m\u001b[1;36m0\u001b[0m\u001b[1;33m,\u001b[0m \u001b[1;36m0\u001b[0m\u001b[1;33m,\u001b[0m \u001b[0mcols\u001b[0m\u001b[1;33m,\u001b[0m\u001b[0mrows\u001b[0m\u001b[1;33m)\u001b[0m\u001b[1;33m.\u001b[0m\u001b[0mastype\u001b[0m\u001b[1;33m(\u001b[0m\u001b[0mNumeric\u001b[0m\u001b[1;33m.\u001b[0m\u001b[0mFloat16\u001b[0m\u001b[1;33m)\u001b[0m\u001b[1;33m\u001b[0m\u001b[0m\n\u001b[0;32m      3\u001b[0m \u001b[0mmask\u001b[0m \u001b[1;33m=\u001b[0m \u001b[0mNumeric\u001b[0m\u001b[1;33m.\u001b[0m\u001b[0mgreater\u001b[0m\u001b[1;33m(\u001b[0m\u001b[0mdata3\u001b[0m \u001b[1;33m+\u001b[0m \u001b[0mdata2\u001b[0m\u001b[1;33m,\u001b[0m \u001b[1;36m0\u001b[0m\u001b[1;33m)\u001b[0m\u001b[1;33m\u001b[0m\u001b[0m\n\u001b[0;32m      4\u001b[0m \u001b[0mndvi\u001b[0m \u001b[1;33m=\u001b[0m \u001b[0mNumeric\u001b[0m\u001b[1;33m.\u001b[0m\u001b[0mchoose\u001b[0m\u001b[1;33m(\u001b[0m\u001b[0mmask\u001b[0m\u001b[1;33m,\u001b[0m \u001b[1;33m(\u001b[0m\u001b[1;33m-\u001b[0m\u001b[1;36m99\u001b[0m\u001b[1;33m,\u001b[0m \u001b[1;33m(\u001b[0m\u001b[0mdata3\u001b[0m \u001b[1;33m-\u001b[0m \u001b[0mdata2\u001b[0m\u001b[1;33m)\u001b[0m \u001b[1;33m/\u001b[0m \u001b[1;33m(\u001b[0m\u001b[0mdata3\u001b[0m \u001b[1;33m+\u001b[0m \u001b[0mdata2\u001b[0m\u001b[1;33m)\u001b[0m\u001b[1;33m)\u001b[0m\u001b[1;33m)\u001b[0m\u001b[1;33m\u001b[0m\u001b[0m\n",
      "\u001b[1;31mNameError\u001b[0m: name 'band2' is not defined"
     ]
    }
   ],
   "source": [
    "data2 = band2.ReadAsArray(0, 0, cols,rows).astype(Numeric.Float16)\n",
    "data3 = band3.ReadAsArray(0, 0, cols,rows).astype(Numeric.Float16)\n",
    "mask = Numeric.greater(data3 + data2, 0)\n",
    "ndvi = Numeric.choose(mask, (-99, (data3 - data2) / (data3 + data2)))"
   ]
  },
  {
   "cell_type": "markdown",
   "metadata": {},
   "source": [
    "### 新建栅格数据集\n",
    "#### 将刚才计算得到的数据写入新的栅格数据集之中。\n",
    "* 首先，复制一份数据驱动。\n",
    "driver = inDataset.GetDriver()\n",
    "\n",
    "* 之后，新建数据集。\n",
    "\n",
    "\n",
    "    Create(<filename>, <xsize>, <ysize>, [<bands>], [<GDALDataType>])\n",
    "\n",
    "* 其中bands的默认值为1，GDALDataType的默认类型为GDT_Byte，例如:  \n",
    "outDataset = driver.Create(filename, cols, rows, 1, GDT_Float32)\n",
    "\n",
    "    在这条语句的执行过程中，存储空间已经被分配到硬盘上了。  \n",
    ">#### 在写入之前，还需要先引入波段对象。\n",
    "    outBand = outDataset.GetRasterBand(1)\n",
    "#### 波段对象支持直接写入矩阵（两个参数分别为x向偏移和y向偏移）。\n",
    "    outBand.WriteArray(ndvi, 0, 0)\n",
    "\n",
    "下面的例子采用了逐块写入方法。"
   ]
  },
  {
   "cell_type": "code",
   "execution_count": null,
   "metadata": {
    "collapsed": true
   },
   "outputs": [],
   "source": [
    "xBlockSize = 64\n",
    "yBlockSize = 64\n",
    "for i in range(0, rows, yBlockSize):\n",
    "   if i + yBlockSize < rows:\n",
    "        numRows = yBlockSize\n",
    "   else:\n",
    "        numRows = rowsnumRows = rows –– ii\n",
    "   for j in range(0, cols, xBlockSize):\n",
    "        if j + xBlockSize < cols:\n",
    "             numCols = xBlockSize\n",
    "        else:\n",
    "             numCols = cols – j\n",
    "        data = band.ReadAsArray(j, i, numCols, numRows)\n",
    "        # do calculations here to create outData array\n",
    "        outBand.WriteArray(outData, j, i)"
   ]
  },
  {
   "cell_type": "markdown",
   "metadata": {},
   "source": [
    "#### band对象可以设定NoData值"
   ]
  },
  {
   "cell_type": "code",
   "execution_count": null,
   "metadata": {
    "collapsed": true
   },
   "outputs": [],
   "source": [
    "outBand.SetNoDataValue(-99)"
   ]
  },
  {
   "cell_type": "markdown",
   "metadata": {},
   "source": [
    "#### 还可以读取NoData值"
   ]
  },
  {
   "cell_type": "code",
   "execution_count": null,
   "metadata": {
    "collapsed": true
   },
   "outputs": [],
   "source": [
    "ND = outBand.GetNoDataValue()"
   ]
  },
  {
   "cell_type": "markdown",
   "metadata": {},
   "source": [
    "#### 计算band的统计量。\n",
    "* 首先用FlushCache()把缓存数据写入磁盘。  \n",
    "* 之后用GetStatistics(<approx_ok>, <force>)计算统计量。  \n",
    "* 如果approx_ok=1那么计算是基于pyramid的，如果force=0那么当整幅图都要被重读一遍的时候就不计算统计量了。"
   ]
  },
  {
   "cell_type": "code",
   "execution_count": null,
   "metadata": {
    "collapsed": true
   },
   "outputs": [],
   "source": [
    "outBand.FlushCache()\n",
    "outBand.GetStatistics(0, 1)"
   ]
  },
  {
   "cell_type": "markdown",
   "metadata": {},
   "source": [
    "#### 设定新图的地理参考点。\n",
    "如果新图与另一张图的地理参考信息完全一致，那就很简单了。"
   ]
  },
  {
   "cell_type": "code",
   "execution_count": null,
   "metadata": {
    "collapsed": true
   },
   "outputs": [],
   "source": [
    "geoTransform = inDataset.GetGeoTransform()\n",
    "outDataset.SetGeoTransform(geoTransform )\n",
    "proj = inDataset.GetProjection()\n",
    "outDataset.SetProjection(proj)"
   ]
  },
  {
   "cell_type": "markdown",
   "metadata": {},
   "source": [
    "### 建立pyramids\n",
    "设定Imagine风格的pyramids。"
   ]
  },
  {
   "cell_type": "code",
   "execution_count": null,
   "metadata": {
    "collapsed": true
   },
   "outputs": [],
   "source": [
    "gdal.SetConfigOption('HFA_USE_RRD', 'YES')#强制建立pyramids\n",
    "outDataset.BuildOverviews(overviewlist=[2,4, 8,16,32,64,128])"
   ]
  },
  {
   "cell_type": "markdown",
   "metadata": {},
   "source": [
    "# 图像的拼接\n",
    "对每张图：读取行数和列数，原点(minX,maxY)，像素长，像素宽，并计算坐标范围"
   ]
  },
  {
   "cell_type": "code",
   "execution_count": 6,
   "metadata": {
    "collapsed": false
   },
   "outputs": [
    {
     "ename": "NameError",
     "evalue": "name 'minX1' is not defined",
     "output_type": "error",
     "traceback": [
      "\u001b[1;31m---------------------------------------------------------------------------\u001b[0m",
      "\u001b[1;31mNameError\u001b[0m                                 Traceback (most recent call last)",
      "\u001b[1;32m<ipython-input-6-754ebc3e1544>\u001b[0m in \u001b[0;36m<module>\u001b[1;34m()\u001b[0m\n\u001b[1;32m----> 1\u001b[1;33m \u001b[0mmaxX1\u001b[0m \u001b[1;33m=\u001b[0m \u001b[0mminX1\u001b[0m \u001b[1;33m+\u001b[0m \u001b[1;33m(\u001b[0m\u001b[0mcols1\u001b[0m \u001b[1;33m*\u001b[0m \u001b[0mpixelWidth\u001b[0m\u001b[1;33m)\u001b[0m\u001b[1;33m\u001b[0m\u001b[0m\n\u001b[0m\u001b[0;32m      2\u001b[0m \u001b[0mminY1\u001b[0m \u001b[1;33m=\u001b[0m \u001b[0mmaxY1\u001b[0m \u001b[1;33m+\u001b[0m \u001b[1;33m(\u001b[0m\u001b[0mrows1\u001b[0m \u001b[1;33m*\u001b[0m \u001b[0mpixelHeight\u001b[0m\u001b[1;33m)\u001b[0m\u001b[1;33m\u001b[0m\u001b[0m\n",
      "\u001b[1;31mNameError\u001b[0m: name 'minX1' is not defined"
     ]
    }
   ],
   "source": [
    "maxX1 = minX1 + (cols1 * pixelWidth)\n",
    "minY1 = maxY1 + (rows1 * pixelHeight)"
   ]
  },
  {
   "cell_type": "markdown",
   "metadata": {},
   "source": [
    "#### 计算输出图像的坐标范围"
   ]
  },
  {
   "cell_type": "code",
   "execution_count": null,
   "metadata": {
    "collapsed": true
   },
   "outputs": [],
   "source": [
    "minX = min(minX1, minX2, …) maxX = max(maxX1, maxX2, …)\n",
    "minY = min(minY1, minY2, …) maxY = max(maxY1, maxY2, …)"
   ]
  },
  {
   "cell_type": "markdown",
   "metadata": {},
   "source": [
    "#### 计算输出图像的行数和列数"
   ]
  },
  {
   "cell_type": "code",
   "execution_count": null,
   "metadata": {
    "collapsed": true
   },
   "outputs": [],
   "source": [
    "cols = int((maxX – minX) / pixelWidth)\n",
    "rows = int((maxY – minY) / abs(pixelHeight)"
   ]
  },
  {
   "cell_type": "markdown",
   "metadata": {},
   "source": [
    "#### 建立并初始化输出图像\n",
    "对每张待拼接的图：计算offset值。"
   ]
  },
  {
   "cell_type": "code",
   "execution_count": null,
   "metadata": {
    "collapsed": true
   },
   "outputs": [],
   "source": [
    "xOffset1 = int((minX1 - minX) / pixelWidth)\n",
    "yOffset1 = int((maxY1 - maxY) / pixelHeight)"
   ]
  },
  {
   "cell_type": "markdown",
   "metadata": {},
   "source": [
    "#### 读入数据并按照上面计算的offset写入\n",
    "\n",
    "对输出图像，计算统计量。  \n",
    "设定geotransform：\n",
    "[minX, pixelWidth, 0, maxY, 0, pixelHeight]\n",
    "\n",
    "设定projection，建立pyramids。"
   ]
  },
  {
   "cell_type": "code",
   "execution_count": null,
   "metadata": {
    "collapsed": true
   },
   "outputs": [],
   "source": []
  }
 ],
 "metadata": {
  "kernelspec": {
   "display_name": "Python 3",
   "language": "python",
   "name": "python3"
  },
  "language_info": {
   "codemirror_mode": {
    "name": "ipython",
    "version": 3
   },
   "file_extension": ".py",
   "mimetype": "text/x-python",
   "name": "python",
   "nbconvert_exporter": "python",
   "pygments_lexer": "ipython3",
   "version": "3.5.1"
  }
 },
 "nbformat": 4,
 "nbformat_minor": 0
}
