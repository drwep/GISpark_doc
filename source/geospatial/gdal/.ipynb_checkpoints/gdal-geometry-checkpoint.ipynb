{
 "cells": [
  {
   "cell_type": "markdown",
   "metadata": {},
   "source": [
    "# OGR-Geometry and Projection\n",
    "\n",
    "几何对象与地图投影的使用。\n",
    "* OGR矢量库：简单的矢量数据读写，是GDAL的一部分。\n",
    "* 相关模块:\n",
    "    Numeric：高速的数组处理，对栅格数据尤其重要\n",
    "    NumPy：下一代的Numeric\n",
    "    更强大的gis库 http://www.gispython.org/\n",
    "\n",
    "### 导入库"
   ]
  },
  {
   "cell_type": "code",
   "execution_count": 2,
   "metadata": {
    "collapsed": true
   },
   "outputs": [],
   "source": [
    "#!/usr/bin/python\n",
    "#coding=GB2312"
   ]
  },
  {
   "cell_type": "code",
   "execution_count": 47,
   "metadata": {
    "collapsed": true
   },
   "outputs": [],
   "source": [
    "from osgeo import gdal, gdalconst\n",
    "from osgeo.gdalconst import *\n",
    "import gdal, gdalconst\n",
    "\n",
    "from osgeo import ogr"
   ]
  },
  {
   "cell_type": "markdown",
   "metadata": {
    "collapsed": false
   },
   "source": [
    "## 建立新的几何对象\n",
    "\n",
    "建立空的geometry对象：ogr.Geometry，定义各种不同的geometry使用的方法是不一样的(point, line, polygon, etc)。\n",
    "\n",
    "### 新建点对象－point\n",
    "使用方法AddPoint( <x>, <y>, [<z>])。其中的z坐标一般是省略的，默认值是0."
   ]
  },
  {
   "cell_type": "code",
   "execution_count": 8,
   "metadata": {
    "collapsed": false
   },
   "outputs": [
    {
     "data": {
      "text/plain": [
       "<osgeo.ogr.Geometry; proxy of <Swig Object of type 'OGRGeometryShadow *' at 0x7f2d0812d240> >"
      ]
     },
     "execution_count": 8,
     "metadata": {},
     "output_type": "execute_result"
    }
   ],
   "source": [
    "point = ogr.Geometry(ogr.wkbPoint)\n",
    "point.AddPoint(10,20)"
   ]
  },
  {
   "cell_type": "code",
   "execution_count": 11,
   "metadata": {
    "collapsed": false
   },
   "outputs": [
    {
     "data": {
      "text/plain": [
       "'POINT (10 20 0)'"
      ]
     },
     "execution_count": 11,
     "metadata": {},
     "output_type": "execute_result"
    }
   ],
   "source": [
    "#help(point)\n",
    "str(point)"
   ]
  },
  {
   "cell_type": "markdown",
   "metadata": {},
   "source": [
    "### 新建线对象－line\n",
    "\n",
    "* 使用AddPoint(<x>, <y>, [<z>])添加点。\n",
    "* 使用SetPoint(<index>, <x>, <y>, [<z>])更改点的坐标。\n",
    "\n",
    "例如下面这段代码，更改了0号点的坐标："
   ]
  },
  {
   "cell_type": "code",
   "execution_count": 14,
   "metadata": {
    "collapsed": true
   },
   "outputs": [],
   "source": [
    "line = ogr.Geometry(ogr.wkbLineString)\n",
    "line.AddPoint(10,10)\n",
    "line.AddPoint(20,20)\n",
    "line.SetPoint(0,30,30)   #(10,10) -> (30,30)"
   ]
  },
  {
   "cell_type": "code",
   "execution_count": 15,
   "metadata": {
    "collapsed": false
   },
   "outputs": [
    {
     "data": {
      "text/plain": [
       "'LINESTRING (30 30 0,20 20 0)'"
      ]
     },
     "execution_count": 15,
     "metadata": {},
     "output_type": "execute_result"
    }
   ],
   "source": [
    "str(line)"
   ]
  },
  {
   "cell_type": "markdown",
   "metadata": {},
   "source": [
    "统计所有点的数目"
   ]
  },
  {
   "cell_type": "code",
   "execution_count": 16,
   "metadata": {
    "collapsed": false
   },
   "outputs": [
    {
     "name": "stdout",
     "output_type": "stream",
     "text": [
      "2\n"
     ]
    }
   ],
   "source": [
    "print(line.GetPointCount())"
   ]
  },
  {
   "cell_type": "markdown",
   "metadata": {},
   "source": [
    "读取0号点的x坐标和y坐标"
   ]
  },
  {
   "cell_type": "code",
   "execution_count": 17,
   "metadata": {
    "collapsed": false
   },
   "outputs": [
    {
     "name": "stdout",
     "output_type": "stream",
     "text": [
      "30.0\n",
      "30.0\n"
     ]
    }
   ],
   "source": [
    "print(line.GetX(0))\n",
    "print(line.GetY(0))"
   ]
  },
  {
   "cell_type": "markdown",
   "metadata": {},
   "source": [
    "### 新建多边形-polygon\n",
    "首先要新建环(ring)，然后把环添加到多边形对象中。  \n",
    "如何创建一个ring？先新建一个ring对象，然后向里面逐个添加点。"
   ]
  },
  {
   "cell_type": "code",
   "execution_count": 18,
   "metadata": {
    "collapsed": true
   },
   "outputs": [],
   "source": [
    "ring = ogr.Geometry(ogr.wkbLinearRing)\n",
    "ring.AddPoint(0,0)\n",
    "ring.AddPoint(100,0)\n",
    "ring.AddPoint(100,100)\n",
    "ring.AddPoint(0,100)"
   ]
  },
  {
   "cell_type": "markdown",
   "metadata": {},
   "source": [
    "结束的时候，用CloseRings关闭ring，或者将最后一个点的坐标设定为与第一个点相同。"
   ]
  },
  {
   "cell_type": "code",
   "execution_count": 19,
   "metadata": {
    "collapsed": true
   },
   "outputs": [],
   "source": [
    "ring.CloseRings()\n",
    "\n",
    "#ring.AddPoint(0,0)"
   ]
  },
  {
   "cell_type": "code",
   "execution_count": 20,
   "metadata": {
    "collapsed": false
   },
   "outputs": [
    {
     "data": {
      "text/plain": [
       "'LINEARRING (0 0 0,100 0 0,100 100 0,0 100 0,0 0 0)'"
      ]
     },
     "execution_count": 20,
     "metadata": {},
     "output_type": "execute_result"
    }
   ],
   "source": [
    "str(ring)"
   ]
  },
  {
   "cell_type": "markdown",
   "metadata": {},
   "source": [
    "### 下面举一个例子，创建一个方框。\n",
    "这是个polygon对象，又例外两层ring构成。"
   ]
  },
  {
   "cell_type": "code",
   "execution_count": 22,
   "metadata": {
    "collapsed": false
   },
   "outputs": [
    {
     "data": {
      "text/plain": [
       "0"
      ]
     },
     "execution_count": 22,
     "metadata": {},
     "output_type": "execute_result"
    }
   ],
   "source": [
    "outring = ogr.Geometry(ogr.wkbLinearRing)\n",
    "outring.AddPoint(0,0)\n",
    "outring.AddPoint(100,0)\n",
    "outring.AddPoint(100,100)\n",
    "outring.AddPoint(0,100)\n",
    "outring.AddPoint(0,0)\n",
    "\n",
    "inring = ogr.Geometry(ogr.wkbLinearRing)\n",
    "inring = ogr.Geometry(ogr.wkbLinearRing)\n",
    "inring.AddPoint(25,25)\n",
    "inring.AddPoint(75,25)\n",
    "inring.AddPoint(75,75)\n",
    "inring.AddPoint(25,75)\n",
    "inring.CloseRings()\n",
    "\n",
    "polygon = ogr.Geometry(ogr.wkbPolygon)\n",
    "polygon.AddGeometry(outring)\n",
    "polygon.AddGeometry(inring)"
   ]
  },
  {
   "cell_type": "code",
   "execution_count": 23,
   "metadata": {
    "collapsed": false
   },
   "outputs": [
    {
     "data": {
      "text/plain": [
       "'POLYGON ((0 0 0,100 0 0,100 100 0,0 100 0,0 0 0),(25 25 0,75 25 0,75 75 0,25 75 0,25 25 0))'"
      ]
     },
     "execution_count": 23,
     "metadata": {},
     "output_type": "execute_result"
    }
   ],
   "source": [
    "str(polygon)"
   ]
  },
  {
   "cell_type": "markdown",
   "metadata": {},
   "source": [
    "** _最后三句话比较重要，就是先建立一个polygon对象，然后添加外层ring和内层ring。_ **\n",
    "\n",
    "下面这句话可以帮你数数，polygon能有几个ring。"
   ]
  },
  {
   "cell_type": "code",
   "execution_count": 24,
   "metadata": {
    "collapsed": false
   },
   "outputs": [
    {
     "name": "stdout",
     "output_type": "stream",
     "text": [
      "2\n"
     ]
    }
   ],
   "source": [
    "print(polygon.GetGeometryCount())"
   ]
  },
  {
   "cell_type": "markdown",
   "metadata": {},
   "source": [
    "从polygon中读取ring，index的顺序和创建polygon时添加ring的顺序相同。"
   ]
  },
  {
   "cell_type": "code",
   "execution_count": 25,
   "metadata": {
    "collapsed": true
   },
   "outputs": [],
   "source": [
    "outring = polygon.GetGeometryRef(0)\n",
    "inring = polygon.GetGeometryRef(1)"
   ]
  },
  {
   "cell_type": "code",
   "execution_count": 28,
   "metadata": {
    "collapsed": false
   },
   "outputs": [
    {
     "name": "stdout",
     "output_type": "stream",
     "text": [
      "OutRing:  LINEARRING (0 0 0,100 0 0,100 100 0,0 100 0,0 0 0)\n",
      "InRing:  LINEARRING (25 25 0,75 25 0,75 75 0,25 75 0,25 25 0)\n"
     ]
    }
   ],
   "source": [
    "print(\"OutRing: \",str(outring))\n",
    "print(\"InRing: \",str(inring))"
   ]
  },
  {
   "cell_type": "markdown",
   "metadata": {},
   "source": [
    "### 创建复合几何形状－multi geometry\n",
    "\n",
    "例如：MultiPoint, MultiLineString, MultiPolygon。用AddGeometry把普通的几何形状加到复合几何形状中。"
   ]
  },
  {
   "cell_type": "code",
   "execution_count": 30,
   "metadata": {
    "collapsed": false
   },
   "outputs": [
    {
     "data": {
      "text/plain": [
       "0"
      ]
     },
     "execution_count": 30,
     "metadata": {},
     "output_type": "execute_result"
    }
   ],
   "source": [
    "multipoint = ogr.Geometry(ogr.wkbMultiPoint)\n",
    "point = ogr.Geometry(ogr.wkbPoint)\n",
    "\n",
    "point.AddPoint(10,10)\n",
    "multipoint.AddGeometry(point)\n",
    "\n",
    "point.AddPoint(20,20)\n",
    "multipoint.AddGeometry(point)"
   ]
  },
  {
   "cell_type": "code",
   "execution_count": 31,
   "metadata": {
    "collapsed": false
   },
   "outputs": [
    {
     "data": {
      "text/plain": [
       "'MULTIPOINT (10 10 0,20 20 0)'"
      ]
     },
     "execution_count": 31,
     "metadata": {},
     "output_type": "execute_result"
    }
   ],
   "source": [
    "str(multipoint)"
   ]
  },
  {
   "cell_type": "markdown",
   "metadata": {},
   "source": [
    "### 读取MultiGeometry中的Geometry\n",
    "方法和从Polygon中读取ring是一样的，可以说Polygon是一种内置的MultiGeometry。\n",
    "\n",
    "* 不要删除一个已存在的Feature的Geometry，会把python搞崩溃的。\n",
    "* 只能删除脚本运行期间创建的Geometry，比方说手工创建出来的，或者调用其他函数自动创建的。就算这个Geometry已经用来创建别的Feature，你还是可以删除它。\n",
    "\n",
    "例如：Polygon.Destroy()"
   ]
  },
  {
   "cell_type": "markdown",
   "metadata": {},
   "source": [
    "# 关于投影－Projection\n",
    "使用SpatialReference对象。\n",
    "* 多种多样的Projections，GDAL支持WKT, PROJ.4, ESPG, USGS, ESRI.prj  \n",
    "* 可以从layer和Geometry中读取Projections。\n",
    "\n",
    "例如："
   ]
  },
  {
   "cell_type": "code",
   "execution_count": null,
   "metadata": {
    "collapsed": true
   },
   "outputs": [],
   "source": [
    "spatialRef = layer.GetSpatialRef()\n",
    "spatialRef = geom.GetSpatialReference()"
   ]
  },
  {
   "cell_type": "markdown",
   "metadata": {},
   "source": [
    "投影信息一般存储在.prj文件中，如果没有这个文件，上述函数返回None。\n",
    "### 建立一个新的Projection\n",
    "首先导入osr库，之后使用osr.SpatialReference()创建SpatialReference对象。\n",
    "用下列语句向SpatialReference对象导入投影信息。\n",
    "\n",
    "    ImportFromWkt(<wkt>)  \n",
    "    ImportFromEPSG(<epsg>)  \n",
    "    ImportFromProj4(<proj4>)  \n",
    "    ImportFromESRI(<proj_lines>)  \n",
    "    ImportFromPCI(<proj>, <units>, <parms>)  \n",
    "    ImportFromUSGS(<proj_code>, <zone>)  \n",
    "    ImportFromXML(<xml>)  \n",
    "\n",
    "### 导出Projection\n",
    "使用下面的语句可以导出为字符串\n",
    "\n",
    "    ExportToWkt()\n",
    "    ExportToPrettyWkt()\n",
    "    ExportToProj4()\n",
    "    ExportToPCI()\n",
    "    ExportToUSGS()\n",
    "    ExportToXML()\n",
    "\n",
    "对一个几何形状Geometry进行投影变换，要先初始化两个Projection，然后创建一个CoordinateTransformation对象，用它来做变换。"
   ]
  },
  {
   "cell_type": "code",
   "execution_count": 46,
   "metadata": {
    "collapsed": false
   },
   "outputs": [],
   "source": [
    "from osgeo import osr\n",
    "\n",
    "sourceSR = osr.SpatialReference()\n",
    "sourceSR.ImportFromEPSG(32612) #UTM 12N WGS84\n",
    "\n",
    "targetSR = osr.SpatialReference()\n",
    "targetSR.ImportFromEPSG(4326) #Geo WGS84\n",
    "\n",
    "coordTrans = osr.CoordinateTransformation(sourceSR, targetSR)"
   ]
  },
  {
   "cell_type": "markdown",
   "metadata": {},
   "source": [
    "### 对几何对象进行投影变换"
   ]
  },
  {
   "cell_type": "code",
   "execution_count": 41,
   "metadata": {
    "collapsed": false
   },
   "outputs": [
    {
     "name": "stdout",
     "output_type": "stream",
     "text": [
      "Projection transform:\n",
      "Before: MULTIPOINT (-115.489778556511723 0.0 0,-115.489778556511723 0.0 0)\n",
      "After : MULTIPOINT (-115.489778556511723 0.0 0,-115.489778556511723 0.0 0)\n"
     ]
    }
   ],
   "source": [
    "print(\"Projection transform:\")\n",
    "print(\"Before:\", multipoint)\n",
    "\n",
    "#geom.Transform(coordTrans)\n",
    "multipoint.Transform(coordTrans)\n",
    "\n",
    "print(\"After :\", multipoint)"
   ]
  },
  {
   "cell_type": "markdown",
   "metadata": {},
   "source": [
    "据说，在windows里面跑不通(http://n2.nabble.com/PROJ-4-EPSG-28992-td2033665.html)  \n",
    "我在linux（Ubuntu15.04）里面没问题。\n",
    "#### 另外还有几个要注意的地方：\n",
    "\n",
    "* 要在适当的时候编辑Geometry，投影变换之后最好就不要再动了吧。  \n",
    "* 对一个数据源DataSource里面的所有Geometry做投影变换，得一个一个来，用个循环吧。  "
   ]
  },
  {
   "cell_type": "markdown",
   "metadata": {},
   "source": [
    "### 将投影参数写入.prj文件。\n",
    "首先MorphToESRI()，转成字符串，然后开个文本文件往里面写就行了。"
   ]
  },
  {
   "cell_type": "code",
   "execution_count": 45,
   "metadata": {
    "collapsed": false
   },
   "outputs": [
    {
     "name": "stdout",
     "output_type": "stream",
     "text": [
      "GEOGCS[\"GCS_WGS_1984\",DATUM[\"D_WGS_1984\",SPHEROID[\"WGS_1984\",6378137,298.257223563]],PRIMEM[\"Greenwich\",0],UNIT[\"Degree\",0.017453292519943295]]\n"
     ]
    }
   ],
   "source": [
    "targetSR.MorphToESRI()\n",
    "sr_wkt = targetSR.ExportToWkt()\n",
    "print(sr)\n",
    "\n",
    "file = open('test.prj', 'w')\n",
    "file.write(sr_wkt)\n",
    "file.close()"
   ]
  },
  {
   "cell_type": "code",
   "execution_count": null,
   "metadata": {
    "collapsed": true
   },
   "outputs": [],
   "source": []
  }
 ],
 "metadata": {
  "kernelspec": {
   "display_name": "Python 3",
   "language": "python",
   "name": "python3"
  },
  "language_info": {
   "codemirror_mode": {
    "name": "ipython",
    "version": 3
   },
   "file_extension": ".py",
   "mimetype": "text/x-python",
   "name": "python",
   "nbconvert_exporter": "python",
   "pygments_lexer": "ipython3",
   "version": "3.5.1"
  }
 },
 "nbformat": 4,
 "nbformat_minor": 0
}
