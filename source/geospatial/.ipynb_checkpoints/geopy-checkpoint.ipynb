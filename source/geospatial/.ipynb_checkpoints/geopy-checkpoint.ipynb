{
 "cells": [
  {
   "cell_type": "markdown",
   "metadata": {},
   "source": [
    "# GeoPy\n",
    "\n",
    "[geopy](https://github.com/geopy/geopy.git) is a Python 2 and 3 client for several popular geocoding web services.\n",
    "\n",
    "geopy makes it easy for Python developers to locate the coordinates of addresses, cities, countries, and landmarks across the globe using third-party geocoders and other data sources.\n",
    "\n",
    "geopy includes geocoder classes for the OpenStreetMap Nominatim, ESRI ArcGIS, Google Geocoding API (V3), Baidu Maps, Bing Maps API, Yahoo! PlaceFinder, Yandex, IGN France, GeoNames, NaviData, OpenMapQuest, What3Words, OpenCage, SmartyStreets, geocoder.us, and GeocodeFarm geocoder services. The various geocoder classes are located in geopy.geocoders.\n",
    "\n",
    "geopy is tested against CPython 2.7, CPython 3.2, CPython 3.4, PyPy, and PyPy3. geopy does not and will not support CPython 2.6.\n",
    "\n",
    "© geopy contributors 2006-2015 (see AUTHORS) under the MIT License.\n",
    "\n",
    "## Documentation\n",
    "More documentation and examples can be found at [Read the Docs](http://geopy.readthedocs.io/en/latest/).\n",
    "\n",
    "## Installation\n",
    "Install using pip with: `pip install geopy`\n",
    "Or, download a wheel or source archive from PyPI."
   ]
  },
  {
   "cell_type": "code",
   "execution_count": 3,
   "metadata": {
    "collapsed": false
   },
   "outputs": [
    {
     "data": {
      "text/plain": [
       "['/bin/sh: 1: source: not found',\n",
       " 'Collecting geopy',\n",
       " '  Downloading geopy-1.11.0-py2.py3-none-any.whl (66kB)',\n",
       " 'Installing collected packages: geopy',\n",
       " 'Successfully installed geopy-1.11.0']"
      ]
     },
     "execution_count": 3,
     "metadata": {},
     "output_type": "execute_result"
    }
   ],
   "source": [
    "%%!\n",
    "source activate GISpark\n",
    "pip install geopy"
   ]
  },
  {
   "cell_type": "markdown",
   "metadata": {},
   "source": [
    "## Geocoding\n",
    "To geolocate a query to an address and coordinates:"
   ]
  },
  {
   "cell_type": "code",
   "execution_count": 11,
   "metadata": {
    "collapsed": false
   },
   "outputs": [],
   "source": [
    "import geopy.geocoders\n",
    "#help(geopy.geocoders)"
   ]
  },
  {
   "cell_type": "markdown",
   "metadata": {},
   "source": [
    "Using osm geolocator."
   ]
  },
  {
   "cell_type": "code",
   "execution_count": 43,
   "metadata": {
    "collapsed": false
   },
   "outputs": [],
   "source": [
    "import ssl\n",
    "from geopy.geocoders import osm\n",
    "#help(osm)\n",
    "\n",
    "geolocator = osm.Nominatim(scheme='http')\n",
    "\n",
    "location = geolocator.geocode(\"175 5th Avenue NYC\")"
   ]
  },
  {
   "cell_type": "code",
   "execution_count": 44,
   "metadata": {
    "collapsed": false
   },
   "outputs": [
    {
     "name": "stdout",
     "output_type": "stream",
     "text": [
      "Point(40.7410861, -73.9896297241625, 0.0)\n",
      "{'boundingbox': ['40.7407597', '40.7413004', '-73.9898714', '-73.9895013'],\n",
      " 'class': 'tourism',\n",
      " 'display_name': 'Flatiron Building, 175, 5th Avenue, Flatiron, Manhattan, New '\n",
      "                 'York County, NYC, New York, 10010, United States of America',\n",
      " 'icon': 'http://nominatim.openstreetmap.org/images/mapicons/poi_point_of_interest.p.20.png',\n",
      " 'importance': 0.68300331552197,\n",
      " 'lat': '40.7410861',\n",
      " 'licence': 'Data © OpenStreetMap contributors, ODbL 1.0. '\n",
      "            'http://www.openstreetmap.org/copyright',\n",
      " 'lon': '-73.9896297241625',\n",
      " 'osm_id': '264768896',\n",
      " 'osm_type': 'way',\n",
      " 'place_id': '121844315',\n",
      " 'type': 'attraction'}\n"
     ]
    }
   ],
   "source": [
    "from pprint import *\n",
    "pprint(location.point)\n",
    "pprint(location.raw)"
   ]
  },
  {
   "cell_type": "code",
   "execution_count": 31,
   "metadata": {
    "collapsed": false
   },
   "outputs": [
    {
     "name": "stdout",
     "output_type": "stream",
     "text": [
      "Flatiron Building, 175, 5th Avenue, Flatiron, Manhattan, New York County, NYC, New York, 10010, United States of America\n",
      "(40.7410861, -73.9896297241625)\n",
      "{'display_name': 'Flatiron Building, 175, 5th Avenue, Flatiron, Manhattan, New York County, NYC, New York, 10010, United States of America', 'icon': 'http://nominatim.openstreetmap.org/images/mapicons/poi_point_of_interest.p.20.png', 'boundingbox': ['40.7407597', '40.7413004', '-73.9898714', '-73.9895013'], 'lat': '40.7410861', 'importance': 0.68300331552197, 'class': 'tourism', 'place_id': '121844315', 'licence': 'Data © OpenStreetMap contributors, ODbL 1.0. http://www.openstreetmap.org/copyright', 'type': 'attraction', 'lon': '-73.9896297241625', 'osm_type': 'way', 'osm_id': '264768896'}\n"
     ]
    }
   ],
   "source": [
    "import ssl\n",
    "from geopy.geocoders import Nominatim\n",
    "\n",
    "#help(Nominatim)\n",
    "\n",
    "geolocator = Nominatim(scheme='http')\n",
    "location = geolocator.geocode(\"175 5th Avenue NYC\")\n",
    "#location = geolocator.geocode(\"上海市 徐汇区乐山路33号 慧谷高科技创业中心\")\n",
    "\n",
    "print(location.address)\n",
    "#Flatiron Building, 175, 5th Avenue, Flatiron, New York, NYC, New York, ...\n",
    "\n",
    "print((location.latitude, location.longitude))\n",
    "#(40.7410861, -73.9896297241625)\n",
    "\n",
    "print(location.raw)\n",
    "#{'place_id': '9167009604', 'type': 'attraction', ...}location"
   ]
  },
  {
   "cell_type": "markdown",
   "metadata": {},
   "source": [
    "## To find the address corresponding to a set of coordinates."
   ]
  },
  {
   "cell_type": "code",
   "execution_count": null,
   "metadata": {
    "collapsed": true
   },
   "outputs": [],
   "source": [
    "from geopy.geocoders import Nominatim\n",
    "\n",
    "geolocator = Nominatim()\n",
    "location = geolocator.reverse(\"52.509669, 13.376294\")\n",
    "\n",
    "print(location.address)\n",
    "#Potsdamer Platz, Mitte, Berlin, 10117, Deutschland, European Union\n",
    "\n",
    "print((location.latitude, location.longitude))\n",
    "#(52.5094982, 13.3765983)\n",
    "\n",
    "print(location.raw)\n",
    "#{'place_id': '654513', 'osm_type': 'node', ...}"
   ]
  },
  {
   "cell_type": "markdown",
   "metadata": {},
   "source": [
    "## Measuring Distance\n",
    "\n",
    "Geopy can calculate geodesic distance between two points using the Vincenty distance or great-circle distance formulas, with a default of Vincenty available as the class geopy.distance.distance, and the computed distance available as attributes (e.g., miles, meters, etc.).\n",
    "\n",
    "Here's an example usage of Vincenty distance:"
   ]
  },
  {
   "cell_type": "code",
   "execution_count": null,
   "metadata": {
    "collapsed": true
   },
   "outputs": [],
   "source": [
    "from geopy.distance import vincenty\n",
    "\n",
    "newport_ri = (41.49008, -71.312796)\n",
    "cleveland_oh = (41.499498, -81.695391)\n",
    "\n",
    "print(vincenty(newport_ri, cleveland_oh).miles)\n",
    "# 538.3904451566326"
   ]
  },
  {
   "cell_type": "markdown",
   "metadata": {},
   "source": [
    "### Using great-circle distance:"
   ]
  },
  {
   "cell_type": "code",
   "execution_count": null,
   "metadata": {
    "collapsed": true
   },
   "outputs": [],
   "source": [
    "from geopy.distance import great_circle\n",
    "\n",
    "newport_ri = (41.49008, -71.312796)\n",
    "cleveland_oh = (41.499498, -81.695391)\n",
    "\n",
    "print(great_circle(newport_ri, cleveland_oh).miles)\n",
    "#537.1485284062816"
   ]
  }
 ],
 "metadata": {
  "kernelspec": {
   "display_name": "Python 3",
   "language": "python",
   "name": "python3"
  },
  "language_info": {
   "codemirror_mode": {
    "name": "ipython",
    "version": 3
   },
   "file_extension": ".py",
   "mimetype": "text/x-python",
   "name": "python",
   "nbconvert_exporter": "python",
   "pygments_lexer": "ipython3",
   "version": "3.5.1"
  }
 },
 "nbformat": 4,
 "nbformat_minor": 0
}
