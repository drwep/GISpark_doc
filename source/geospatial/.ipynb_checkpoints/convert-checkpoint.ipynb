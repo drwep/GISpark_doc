{
 "cells": [
  {
   "cell_type": "code",
   "execution_count": 1,
   "metadata": {
    "collapsed": false
   },
   "outputs": [
    {
     "name": "stdout",
     "output_type": "stream",
     "text": [
      "/home/supermap/GISpark/git_notebook/geospatial\r\n"
     ]
    }
   ],
   "source": [
    "!pwd"
   ]
  },
  {
   "cell_type": "code",
   "execution_count": 6,
   "metadata": {
    "collapsed": false
   },
   "outputs": [
    {
     "name": "stdout",
     "output_type": "stream",
     "text": [
      "总用量 64\r\n",
      "-rw-rw-r-- 1 supermap supermap  1830 4月  30 20:14 convert.ipynb\r\n",
      "drwxrwxr-x 2 supermap supermap  4096 4月  25 16:59 gdal\r\n",
      "-rw-rw-r-- 1 supermap supermap 17071 4月  30 20:10 geojson.ipynb\r\n",
      "-rw-rw-r-- 1 supermap supermap 12799 4月  30 20:15 geojson.md\r\n",
      "-rw-rw-r-- 1 supermap supermap 19524 4月  30 20:01 pygeojson.ipynb\r\n"
     ]
    }
   ],
   "source": [
    "!ls -l"
   ]
  },
  {
   "cell_type": "code",
   "execution_count": 5,
   "metadata": {
    "collapsed": false
   },
   "outputs": [
    {
     "name": "stdout",
     "output_type": "stream",
     "text": [
      "[NbConvertApp] Converting notebook geojson.ipynb to markdown\n",
      "[NbConvertApp] Writing 7775 bytes to geojson.md\n"
     ]
    }
   ],
   "source": [
    "!jupyter nbconvert --output-dir=../doc --to markdown geojson.ipynb"
   ]
  },
  {
   "cell_type": "code",
   "execution_count": 7,
   "metadata": {
    "collapsed": false
   },
   "outputs": [
    {
     "name": "stdout",
     "output_type": "stream",
     "text": [
      "[NbConvertApp] Converting notebook pygeojson.ipynb to markdown\n",
      "[NbConvertApp] Writing 11542 bytes to pygeojson.md\n"
     ]
    }
   ],
   "source": [
    "!jupyter nbconvert --output-dir=../doc --to markdown pygeojson.ipynb"
   ]
  },
  {
   "cell_type": "code",
   "execution_count": 2,
   "metadata": {
    "collapsed": false
   },
   "outputs": [
    {
     "name": "stdout",
     "output_type": "stream",
     "text": [
      "[NbConvertApp] Converting notebook ./openstreetmap/osm-discovery.ipynb to markdown\n",
      "[NbConvertApp] Writing 12603 bytes to ../doc/osm-discovery.md\n"
     ]
    }
   ],
   "source": [
    "!jupyter nbconvert --output-dir=../doc --to markdown ./openstreetmap/osm-discovery.ipynb"
   ]
  },
  {
   "cell_type": "code",
   "execution_count": 3,
   "metadata": {
    "collapsed": false
   },
   "outputs": [
    {
     "name": "stdout",
     "output_type": "stream",
     "text": [
      "[NbConvertApp] Converting notebook ./openstreetmap/osm-extract2json.ipynb to markdown\n",
      "[NbConvertApp] Writing 4132 bytes to ../doc/osm-extract2json.md\n"
     ]
    }
   ],
   "source": [
    "!jupyter nbconvert --output-dir=../doc --to markdown ./openstreetmap/osm-extract2json.ipynb"
   ]
  },
  {
   "cell_type": "code",
   "execution_count": 4,
   "metadata": {
    "collapsed": false
   },
   "outputs": [
    {
     "name": "stdout",
     "output_type": "stream",
     "text": [
      "[NbConvertApp] Converting notebook ./openstreetmap/osm-overpass-node.ipynb to markdown\n",
      "[NbConvertApp] Writing 2835 bytes to ../doc/osm-overpass-node.md\n"
     ]
    }
   ],
   "source": [
    "!jupyter nbconvert --output-dir=../doc --to markdown ./openstreetmap/osm-overpass-node.ipynb"
   ]
  },
  {
   "cell_type": "code",
   "execution_count": 7,
   "metadata": {
    "collapsed": false
   },
   "outputs": [
    {
     "name": "stdout",
     "output_type": "stream",
     "text": [
      "[NbConvertApp] Converting notebook ./giscript/giscript_quickstart.ipynb to markdown\n",
      "[NbConvertApp] Writing 6294 bytes to ../doc/giscript_quickstart.md\n"
     ]
    }
   ],
   "source": [
    "!jupyter nbconvert --output-dir=../doc --to markdown ./giscript/giscript_quickstart.ipynb"
   ]
  },
  {
   "cell_type": "code",
   "execution_count": 8,
   "metadata": {
    "collapsed": false
   },
   "outputs": [
    {
     "name": "stdout",
     "output_type": "stream",
     "text": [
      "[NbConvertApp] Converting notebook ./gdal/gdal-geometry.ipynb to markdown\n",
      "[NbConvertApp] Writing 5612 bytes to ../doc/gdal-geometry.md\n"
     ]
    }
   ],
   "source": [
    "!jupyter nbconvert --output-dir=../doc --to markdown ./gdal/gdal-geometry.ipynb"
   ]
  },
  {
   "cell_type": "code",
   "execution_count": 1,
   "metadata": {
    "collapsed": false
   },
   "outputs": [
    {
     "name": "stdout",
     "output_type": "stream",
     "text": [
      "[NbConvertApp] Converting notebook ./srtm/srtm_usgs.ipynb to markdown\n",
      "[NbConvertApp] Writing 2935 bytes to ../doc/srtm_usgs.md\n"
     ]
    }
   ],
   "source": [
    "!jupyter nbconvert --output-dir=../doc --to markdown ./srtm/srtm_usgs.ipynb"
   ]
  },
  {
   "cell_type": "code",
   "execution_count": 6,
   "metadata": {
    "collapsed": false
   },
   "outputs": [
    {
     "name": "stdout",
     "output_type": "stream",
     "text": [
      "[NbConvertApp] Converting notebook ./matplotlib/mpl_basemap.ipynb to markdown\n",
      "[NbConvertApp] Support files will be in mpl_basemap_files/\n",
      "[NbConvertApp] Making directory ../doc/mpl_basemap_files\n",
      "[NbConvertApp] Making directory ../doc/mpl_basemap_files\n",
      "[NbConvertApp] Making directory ../doc/mpl_basemap_files\n",
      "[NbConvertApp] Making directory ../doc/mpl_basemap_files\n",
      "[NbConvertApp] Writing 4533 bytes to ../doc/mpl_basemap.md\n"
     ]
    }
   ],
   "source": [
    "!jupyter nbconvert --output-dir=../doc --to markdown ./matplotlib/mpl_basemap.ipynb"
   ]
  },
  {
   "cell_type": "code",
   "execution_count": 3,
   "metadata": {
    "collapsed": false
   },
   "outputs": [
    {
     "name": "stdout",
     "output_type": "stream",
     "text": [
      "/home/supermap/GISpark/git_notebook/geospatial\r\n"
     ]
    }
   ],
   "source": [
    "!jupyter nbconvert --output-dir=../doc --to markdown ../pystart/jupyter_magics.ipynb"
   ]
  },
  {
   "cell_type": "code",
   "execution_count": null,
   "metadata": {
    "collapsed": true
   },
   "outputs": [],
   "source": []
  }
 ],
 "metadata": {
  "kernelspec": {
   "display_name": "Python 3",
   "language": "python",
   "name": "python3"
  },
  "language_info": {
   "codemirror_mode": {
    "name": "ipython",
    "version": 3
   },
   "file_extension": ".py",
   "mimetype": "text/x-python",
   "name": "python",
   "nbconvert_exporter": "python",
   "pygments_lexer": "ipython3",
   "version": "3.5.1"
  }
 },
 "nbformat": 4,
 "nbformat_minor": 0
}
