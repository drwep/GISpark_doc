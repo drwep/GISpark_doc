{
 "cells": [
  {
   "cell_type": "markdown",
   "metadata": {},
   "source": [
    "来自于 http://www.gis.usu.edu/~chrisg/python/2009/ 的GeoProcessing 教程。\n",
    "\n",
    "批量下载工具。"
   ]
  },
  {
   "cell_type": "code",
   "execution_count": 2,
   "metadata": {
    "collapsed": true
   },
   "outputs": [],
   "source": [
    "from bs4 import BeautifulSoup as bs\n",
    "import requests as req\n",
    "from pprint import *"
   ]
  },
  {
   "cell_type": "code",
   "execution_count": 14,
   "metadata": {
    "collapsed": false
   },
   "outputs": [
    {
     "name": "stdout",
     "output_type": "stream",
     "text": [
      "--2016-05-09 09:50:20--  http://www.gis.usu.edu/~chrisg/python/2009/\n",
      "正在解析主机 www.gis.usu.edu (www.gis.usu.edu)... 129.123.55.12\n",
      "正在连接 www.gis.usu.edu (www.gis.usu.edu)|129.123.55.12|:80... 已连接。\n",
      "已发出 HTTP 请求，正在等待回应... 200 OK\n",
      "长度： 3897 (3.8K) [text/html]\n",
      "正在保存至: “./GeoProcessingPython.txt”\n",
      "\n",
      "./GeoProcessingPyth 100%[===================>]   3.81K  --.-KB/s    in 0s      \n",
      "\n",
      "2016-05-09 09:50:21 (395 MB/s) - 已保存 “./GeoProcessingPython.txt” [3897/3897])\n",
      "\n"
     ]
    }
   ],
   "source": [
    "!wget http://www.gis.usu.edu/~chrisg/python/2009/ -O ./GeoProcessingPython.txt"
   ]
  },
  {
   "cell_type": "code",
   "execution_count": 15,
   "metadata": {
    "collapsed": false
   },
   "outputs": [
    {
     "name": "stdout",
     "output_type": "stream",
     "text": [
      "[<a href=\"install.html\">Software installation</a>,\n",
      " <a href=\"software.html\">Free GIS software</a>,\n",
      " <a href=\"docs.html\">Documentation</a>,\n",
      " <a href=\"lectures/ospy_slides1.pdf\">Slides</a>,\n",
      " <a href=\"lectures/ospy_data1.zip\">Data</a>,\n",
      " <a href=\"lectures/ospy_hw1.pdf\">Homework description</a>,\n",
      " <a href=\"lectures/ospy_demo1.py\">Class demo</a>,\n",
      " <a href=\"lectures/ospy_hw1a.py\">Solution for homework 1a</a>,\n",
      " <a href=\"lectures/ospy_hw1b.py\">Solution for homework 1b</a>,\n",
      " <a href=\"lectures/ospy_slides2.pdf\">Slides</a>,\n",
      " <a href=\"lectures/ospy_data2.zip\">Data</a>,\n",
      " <a href=\"lectures/ospy_hw2.pdf\">Homework description</a>,\n",
      " <a href=\"lectures/ospy_demo2.py\">Class demo</a>,\n",
      " <a href=\"lectures/ospy_hw2a.py\">Solution for homework 2a</a>,\n",
      " <a href=\"lectures/ospy_hw2b.py\">Solution for homework 2b</a>,\n",
      " <a href=\"lectures/ospy_slides3.pdf\">Slides</a>,\n",
      " <a href=\"lectures/ospy_data3.zip\">Data</a>,\n",
      " <a href=\"lectures/ospy_hw3.pdf\">Homework description</a>,\n",
      " <a href=\"lectures/ospy_demo3.py\">Class demo</a>,\n",
      " <a href=\"lectures/ospy_hw3a.py\">Solution for homework 3a</a>,\n",
      " <a href=\"lectures/ospy_hw3b_mod.py\">Module solution for homework 3b</a>,\n",
      " <a href=\"lectures/ospy_hw3b.py\">Solution for homework 3b</a>,\n",
      " <a href=\"lectures/ospy_slides4.pdf\">Slides</a>,\n",
      " <a href=\"lectures/ospy_data4.zip\">Data</a>,\n",
      " <a href=\"lectures/ospy_hw4.pdf\">Homework description</a>,\n",
      " <a href=\"lectures/ospy_demo4.py\">Class demo</a>,\n",
      " <a href=\"lectures/ospy_hw4a.py\">Solution for homework 4a</a>,\n",
      " <a href=\"lectures/ospy_hw4b.py\">Solution for homework 4b</a>,\n",
      " <a href=\"lectures/ospy_slides5.pdf\">Slides</a>,\n",
      " <a href=\"lectures/ospy_data5.zip\">Data</a>,\n",
      " <a href=\"lectures/ospy_hw5.pdf\">Homework description</a>,\n",
      " <a href=\"lectures/ospy_demo5.py\">Class demo</a>,\n",
      " <a href=\"lectures/ospy_hw5a.py\">Solution for homework 5a</a>,\n",
      " <a href=\"lectures/ospy_hw5b.py\">Solution for homework 5b</a>,\n",
      " <a href=\"lectures/ospy_slides6.pdf\">Slides</a>,\n",
      " <a href=\"lectures/ospy_data6.zip\">Data</a>,\n",
      " <a href=\"lectures/ospy_hw6.pdf\">Homework description</a>,\n",
      " <a href=\"lectures/ospy_hw6a.py\">Solution for homework 6a</a>,\n",
      " <a href=\"lectures/ospy_hw6b.py\">Solution for homework 6b</a>,\n",
      " <a href=\"lectures/ospy_slides7.pdf\">Slides</a>,\n",
      " <a href=\"lectures/ospy_data7.zip\">Data</a>,\n",
      " <a href=\"lectures/ospy_hw7.pdf\">Homework description</a>,\n",
      " <a href=\"lectures/ospy_hw7.txt\">Solution for homework 7</a>]\n"
     ]
    }
   ],
   "source": [
    "url = \"http://www.gis.usu.edu/~chrisg/python/2009/\"\n",
    "    \n",
    "bsr = bs(open(\"./GeoProcessingPython.txt\"),\"html.parser\")\n",
    "alist = bsr.find_all('a')\n",
    "pprint(alist)"
   ]
  },
  {
   "cell_type": "code",
   "execution_count": 16,
   "metadata": {
    "collapsed": false
   },
   "outputs": [
    {
     "name": "stdout",
     "output_type": "stream",
     "text": [
      "http://www.gis.usu.edu/~chrisg/python/2009/lectures/ospy_slides1.pdf\n",
      "http://www.gis.usu.edu/~chrisg/python/2009/lectures/ospy_data1.zip\n",
      "http://www.gis.usu.edu/~chrisg/python/2009/lectures/ospy_hw1.pdf\n",
      "http://www.gis.usu.edu/~chrisg/python/2009/lectures/ospy_demo1.py\n",
      "http://www.gis.usu.edu/~chrisg/python/2009/lectures/ospy_hw1a.py\n",
      "http://www.gis.usu.edu/~chrisg/python/2009/lectures/ospy_hw1b.py\n",
      "http://www.gis.usu.edu/~chrisg/python/2009/lectures/ospy_slides2.pdf\n",
      "http://www.gis.usu.edu/~chrisg/python/2009/lectures/ospy_data2.zip\n",
      "http://www.gis.usu.edu/~chrisg/python/2009/lectures/ospy_hw2.pdf\n",
      "http://www.gis.usu.edu/~chrisg/python/2009/lectures/ospy_demo2.py\n",
      "http://www.gis.usu.edu/~chrisg/python/2009/lectures/ospy_hw2a.py\n",
      "http://www.gis.usu.edu/~chrisg/python/2009/lectures/ospy_hw2b.py\n",
      "http://www.gis.usu.edu/~chrisg/python/2009/lectures/ospy_slides3.pdf\n",
      "http://www.gis.usu.edu/~chrisg/python/2009/lectures/ospy_data3.zip\n",
      "http://www.gis.usu.edu/~chrisg/python/2009/lectures/ospy_hw3.pdf\n",
      "http://www.gis.usu.edu/~chrisg/python/2009/lectures/ospy_demo3.py\n",
      "http://www.gis.usu.edu/~chrisg/python/2009/lectures/ospy_hw3a.py\n",
      "http://www.gis.usu.edu/~chrisg/python/2009/lectures/ospy_hw3b_mod.py\n",
      "http://www.gis.usu.edu/~chrisg/python/2009/lectures/ospy_hw3b.py\n",
      "http://www.gis.usu.edu/~chrisg/python/2009/lectures/ospy_slides4.pdf\n",
      "http://www.gis.usu.edu/~chrisg/python/2009/lectures/ospy_data4.zip\n",
      "http://www.gis.usu.edu/~chrisg/python/2009/lectures/ospy_hw4.pdf\n",
      "http://www.gis.usu.edu/~chrisg/python/2009/lectures/ospy_demo4.py\n",
      "http://www.gis.usu.edu/~chrisg/python/2009/lectures/ospy_hw4a.py\n",
      "http://www.gis.usu.edu/~chrisg/python/2009/lectures/ospy_hw4b.py\n",
      "http://www.gis.usu.edu/~chrisg/python/2009/lectures/ospy_slides5.pdf\n",
      "http://www.gis.usu.edu/~chrisg/python/2009/lectures/ospy_data5.zip\n",
      "http://www.gis.usu.edu/~chrisg/python/2009/lectures/ospy_hw5.pdf\n",
      "http://www.gis.usu.edu/~chrisg/python/2009/lectures/ospy_demo5.py\n",
      "http://www.gis.usu.edu/~chrisg/python/2009/lectures/ospy_hw5a.py\n",
      "http://www.gis.usu.edu/~chrisg/python/2009/lectures/ospy_hw5b.py\n",
      "http://www.gis.usu.edu/~chrisg/python/2009/lectures/ospy_slides6.pdf\n",
      "http://www.gis.usu.edu/~chrisg/python/2009/lectures/ospy_data6.zip\n",
      "http://www.gis.usu.edu/~chrisg/python/2009/lectures/ospy_hw6.pdf\n",
      "http://www.gis.usu.edu/~chrisg/python/2009/lectures/ospy_hw6a.py\n",
      "http://www.gis.usu.edu/~chrisg/python/2009/lectures/ospy_hw6b.py\n",
      "http://www.gis.usu.edu/~chrisg/python/2009/lectures/ospy_slides7.pdf\n",
      "http://www.gis.usu.edu/~chrisg/python/2009/lectures/ospy_data7.zip\n",
      "http://www.gis.usu.edu/~chrisg/python/2009/lectures/ospy_hw7.pdf\n"
     ]
    }
   ],
   "source": [
    "f = open(\"GeoProcessingPython_list.txt\",\"w+\")\n",
    "for a in alist:\n",
    "    a1 = a.attrs['href']\n",
    "    if (a1.find(\".zip\") > 0) or (a1.find(\".pdf\") > 0) or (a1.find(\".py\") > 0):\n",
    "        print(url+a1)\n",
    "        f.write(url+a1+\"\\n\")\n",
    "f.close()"
   ]
  },
  {
   "cell_type": "code",
   "execution_count": 17,
   "metadata": {
    "collapsed": true
   },
   "outputs": [],
   "source": [
    "!mkdir geoprocess"
   ]
  },
  {
   "cell_type": "code",
   "execution_count": null,
   "metadata": {
    "collapsed": true
   },
   "outputs": [],
   "source": [
    "!wget -c -i GeoProcessingPython_list.txt -P geoprocess"
   ]
  }
 ],
 "metadata": {
  "kernelspec": {
   "display_name": "Python 3",
   "language": "python",
   "name": "python3"
  },
  "language_info": {
   "codemirror_mode": {
    "name": "ipython",
    "version": 3
   },
   "file_extension": ".py",
   "mimetype": "text/x-python",
   "name": "python",
   "nbconvert_exporter": "python",
   "pygments_lexer": "ipython3",
   "version": "3.5.1"
  }
 },
 "nbformat": 4,
 "nbformat_minor": 0
}
