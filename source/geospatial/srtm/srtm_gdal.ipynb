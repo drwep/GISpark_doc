{
 "cells": [
  {
   "cell_type": "markdown",
   "metadata": {},
   "source": [
    "# 使用GDAL进行SRTM数据处理"
   ]
  },
  {
   "cell_type": "code",
   "execution_count": 3,
   "metadata": {
    "collapsed": false
   },
   "outputs": [
    {
     "data": {
      "text/plain": [
       "5"
      ]
     },
     "execution_count": 3,
     "metadata": {},
     "output_type": "execute_result"
    }
   ],
   "source": [
    "from osgeo import gdal, gdalconst\n",
    "from osgeo.gdalconst import *\n",
    "import gdal, gdalconst\n",
    "\n",
    "driver = gdal.GetDriverByName('HFA')\n",
    "driver.Register()"
   ]
  },
  {
   "cell_type": "markdown",
   "metadata": {},
   "source": [
    "## 打开SRTM文件。"
   ]
  },
  {
   "cell_type": "code",
   "execution_count": 5,
   "metadata": {
    "collapsed": true
   },
   "outputs": [],
   "source": [
    "fn = '../data/N00E018.hgt'\n",
    "\n",
    "ds = gdal.Open(fn, GA_ReadOnly)\n",
    "if ds is None:\n",
    "   print('Could not open ' + fn)"
   ]
  },
  {
   "cell_type": "markdown",
   "metadata": {},
   "source": [
    "## 读取列数、行数和波段数。"
   ]
  },
  {
   "cell_type": "code",
   "execution_count": 7,
   "metadata": {
    "collapsed": false
   },
   "outputs": [
    {
     "name": "stdout",
     "output_type": "stream",
     "text": [
      "Info: X-1201, Y-1201, BAND-1\n"
     ]
    }
   ],
   "source": [
    "cols = ds.RasterXSize\n",
    "rows = ds.RasterYSize\n",
    "bands = ds.RasterCount\n",
    "print(\"Info: X-%d, Y-%d, BAND-%d\"%(cols,rows,bands))"
   ]
  },
  {
   "cell_type": "markdown",
   "metadata": {},
   "source": [
    "## 读取指定波段特定区域的值，返回numpy.ndarray对象。\n",
    "进一步操作，可以参考[NumPy文档](http://numpy.readthedocs.io/en/latest/)。"
   ]
  },
  {
   "cell_type": "code",
   "execution_count": 8,
   "metadata": {
    "collapsed": false
   },
   "outputs": [
    {
     "name": "stdout",
     "output_type": "stream",
     "text": [
      "<class 'numpy.ndarray'>\n"
     ]
    },
    {
     "data": {
      "text/plain": [
       "array([[330, 326, 329, 331, 327, 328, 330, 328, 329, 326],\n",
       "       [331, 330, 327, 329, 328, 327, 329, 328, 331, 325],\n",
       "       [330, 330, 331, 329, 329, 326, 328, 328, 327, 327],\n",
       "       [329, 330, 330, 333, 331, 328, 327, 328, 325, 327],\n",
       "       [328, 329, 332, 330, 329, 327, 326, 326, 325, 326],\n",
       "       [329, 328, 331, 332, 327, 325, 325, 326, 324, 324],\n",
       "       [330, 329, 330, 331, 328, 326, 326, 327, 326, 326],\n",
       "       [332, 327, 329, 329, 328, 326, 326, 325, 326, 324],\n",
       "       [328, 329, 330, 331, 331, 328, 324, 325, 325, 324],\n",
       "       [329, 330, 329, 332, 331, 329, 327, 326, 326, 326]], dtype=int16)"
      ]
     },
     "execution_count": 8,
     "metadata": {},
     "output_type": "execute_result"
    }
   ],
   "source": [
    "band = ds.GetRasterBand(1)\n",
    "data = band.ReadAsArray(0, 0, 10, 10)\n",
    "print(type(data))\n",
    "data"
   ]
  },
  {
   "cell_type": "code",
   "execution_count": null,
   "metadata": {
    "collapsed": true
   },
   "outputs": [],
   "source": []
  }
 ],
 "metadata": {
  "kernelspec": {
   "display_name": "Python 3",
   "language": "python",
   "name": "python3"
  },
  "language_info": {
   "codemirror_mode": {
    "name": "ipython",
    "version": 3
   },
   "file_extension": ".py",
   "mimetype": "text/x-python",
   "name": "python",
   "nbconvert_exporter": "python",
   "pygments_lexer": "ipython3",
   "version": "3.5.1"
  }
 },
 "nbformat": 4,
 "nbformat_minor": 0
}
