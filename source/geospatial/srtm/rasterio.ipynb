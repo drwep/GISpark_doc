{
 "cells": [
  {
   "cell_type": "markdown",
   "metadata": {},
   "source": [
    "# Rasterio\n",
    "\n",
    "Rasterio reads and writes geospatial raster datasets.\n",
    "https://travis-ci.org/mapbox/rasterio.png?branch=master https://coveralls.io/repos/github/mapbox/rasterio/badge.svg?branch=master\n",
    "\n",
    "Rasterio employs GDAL under the hood for file I/O and raster formatting. Its functions typically accept and return Numpy ndarrays. Rasterio is designed to make working with geospatial raster data more productive and more fun.\n",
    "\n",
    "Rasterio is pronounced raw-STEER-ee-oh.\n",
    "## Example\n",
    "\n",
    "Here's a simple example of the basic features rasterio provides. Three bands are read from an image and summed to produce something like a panchromatic band. This new band is then written to a new single band TIFF."
   ]
  },
  {
   "cell_type": "markdown",
   "metadata": {
    "collapsed": false
   },
   "source": [
    "### Install\n",
    "```\n",
    "source activate GISpark\n",
    "pip install rasterio\n",
    "```"
   ]
  },
  {
   "cell_type": "markdown",
   "metadata": {},
   "source": [
    "### 读取SRTM的单波段高程值。"
   ]
  },
  {
   "cell_type": "code",
   "execution_count": 14,
   "metadata": {
    "collapsed": false
   },
   "outputs": [
    {
     "name": "stdout",
     "output_type": "stream",
     "text": [
      "{'affine': Affine(0.0008333333333333334, 0.0, 17.999583333333334,\n",
      "       0.0, -0.0008333333333333334, 1.0004166666666667),\n",
      " 'count': 1,\n",
      " 'crs': {'init': 'epsg:4326'},\n",
      " 'driver': 'SRTMHGT',\n",
      " 'dtype': 'int16',\n",
      " 'height': 1201,\n",
      " 'nodata': -32768.0,\n",
      " 'tiled': False,\n",
      " 'transform': (17.999583333333334,\n",
      "               0.0008333333333333334,\n",
      "               0.0,\n",
      "               1.0004166666666667,\n",
      "               0.0,\n",
      "               -0.0008333333333333334),\n",
      " 'width': 1201}\n",
      "ndArray.Shape: (1, 1201, 1201)\n",
      "array([[[330, 326, 329, ..., 341, 340, 340],\n",
      "        [331, 330, 327, ..., 340, 338, 339],\n",
      "        [330, 330, 331, ..., 340, 342, 340],\n",
      "        ..., \n",
      "        [323, 322, 324, ..., 331, 328, 330],\n",
      "        [322, 323, 324, ..., 328, 328, 328],\n",
      "        [321, 322, 323, ..., 331, 330, 332]]], dtype=int16)\n"
     ]
    }
   ],
   "source": [
    "import numpy\n",
    "import rasterio\n",
    "from pprint import *\n",
    "# Read raster bands directly to Numpy arrays.\n",
    "url = \"../data/N00E018.hgt\"\n",
    "src = rasterio.open(url)\n",
    "av = src.read()\n",
    "\n",
    "pprint(src.profile)\n",
    "print(\"ndArray.Shape:\",av.shape)\n",
    "pprint(av)\n",
    "\n",
    "src.close()"
   ]
  },
  {
   "cell_type": "code",
   "execution_count": 27,
   "metadata": {
    "collapsed": false
   },
   "outputs": [
    {
     "name": "stdout",
     "output_type": "stream",
     "text": [
      "388 ~ -32768 == -66.3491587984\n"
     ]
    },
    {
     "data": {
      "text/plain": [
       "array([[[330, 326, 329, ..., 341, 340, 340],\n",
       "        [331, 330, 327, ..., 340, 338, 339],\n",
       "        [330, 330, 331, ..., 340, 342, 340],\n",
       "        ..., \n",
       "        [323, 322, 324, ..., 331, 328, 330],\n",
       "        [322, 323, 324, ..., 328, 328, 328],\n",
       "        [321, 322, 323, ..., 331, 330, 332]]], dtype=int16)"
      ]
     },
     "execution_count": 27,
     "metadata": {},
     "output_type": "execute_result"
    }
   ],
   "source": [
    "print(av.max(),\"~\",av.min(),\"==\",av.mean())\n",
    "av.view()"
   ]
  },
  {
   "cell_type": "markdown",
   "metadata": {},
   "source": [
    "### 读取影像的多波段值到多个变量。"
   ]
  },
  {
   "cell_type": "code",
   "execution_count": 1,
   "metadata": {
    "collapsed": false
   },
   "outputs": [
    {
     "ename": "ImportError",
     "evalue": "No module named 'rasterio'",
     "output_type": "error",
     "traceback": [
      "\u001b[1;31m---------------------------------------------------------------------------\u001b[0m",
      "\u001b[1;31mImportError\u001b[0m                               Traceback (most recent call last)",
      "\u001b[1;32m<ipython-input-1-7be4fe623d9c>\u001b[0m in \u001b[0;36m<module>\u001b[1;34m()\u001b[0m\n\u001b[0;32m      1\u001b[0m \u001b[1;32mimport\u001b[0m \u001b[0mnumpy\u001b[0m\u001b[1;33m\u001b[0m\u001b[0m\n\u001b[1;32m----> 2\u001b[1;33m \u001b[1;32mimport\u001b[0m \u001b[0mrasterio\u001b[0m\u001b[1;33m\u001b[0m\u001b[0m\n\u001b[0m\u001b[0;32m      3\u001b[0m \u001b[1;33m\u001b[0m\u001b[0m\n\u001b[0;32m      4\u001b[0m \u001b[1;31m# Read raster bands directly to Numpy arrays.\u001b[0m\u001b[1;33m\u001b[0m\u001b[1;33m\u001b[0m\u001b[0m\n\u001b[0;32m      5\u001b[0m \u001b[1;31m#\u001b[0m\u001b[1;33m\u001b[0m\u001b[1;33m\u001b[0m\u001b[0m\n",
      "\u001b[1;31mImportError\u001b[0m: No module named 'rasterio'"
     ]
    }
   ],
   "source": [
    "# Read raster bands directly to Numpy arrays.\n",
    "#\n",
    "url = 'tests/data/RGB.byte.tif'\n",
    "with rasterio.open(url) as src:\n",
    "    r, g, b = src.read()\n",
    "\n",
    "# Combine arrays in place. Expecting that the sum will\n",
    "# temporarily exceed the 8-bit integer range, initialize it as\n",
    "# a 64-bit float (the numpy default) array. Adding other\n",
    "# arrays to it in-place converts those arrays \"up\" and\n",
    "# preserves the type of the total array.\n",
    "total = numpy.zeros(r.shape)\n",
    "for band in r, g, b:\n",
    "    total += band\n",
    "total /= 3\n",
    "\n",
    "# Write the product as a raster band to a new 8-bit file. For\n",
    "# the new file's profile, we start with the meta attributes of\n",
    "# the source file, but then change the band count to 1, set the\n",
    "# dtype to uint8, and specify LZW compression.\n",
    "profile = src.profile\n",
    "profile.update(dtype=rasterio.uint8, count=1, compress='lzw')\n",
    "\n",
    "with rasterio.open('example-total.tif', 'w', **profile) as dst:\n",
    "    dst.write(total.astype(rasterio.uint8), 1)"
   ]
  },
  {
   "cell_type": "markdown",
   "metadata": {},
   "source": [
    "The output:\n",
    "http://farm6.staticflickr.com/5501/11393054644_74f54484d9_z_d.jpg\n",
    "\n",
    "## API Overview\n",
    "\n",
    "Simple access is provided to properties of a geospatial raster file."
   ]
  },
  {
   "cell_type": "code",
   "execution_count": null,
   "metadata": {
    "collapsed": true
   },
   "outputs": [],
   "source": [
    "with rasterio.open('tests/data/RGB.byte.tif') as src:\n",
    "    print(src.width, src.height)\n",
    "    print(src.crs)\n",
    "    print(src.affine)\n",
    "    print(src.count)\n",
    "    print(src.indexes)\n",
    "\n",
    "# Printed:\n",
    "# (791, 718)\n",
    "# {u'units': u'm', u'no_defs': True, u'ellps': u'WGS84', u'proj': u'utm', u'zone': 18}\n",
    "# Affine(300.0379266750948, 0.0, 101985.0,\n",
    "#        0.0, -300.041782729805, 2826915.0)\n",
    "# 3\n",
    "# [1, 2, 3]"
   ]
  },
  {
   "cell_type": "markdown",
   "metadata": {},
   "source": [
    "A dataset also provides methods for getting extended array slices given georeferenced coordinates and vice versa."
   ]
  },
  {
   "cell_type": "code",
   "execution_count": null,
   "metadata": {
    "collapsed": true
   },
   "outputs": [],
   "source": [
    "with rasterio.open('tests/data/RGB.byte.tif') as src:\n",
    "    print src.window(**src.window_bounds(((100, 200), (100, 200))))\n",
    "\n",
    "# Printed:\n",
    "# ((100, 200), (100, 200))"
   ]
  },
  {
   "cell_type": "markdown",
   "metadata": {},
   "source": [
    "## Rasterio CLI\n",
    "\n",
    "Rasterio's command line interface, named \"rio\", is documented at cli.rst. Its rio insp command opens the hood of any raster dataset so you can poke around using Python."
   ]
  },
  {
   "cell_type": "markdown",
   "metadata": {},
   "source": [
    "$ rio insp tests/data/RGB.byte.tif\n",
    "Rasterio 0.10 Interactive Inspector (Python 3.4.1)\n",
    "Type \"src.meta\", \"src.read(1)\", or \"help(src)\" for more information.\n",
    ">>> src.name\n",
    "'tests/data/RGB.byte.tif'\n",
    ">>> src.closed\n",
    "False\n",
    ">>> src.shape\n",
    "(718, 791)\n",
    ">>> src.crs\n",
    "{'init': 'epsg:32618'}\n",
    ">>> b, g, r = src.read()\n",
    ">>> b\n",
    "masked_array(data =\n",
    " [[-- -- -- ..., -- -- --]\n",
    " [-- -- -- ..., -- -- --]\n",
    " [-- -- -- ..., -- -- --]\n",
    " ...,\n",
    " [-- -- -- ..., -- -- --]\n",
    " [-- -- -- ..., -- -- --]\n",
    " [-- -- -- ..., -- -- --]],\n",
    "             mask =\n",
    " [[ True  True  True ...,  True  True  True]\n",
    " [ True  True  True ...,  True  True  True]\n",
    " [ True  True  True ...,  True  True  True]\n",
    " ...,\n",
    " [ True  True  True ...,  True  True  True]\n",
    " [ True  True  True ...,  True  True  True]\n",
    " [ True  True  True ...,  True  True  True]],\n",
    "       fill_value = 0)\n",
    "\n",
    ">>> b.min(), b.max(), b.mean()\n",
    "(1, 255, 44.434478650699106)"
   ]
  },
  {
   "cell_type": "markdown",
   "metadata": {},
   "source": [
    "## Rio Plugins\n",
    "\n",
    "Rio provides the ability to create additional subcommands using plugins. See cli.rst for more information on building plugins.\n",
    "\n",
    "See the plugin registry for a list of available plugins.\n",
    "\n",
    "### Installation\n",
    "#### Dependencies\n",
    "\n",
    "Rasterio has one C library dependency: GDAL >=1.9. GDAL itself depends on a number of other libraries provided by most major operating systems and also depends on the non standard GEOS and PROJ4 libraries.\n",
    "\n",
    "Python package dependencies (see also requirements.txt): affine, cligj (and click), enum34, numpy.\n",
    "\n",
    "Development also requires (see requirements-dev.txt) Cython and other packages.\n",
    "#### Installing from binaries\n",
    "OS X\n",
    "\n",
    "Binary wheels with the GDAL, GEOS, and PROJ4 libraries included are available for OS X versions 10.7+ starting with Rasterio version 0.17. To install, just run pip install rasterio. These binary wheels are preferred by newer versions of pip. If you don't want these wheels and want to install from a source distribution, run pip install rasterio --no-use-wheel instead.\n",
    "\n",
    "The included GDAL library is fairly minimal, providing only the format drivers that ship with GDAL and are enabled by default. To get access to more formats, you must build from a source distribution (see below).\n",
    "\n",
    "Binary wheels for other operating systems will be available in a future release.\n",
    "Windows\n",
    "\n",
    "Binary wheels for rasterio and GDAL are created by Christoph Gohlke and are available from his website.\n",
    "\n",
    "To install rasterio, simply download both binaries for your system (rasterio and GDAL) and run something like this from the downloads folder:\n",
    "```\n",
    "$ pip install -U pip\n",
    "$ pip install GDAL-1.11.2-cp27-none-win32.whl\n",
    "$ pip install rasterio-0.24.0-cp27-none-win32.whl\n",
    "```\n",
    "\n",
    "#### Installing from the source distribution\n",
    "\n",
    "Rasterio is a Python C extension and to build you'll need a working compiler (XCode on OS X etc). You'll also need Numpy preinstalled; the Numpy headers are required to run the rasterio setup script. Numpy has to be installed (via the indicated requirements file) before rasterio can be installed. See rasterio's Travis configuration for more guidance.\n",
    "\n",
    "Linux\n",
    "\n",
    "The following commands are adapted from Rasterio's Travis-CI configuration.\n",
    "```\n",
    "$ sudo add-apt-repository ppa:ubuntugis/ppa\n",
    "$ sudo apt-get update\n",
    "$ sudo apt-get install python-numpy libgdal1h gdal-bin libgdal-dev\n",
    "$ pip install rasterio\n",
    "```\n",
    "\n",
    "Adapt them as necessary for your Linux system.\n",
    "\n",
    "OS X\n",
    "\n",
    "For a Homebrew based Python environment, do the following.\n",
    "\n",
    "$ brew install gdal\n",
    "$ pip install rasterio\n",
    "\n",
    "Windows\n",
    "\n",
    "You can download a binary distribution of GDAL from here. You will also need to download the compiled libraries and headers (include files).\n",
    "\n",
    "When building from source on Windows, it is important to know that setup.py cannot rely on gdal-config, which is only present on UNIX systems, to discover the locations of header files and libraries that rasterio needs to compile its C extensions. On Windows, these paths need to be provided by the user. You will need to find the include files and the library files for gdal and use setup.py as follows.\n",
    "\n",
    "$ python setup.py build_ext -I<path to gdal include files> -lgdal_i -L<path to gdal library>\n",
    "$ python setup.py install\n",
    "\n",
    "We have had success compiling code using the same version of Microsoft's Visual Studio used to compile the targeted version of Python (more info on versions used here.).\n",
    "\n",
    "Note: The GDAL dll (gdal111.dll) and gdal-data directory need to be in your Windows PATH otherwise rasterio will fail to work.\n",
    "Testing\n",
    "\n",
    "From the repo directory, run py.test\n",
    "\n",
    "$ python -m pytest\n",
    "\n",
    "Note: some tests do not succeed on Windows (see #66.).\n",
    "Documentation\n",
    "\n",
    "See https://github.com/mapbox/rasterio/tree/master/docs.\n",
    "License\n",
    "\n",
    "See LICENSE.txt.\n",
    "Authors\n",
    "\n",
    "See AUTHORS.txt.\n",
    "Changes\n",
    "\n",
    "See CHANGES.txt."
   ]
  }
 ],
 "metadata": {
  "kernelspec": {
   "display_name": "Python 3",
   "language": "python",
   "name": "python3"
  },
  "language_info": {
   "codemirror_mode": {
    "name": "ipython",
    "version": 3
   },
   "file_extension": ".py",
   "mimetype": "text/x-python",
   "name": "python",
   "nbconvert_exporter": "python",
   "pygments_lexer": "ipython3",
   "version": "3.5.1"
  }
 },
 "nbformat": 4,
 "nbformat_minor": 0
}
