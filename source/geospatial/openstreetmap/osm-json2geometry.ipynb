{
 "cells": [
  {
   "cell_type": "code",
   "execution_count": 1,
   "metadata": {
    "collapsed": true
   },
   "outputs": [],
   "source": [
    "#!/usr/bin/python\n",
    "#coding=utf-8"
   ]
  },
  {
   "cell_type": "markdown",
   "metadata": {},
   "source": [
    "### 采用[Spark](http://spark.apache.org)处理[OpenStreetMap](http://www.openstreetmap.org)的osm文件。\n",
    "- Spark DataFrame参考: https://spark.apache.org/docs/1.3.0/sql-programming-guide.html#interoperating-with-rdds  \n",
    "> **  by [openthings@163.com](http://my.oschina.net/u/2306127/blog?catalog=3420733)，2016-4-23.      License: GPL, MUST include this header.**  \n",
    "\n",
    "#### 说明：\n",
    "- 使用sc.read.json()读取json文件（osm-all2json从osm转换而来），生成Spark的DataFrame对象。\n",
    "- 查询从json文件创建的DataFrame对象，创建新的DataFrame。\n",
    "- 读取way的nd索引（Node的ID），并构建way的geometry对象。\n",
    "\n",
    "> #### 后续：\n",
    "- 将数据保存到MongoDB/Hbase/HDFS等其它存储系统。\n",
    "- 将数据进行分块，保存为分区域的DataFrame数据集合。\n",
    "- 将DataFrame转换为GeoPandas.DataFrame，然后保存为shape files。\n",
    "- 将DataFrame直接转换为GIScript.Dataset，然后保存为UDB files。"
   ]
  },
  {
   "cell_type": "code",
   "execution_count": 2,
   "metadata": {
    "collapsed": false
   },
   "outputs": [
    {
     "name": "stdout",
     "output_type": "stream",
     "text": [
      "<module 'pyspark.status' from '/home/supermap/anaconda3/envs/GISpark/lib/python3.5/site-packages/pyspark/status.py'>\n"
     ]
    }
   ],
   "source": [
    "from pprint import *\n",
    "import pyspark\n",
    "from pyspark import SparkConf, SparkContext\n",
    "\n",
    "sc = None\n",
    "print(pyspark.status)"
   ]
  },
  {
   "cell_type": "markdown",
   "metadata": {},
   "source": [
    "### 配置环境SparkConf和创建SparkContext运行环境对象。"
   ]
  },
  {
   "cell_type": "code",
   "execution_count": 68,
   "metadata": {
    "collapsed": false
   },
   "outputs": [
    {
     "name": "stdout",
     "output_type": "stream",
     "text": [
      "<class 'pyspark.context.SparkContext'>\n",
      "<pyspark.context.SparkContext object at 0x7f10bb8c46a0>\n",
      "local-1461408071018\n"
     ]
    }
   ],
   "source": [
    "conf = (SparkConf()\n",
    "         .setMaster(\"local\")\n",
    "         .setAppName(\"MyApp\")\n",
    "         .set(\"spark.executor.memory\", \"1g\"))\n",
    "\n",
    "if sc is None:\n",
    "    sc = SparkContext(conf = conf)\n",
    "\n",
    "print(type(sc))\n",
    "print(sc)\n",
    "print(sc.applicationId)"
   ]
  },
  {
   "cell_type": "markdown",
   "metadata": {},
   "source": [
    "#### 显示Spark的配置信息。"
   ]
  },
  {
   "cell_type": "code",
   "execution_count": 67,
   "metadata": {
    "collapsed": false
   },
   "outputs": [
    {
     "name": "stdout",
     "output_type": "stream",
     "text": [
      "<pyspark.conf.SparkConf object at 0x7f10bb8bde80>\n",
      "[('spark.master', 'local'),\n",
      " ('spark.app.name', 'MyApp'),\n",
      " ('spark.executor.memory', '1g'),\n",
      " ('spark.rdd.compress', 'True'),\n",
      " ('spark.serializer.objectStreamReset', '100'),\n",
      " ('spark.submit.deployMode', 'client')]\n"
     ]
    }
   ],
   "source": [
    "print(conf)\n",
    "conf_kv = conf.getAll()\n",
    "pprint(conf_kv)"
   ]
  },
  {
   "cell_type": "markdown",
   "metadata": {},
   "source": [
    "## Spark的文本RDD操作。\n",
    "#### 按照文本方式读取osm的json格式文件，将JSON字符串转为dict对象。"
   ]
  },
  {
   "cell_type": "code",
   "execution_count": 5,
   "metadata": {
    "collapsed": false
   },
   "outputs": [
    {
     "name": "stdout",
     "output_type": "stream",
     "text": [
      "{'changeset': '34651972',\n",
      " 'id': '398692',\n",
      " 'lat': '48.1452196',\n",
      " 'lon': '11.5414971',\n",
      " 'tag': {'k': 'tmc', 'v': 'DE:35375'},\n",
      " 'timestamp': '2015-10-15T10:53:28Z',\n",
      " 'uid': '2290263',\n",
      " 'user': 'soemisch',\n",
      " 'version': '20',\n",
      " 'visible': 'true'}\n",
      "{'changeset': '34904180',\n",
      " 'id': '1956100',\n",
      " 'lat': '48.1434822',\n",
      " 'lon': '11.5487963',\n",
      " 'tag': [{'k': 'tmc', 'v': 'DE:61453'},\n",
      "         {'k': 'TMC:cid_58:tabcd_1:Class', 'v': 'Point'},\n",
      "         {'k': 'TMC:cid_58:tabcd_1:Direction', 'v': 'positive'},\n",
      "         {'k': 'TMC:cid_58:tabcd_1:LCLversion', 'v': '9.00'},\n",
      "         {'k': 'TMC:cid_58:tabcd_1:LocationCode', 'v': '35356'},\n",
      "         {'k': 'TMC:cid_58:tabcd_1:NextLocationCode', 'v': '35357'},\n",
      "         {'k': 'TMC:cid_58:tabcd_1:PrevLocationCode', 'v': '35355'}],\n",
      " 'timestamp': '2015-10-27T14:01:37Z',\n",
      " 'uid': '2385132',\n",
      " 'user': 'MENTZ_TU',\n",
      " 'version': '43',\n",
      " 'visible': 'true'}\n"
     ]
    }
   ],
   "source": [
    "fl = sc.textFile(\"../data/muenchen.osm_node.json\")\n",
    "for node in fl.collect()[0:2]:\n",
    "    node_dict = eval(node)\n",
    "    pprint(node_dict)"
   ]
  },
  {
   "cell_type": "markdown",
   "metadata": {},
   "source": [
    "####  从RDD中按照文本方式进行关键词查询。"
   ]
  },
  {
   "cell_type": "code",
   "execution_count": 28,
   "metadata": {
    "collapsed": false
   },
   "outputs": [
    {
     "name": "stdout",
     "output_type": "stream",
     "text": [
      "27\n",
      "{\"id\": \"398692\", \"visible\": \"true\", \"version\": \"20\", \"changeset\": \"34651972\", \"timestamp\": \"2015-10-15T10:53:28Z\", \"user\": \"soemisch\", \"uid\": \"2290263\", \"lat\": \"48.1452196\", \"lon\": \"11.5414971\", \"tag\": {\"k\": \"tmc\", \"v\": \"DE:35375\"}}\n"
     ]
    }
   ],
   "source": [
    "lines = fl.filter(lambda line: \"soemisch\" in line)\n",
    "print(lines.count())\n",
    "print(lines.collect()[0])"
   ]
  },
  {
   "cell_type": "markdown",
   "metadata": {},
   "source": [
    "## Spark的DataFrame操作。\n",
    "##### 使用SQL引擎直接生成Spark的DataFrame对象，支持查询等操作。\n",
    "### 读取osm的node数据表。"
   ]
  },
  {
   "cell_type": "code",
   "execution_count": 6,
   "metadata": {
    "collapsed": false
   },
   "outputs": [
    {
     "name": "stdout",
     "output_type": "stream",
     "text": [
      "root\n",
      " |-- changeset: string (nullable = true)\n",
      " |-- id: string (nullable = true)\n",
      " |-- lat: string (nullable = true)\n",
      " |-- lon: string (nullable = true)\n",
      " |-- tag: string (nullable = true)\n",
      " |-- timestamp: string (nullable = true)\n",
      " |-- uid: string (nullable = true)\n",
      " |-- user: string (nullable = true)\n",
      " |-- version: string (nullable = true)\n",
      " |-- visible: string (nullable = true)\n",
      "\n"
     ]
    }
   ],
   "source": [
    "from pyspark.sql import SQLContext\n",
    "\n",
    "sqlContext = SQLContext(sc)\n",
    "nodeDF = sqlContext.read.json(\"../data/muenchen.osm_node.json\")\n",
    "#print(nodeDF)\n",
    "nodeDF.printSchema()"
   ]
  },
  {
   "cell_type": "markdown",
   "metadata": {},
   "source": [
    "#### Spark DataFrame的 select() 操作。show()方法可以指定最多显示的记录数。"
   ]
  },
  {
   "cell_type": "code",
   "execution_count": 8,
   "metadata": {
    "collapsed": false
   },
   "outputs": [
    {
     "name": "stdout",
     "output_type": "stream",
     "text": [
      "+----------+----------+----------+--------------------+\n",
      "|        id|       lat|       lon|           timestamp|\n",
      "+----------+----------+----------+--------------------+\n",
      "|    398692|48.1452196|11.5414971|2015-10-15T10:53:28Z|\n",
      "|   1956100|48.1434822|11.5487963|2015-10-27T14:01:37Z|\n",
      "|  21565151|48.1414994|11.5522715|2012-03-01T20:37:08Z|\n",
      "|  21585828|48.1445431|11.5384205|2011-10-30T16:47:12Z|\n",
      "|  60300474|48.1406915|11.5502820|2011-11-20T13:24:04Z|\n",
      "| 256554156|48.1431978|11.5197388|2009-09-10T10:34:54Z|\n",
      "| 256554158|48.1432360|11.5170168|2012-03-24T14:42:27Z|\n",
      "| 256554152|48.1420008|11.5383182|2011-10-08T19:22:24Z|\n",
      "|1423405650|48.1398728|11.5447444|2015-05-04T23:26:30Z|\n",
      "|1423405651|48.1399051|11.5444005|2011-09-04T20:47:20Z|\n",
      "+----------+----------+----------+--------------------+\n",
      "only showing top 10 rows\n",
      "\n"
     ]
    }
   ],
   "source": [
    "nodeDF.select(\"id\",\"lat\",\"lon\",\"timestamp\").show(10,True)\n",
    "#help(nodeDF.show)"
   ]
  },
  {
   "cell_type": "markdown",
   "metadata": {},
   "source": [
    "### 读取osm的way表。"
   ]
  },
  {
   "cell_type": "code",
   "execution_count": 80,
   "metadata": {
    "collapsed": false
   },
   "outputs": [
    {
     "name": "stdout",
     "output_type": "stream",
     "text": [
      "root\n",
      " |-- changeset: string (nullable = true)\n",
      " |-- id: string (nullable = true)\n",
      " |-- nd: array (nullable = true)\n",
      " |    |-- element: struct (containsNull = true)\n",
      " |    |    |-- ref: string (nullable = true)\n",
      " |-- tag: string (nullable = true)\n",
      " |-- timestamp: string (nullable = true)\n",
      " |-- uid: string (nullable = true)\n",
      " |-- user: string (nullable = true)\n",
      " |-- version: string (nullable = true)\n",
      " |-- visible: string (nullable = true)\n",
      "\n"
     ]
    }
   ],
   "source": [
    "wayDF = sqlContext.read.json(\"../data/muenchen.osm_way.json\")\n",
    "wayDF.printSchema()"
   ]
  },
  {
   "cell_type": "markdown",
   "metadata": {},
   "source": [
    "#### 查看way表中的数据。"
   ]
  },
  {
   "cell_type": "code",
   "execution_count": 10,
   "metadata": {
    "collapsed": false
   },
   "outputs": [
    {
     "name": "stdout",
     "output_type": "stream",
     "text": [
      "+--------+--------------------+--------------------+\n",
      "|      id|                 tag|                  nd|\n",
      "+--------+--------------------+--------------------+\n",
      "|24665462|[{\"k\":\"bicycle\",\"...|[[21585827], [355...|\n",
      "|24665463|[{\"k\":\"highway\",\"...|[[268098191], [24...|\n",
      "|24665465|[{\"k\":\"highway\",\"...|[[268098203], [26...|\n",
      "|24665467|[{\"k\":\"bicycle\",\"...|[[480314303], [73...|\n",
      "|24699690|[{\"k\":\"highway\",\"...|[[268098194], [14...|\n",
      "|26612843|[{\"k\":\"highway\",\"...|[[302715923], [21...|\n",
      "|27571168|[{\"k\":\"addr:postc...|[[302733437], [30...|\n",
      "|27571239|[{\"k\":\"addr:postc...|[[302734100], [30...|\n",
      "|27571404|{\"k\":\"building\",\"...|[[302734471], [30...|\n",
      "|27571623|                null|[[304021384], [30...|\n",
      "+--------+--------------------+--------------------+\n",
      "only showing top 10 rows\n",
      "\n"
     ]
    }
   ],
   "source": [
    "wayDF.select(\"id\",\"tag\",\"nd\").show(10,True)"
   ]
  },
  {
   "cell_type": "markdown",
   "metadata": {},
   "source": [
    "## 构建way的几何对象。\n",
    "#### 从way中的每一条记录生成NodeID的字符串列表，用于下一步查询node的坐标信息表。"
   ]
  },
  {
   "cell_type": "code",
   "execution_count": 90,
   "metadata": {
    "collapsed": false
   },
   "outputs": [],
   "source": [
    "def sepator():\n",
    "    print(\"===============================================================\")\n",
    "\n",
    "#### 将给定way的nd对象的nodeID列表提取出来，并生成一个查询的过滤字符串。\n",
    "def nodelist_way(nd_list):\n",
    "    print(\"WayID:\",nd_list[\"id\"],\"\\tNode count:\",len(nd_list[\"nd\"]))\n",
    "    ndFilter = \"(\"\n",
    "    for nd in  nd_list[\"nd\"]:\n",
    "        ndFilter = ndFilter + nd[\"ref\"] + \",\"\n",
    "    ndFilter = ndFilter.strip(',') + \")\"\n",
    "    print(ndFilter)\n",
    "    return ndFilter\n",
    "\n",
    "#### 根据way的节点ID从nodeDF中提取node信息，包含经纬度等坐标域。\n",
    "def nodecoord_way(nodeID_list):\n",
    "    nodeDF.registerTempTable(\"nodeDF\")\n",
    "    nodeset = sqlContext.sql(\"select id,lat,lon,timestamp from nodeDF where nodeDF.id in \" + nodeID_list)\n",
    "    nodeset.show(10,True)"
   ]
  },
  {
   "cell_type": "markdown",
   "metadata": {},
   "source": [
    "#### 将多个way的node信息查询出来。"
   ]
  },
  {
   "cell_type": "code",
   "execution_count": 92,
   "metadata": {
    "collapsed": false
   },
   "outputs": [
    {
     "name": "stdout",
     "output_type": "stream",
     "text": [
      "WayID: 24699690 \tNode count: 8\n",
      "(268098194,1485915069,1485915055,1485915052,1485915050,268472655,268101008,268472657)\n",
      "+----------+----------+----------+--------------------+\n",
      "|        id|       lat|       lon|           timestamp|\n",
      "+----------+----------+----------+--------------------+\n",
      "| 268098194|48.1438349|11.5407441|2011-10-30T16:47:12Z|\n",
      "| 268472655|48.1437336|11.5405677|2011-10-30T16:47:13Z|\n",
      "| 268101008|48.1437746|11.5400268|2011-01-05T21:53:15Z|\n",
      "| 268472657|48.1439011|11.5383099|2011-10-30T16:47:13Z|\n",
      "|1485915050|48.1437336|11.5405815|2011-10-30T16:46:33Z|\n",
      "|1485915052|48.1437346|11.5405921|2011-10-30T16:46:33Z|\n",
      "|1485915055|48.1437370|11.5406022|2011-10-30T16:46:33Z|\n",
      "|1485915069|48.1437394|11.5406086|2011-10-30T16:46:33Z|\n",
      "+----------+----------+----------+--------------------+\n",
      "\n",
      "WayID: 26612843 \tNode count: 4\n",
      "(302715923,21632177,480314301,268098211)\n",
      "+---------+----------+----------+--------------------+\n",
      "|       id|       lat|       lon|           timestamp|\n",
      "+---------+----------+----------+--------------------+\n",
      "|268098211|48.1442398|11.5424654|2013-09-28T20:57:42Z|\n",
      "|480314301|48.1441518|11.5436803|2013-09-28T20:57:42Z|\n",
      "| 21632177|48.1441086|11.5442555|2013-09-28T20:57:42Z|\n",
      "|302715923|48.1440385|11.5442873|2013-09-28T20:57:43Z|\n",
      "+---------+----------+----------+--------------------+\n",
      "\n"
     ]
    }
   ],
   "source": [
    "for wayset in wayDF.select(\"id\",\"nd\").collect()[4:6]:\n",
    "    ndFilter = nodelist_way(wayset)\n",
    "    nodecoord_way(ndFilter)\n",
    "#pprint(nd_list[\"nd\"])\n",
    "#sepator()"
   ]
  },
  {
   "cell_type": "markdown",
   "metadata": {},
   "source": [
    "#### 将经纬度坐标转换为一个GeoJSON的几何对象表示，并保存回way的geometry字段。"
   ]
  },
  {
   "cell_type": "code",
   "execution_count": null,
   "metadata": {
    "collapsed": true
   },
   "outputs": [],
   "source": []
  },
  {
   "cell_type": "raw",
   "metadata": {
    "collapsed": false
   },
   "source": [
    "nodeDF.filter(nodeDF.id == [\"268098191\"]).show()"
   ]
  },
  {
   "cell_type": "code",
   "execution_count": 43,
   "metadata": {
    "collapsed": false
   },
   "outputs": [
    {
     "name": "stdout",
     "output_type": "stream",
     "text": [
      "root\n",
      " |-- changeset: string (nullable = true)\n",
      " |-- id: string (nullable = true)\n",
      " |-- timestamp: string (nullable = true)\n",
      " |-- uid: string (nullable = true)\n",
      " |-- user: string (nullable = true)\n",
      " |-- version: string (nullable = true)\n",
      " |-- visible: string (nullable = true)\n",
      "\n",
      "+---------+-------+--------------------+-------+-------------+-------+-------+\n",
      "|changeset|     id|           timestamp|    uid|         user|version|visible|\n",
      "+---------+-------+--------------------+-------+-------------+-------+-------+\n",
      "| 29285581|  56955|2015-03-06T09:41:33Z|  52766|       sakudo|      4|   true|\n",
      "| 22484051|  67194|2014-05-22T11:28:06Z|  14002|       Gehrke|      9|   true|\n",
      "| 31961030|  54390|2015-06-14T12:19:12Z|  88164|          Med|     21|   true|\n",
      "| 37014835|1785647|2016-02-05T08:39:05Z|2503913|         Cnny|     51|   true|\n",
      "| 31607796|3005967|2015-05-31T13:53:17Z|  88164|          Med|      3|   true|\n",
      "| 37979924|3005970|2016-03-21T16:15:23Z|3734915|       Bankel|      5|   true|\n",
      "| 30556388|2316667|2015-04-27T18:59:50Z|1771836| degernfelder|      2|   true|\n",
      "| 31455417|  63809|2015-05-25T19:32:40Z| 115042|Filius Martii|     46|   true|\n",
      "| 20780441|1100799|2014-02-25T21:40:45Z|  72235|  Basstoelpel|     12|   true|\n",
      "|  9212407|1739953|2011-09-04T20:47:32Z|  17085|     cfaerber|      1|   true|\n",
      "+---------+-------+--------------------+-------+-------------+-------+-------+\n",
      "only showing top 10 rows\n",
      "\n"
     ]
    }
   ],
   "source": [
    "relationDF = sqlContext.read.json(\"../data/muenchen.osm_relation.json\")\n",
    "#print(relationDF)\n",
    "relationDF.printSchema()\n",
    "relationDF.show(10,True)"
   ]
  },
  {
   "cell_type": "markdown",
   "metadata": {},
   "source": [
    "### 查找指定关键词。"
   ]
  },
  {
   "cell_type": "markdown",
   "metadata": {},
   "source": [
    "### 自定义函数处理。"
   ]
  },
  {
   "cell_type": "code",
   "execution_count": 9,
   "metadata": {
    "collapsed": false
   },
   "outputs": [
    {
     "data": {
      "text/plain": [
       "[4, 4, 4, 4, 4, 4]"
      ]
     },
     "execution_count": 9,
     "metadata": {},
     "output_type": "execute_result"
    }
   ],
   "source": [
    "def myFunc(s):\n",
    "        words = s.split()\n",
    "        return len(words)\n",
    "\n",
    "#wc = fl.map(myFunc).collect()\n",
    "wc = fl.map(myFunc).collect()\n",
    "wc"
   ]
  },
  {
   "cell_type": "code",
   "execution_count": 27,
   "metadata": {
    "collapsed": false
   },
   "outputs": [],
   "source": [
    "#df = sqlContext.read.format(\"com.databricks.spark.xml\").option(\"rowTag\", \"result\").load(\"../data/muenchen.osm\")\n",
    "#df"
   ]
  },
  {
   "cell_type": "code",
   "execution_count": null,
   "metadata": {
    "collapsed": true
   },
   "outputs": [],
   "source": []
  }
 ],
 "metadata": {
  "kernelspec": {
   "display_name": "Python 3",
   "language": "python",
   "name": "python3"
  },
  "language_info": {
   "codemirror_mode": {
    "name": "ipython",
    "version": 3
   },
   "file_extension": ".py",
   "mimetype": "text/x-python",
   "name": "python",
   "nbconvert_exporter": "python",
   "pygments_lexer": "ipython3",
   "version": "3.5.1"
  }
 },
 "nbformat": 4,
 "nbformat_minor": 0
}
