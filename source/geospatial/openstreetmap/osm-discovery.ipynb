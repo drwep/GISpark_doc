{
 "cells": [
  {
   "cell_type": "code",
   "execution_count": 1,
   "metadata": {
    "collapsed": true
   },
   "outputs": [],
   "source": [
    "#!/usr/bin/python\n",
    "#coding=utf-8"
   ]
  },
  {
   "cell_type": "markdown",
   "metadata": {},
   "source": [
    "# 探索OSM的文件格式(Node对象)。\n",
    "#### 在线获取[OpenStreetMap](http://www.openstreetmap.org)区域地图数据，转为GeoPandas，并最终转为shp格式文件。\n",
    "**_ by [openthings@163.com](http://my.oschina.net/u/2306127/blog) _**"
   ]
  },
  {
   "cell_type": "markdown",
   "metadata": {},
   "source": [
    "** OSM为xml格式，解析文件结构使用强大的requests数据下载包，网页和xml分析神器BeautifulSoup。**\n",
    "<font color=\"red\">**注意：**由于BeautifulSoup将数据读到内存处理，因此不适合大数据量的处理。</font>"
   ]
  },
  {
   "cell_type": "code",
   "execution_count": 8,
   "metadata": {
    "collapsed": true
   },
   "outputs": [],
   "source": [
    "from bs4 import BeautifulSoup as bs\n",
    "import requests as req\n",
    "from pprint import *"
   ]
  },
  {
   "cell_type": "markdown",
   "metadata": {},
   "source": [
    "#### 直接下载到内存。不推荐使用，因为如果网络中断，需要重新下载。"
   ]
  },
  {
   "cell_type": "code",
   "execution_count": null,
   "metadata": {
    "collapsed": true
   },
   "outputs": [],
   "source": [
    "url = \"http://api.openstreetmap.org/api/0.6/map?bbox=11.54,48.14,11.543,48.145\"\n",
    "try:\n",
    "    r = req.get(url)\n",
    "    print(r)\n",
    "except Exception as ex:\n",
    "    print(\"Error:\",ex)  "
   ]
  },
  {
   "cell_type": "markdown",
   "metadata": {},
   "source": [
    "#### 使用wget -c下载OSM数据，保存到本地文件，然后载入。"
   ]
  },
  {
   "cell_type": "code",
   "execution_count": 3,
   "metadata": {
    "collapsed": false
   },
   "outputs": [
    {
     "name": "stdout",
     "output_type": "stream",
     "text": [
      "--2016-05-04 14:59:47--  http://api.openstreetmap.org/api/0.6/map?bbox=11.54,48.14,11.543,48.145\n",
      "正在解析主机 api.openstreetmap.org (api.openstreetmap.org)... 193.63.75.99, 193.63.75.100, 193.63.75.103, ...\n",
      "正在连接 api.openstreetmap.org (api.openstreetmap.org)|193.63.75.99|:80... 已连接。\n",
      "已发出 HTTP 请求，正在等待回应... 200 OK\n",
      "长度： 未指定 [text/xml]\n",
      "正在保存至: “osm_test.osm”\n",
      "\n",
      "osm_test.osm            [        <=>         ]   2.67M  87.2KB/s    in 39s     \n",
      "\n",
      "2016-05-04 15:00:27 (71.0 KB/s) - “osm_test.osm” 已保存 [2799533]\n",
      "\n"
     ]
    }
   ],
   "source": [
    "!wget -c -O osm_test.osm \"http://api.openstreetmap.org/api/0.6/map?bbox=11.54,48.14,11.543,48.145\""
   ]
  },
  {
   "cell_type": "markdown",
   "metadata": {},
   "source": [
    "#### 查看文件列表。可到当前目录去查看内容，由于文件较大，不要在本页面直接打开。"
   ]
  },
  {
   "cell_type": "code",
   "execution_count": 5,
   "metadata": {
    "collapsed": false
   },
   "outputs": [
    {
     "name": "stdout",
     "output_type": "stream",
     "text": [
      "总用量 2.8M\r\n",
      "-rw-rw-r-- 1 supermap supermap  24K 5月   4 15:02 osm-discovery.ipynb\r\n",
      "-rw-rw-r-- 1 supermap supermap 5.0K 4月  24 17:45 osm-overpass.ipynb\r\n",
      "-rw-rw-r-- 1 supermap supermap  15K 4月  23 08:23 osm-tag2json.ipynb\r\n",
      "-rw-rw-r-- 1 supermap supermap 2.7M 5月   4 15:00 osm_test.osm\r\n"
     ]
    }
   ],
   "source": [
    "!ls -l -h"
   ]
  },
  {
   "cell_type": "markdown",
   "metadata": {},
   "source": [
    "## 直接读取本地文件，获得范围信息。"
   ]
  },
  {
   "cell_type": "code",
   "execution_count": 10,
   "metadata": {
    "collapsed": false
   },
   "outputs": [
    {
     "name": "stdout",
     "output_type": "stream",
     "text": [
      "[<bounds maxlat=\"48.1450000\" maxlon=\"11.5430000\" minlat=\"48.1400000\" minlon=\"11.5400000\"></bounds>]\n"
     ]
    }
   ],
   "source": [
    "#bsr = bs(atext,\"lxml\")\n",
    "bsr = bs(open(\"osm_test.osm\"),\"lxml\")\n",
    "\n",
    "mbr = bsr.find_all('bounds')\n",
    "print(mbr)"
   ]
  },
  {
   "cell_type": "markdown",
   "metadata": {},
   "source": [
    "### 获得osm文件中所有的node对象。"
   ]
  },
  {
   "cell_type": "code",
   "execution_count": 11,
   "metadata": {
    "collapsed": false
   },
   "outputs": [
    {
     "name": "stdout",
     "output_type": "stream",
     "text": [
      "All Nodes: 1864 , list 0-5:\n",
      "[<node changeset=\"34651972\" id=\"398692\" lat=\"48.1452196\" lon=\"11.5414971\" timestamp=\"2015-10-15T10:53:28Z\" uid=\"2290263\" user=\"soemisch\" version=\"20\" visible=\"true\">\n",
      "<tag k=\"tmc\" v=\"DE:35375\"></tag>\n",
      "</node>,\n",
      " <node changeset=\"34904180\" id=\"1956100\" lat=\"48.1434822\" lon=\"11.5487963\" timestamp=\"2015-10-27T14:01:37Z\" uid=\"2385132\" user=\"MENTZ_TU\" version=\"43\" visible=\"true\">\n",
      "<tag k=\"tmc\" v=\"DE:61453\"></tag>\n",
      "<tag k=\"TMC:cid_58:tabcd_1:Class\" v=\"Point\"></tag>\n",
      "<tag k=\"TMC:cid_58:tabcd_1:Direction\" v=\"positive\"></tag>\n",
      "<tag k=\"TMC:cid_58:tabcd_1:LCLversion\" v=\"9.00\"></tag>\n",
      "<tag k=\"TMC:cid_58:tabcd_1:LocationCode\" v=\"35356\"></tag>\n",
      "<tag k=\"TMC:cid_58:tabcd_1:NextLocationCode\" v=\"35357\"></tag>\n",
      "<tag k=\"TMC:cid_58:tabcd_1:PrevLocationCode\" v=\"35355\"></tag>\n",
      "</node>,\n",
      " <node changeset=\"10842011\" id=\"21565151\" lat=\"48.1414994\" lon=\"11.5522715\" timestamp=\"2012-03-01T20:37:08Z\" uid=\"342705\" user=\"KonB\" version=\"4\" visible=\"true\"></node>,\n",
      " <node changeset=\"9695595\" id=\"21585828\" lat=\"48.1445431\" lon=\"11.5384205\" timestamp=\"2011-10-30T16:47:12Z\" uid=\"534662\" user=\"Q12\" version=\"17\" visible=\"true\"></node>,\n",
      " <node changeset=\"9883923\" id=\"60300474\" lat=\"48.1406915\" lon=\"11.5502820\" timestamp=\"2011-11-20T13:24:04Z\" uid=\"64536\" user=\"Michael Forster\" version=\"4\" visible=\"true\"></node>]\n"
     ]
    }
   ],
   "source": [
    "nodelist = bsr.find_all('node')\n",
    "\n",
    "print(\"All Nodes:\",len(nodelist),\", list 0-5:\")\n",
    "pprint(nodelist[0:5])"
   ]
  },
  {
   "cell_type": "markdown",
   "metadata": {},
   "source": [
    "### 查看node的数据结构。"
   ]
  },
  {
   "cell_type": "code",
   "execution_count": 14,
   "metadata": {
    "collapsed": false
   },
   "outputs": [
    {
     "name": "stdout",
     "output_type": "stream",
     "text": [
      "<node changeset=\"34651972\" id=\"398692\" lat=\"48.1452196\" lon=\"11.5414971\" timestamp=\"2015-10-15T10:53:28Z\" uid=\"2290263\" user=\"soemisch\" version=\"20\" visible=\"true\">\n",
      "<tag k=\"tmc\" v=\"DE:35375\"></tag>\n",
      "</node>\n"
     ]
    }
   ],
   "source": [
    "node = nodelist[0]\n",
    "print(node)"
   ]
  },
  {
   "cell_type": "code",
   "execution_count": 15,
   "metadata": {
    "collapsed": false
   },
   "outputs": [
    {
     "data": {
      "text/plain": [
       "{'changeset': '34651972',\n",
       " 'id': '398692',\n",
       " 'lat': '48.1452196',\n",
       " 'lon': '11.5414971',\n",
       " 'timestamp': '2015-10-15T10:53:28Z',\n",
       " 'uid': '2290263',\n",
       " 'user': 'soemisch',\n",
       " 'version': '20',\n",
       " 'visible': 'true'}"
      ]
     },
     "execution_count": 15,
     "metadata": {},
     "output_type": "execute_result"
    }
   ],
   "source": [
    "node.attrs"
   ]
  },
  {
   "cell_type": "markdown",
   "metadata": {},
   "source": [
    "### 解析Node的属性，以K:V存储的值。"
   ]
  },
  {
   "cell_type": "code",
   "execution_count": 16,
   "metadata": {
    "collapsed": false
   },
   "outputs": [
    {
     "name": "stdout",
     "output_type": "stream",
     "text": [
      "lon : 11.5414971\n",
      "user : soemisch\n",
      "timestamp : 2015-10-15T10:53:28Z\n",
      "id : 398692\n",
      "uid : 2290263\n",
      "version : 20\n",
      "visible : true\n",
      "changeset : 34651972\n",
      "lat : 48.1452196\n"
     ]
    }
   ],
   "source": [
    "for (k,v) in node.attrs.items():\n",
    "    print(k,\":\",v)"
   ]
  },
  {
   "cell_type": "markdown",
   "metadata": {},
   "source": [
    "### 将nodelist转换为Pandas.DataFrame，为了便于显示，只处理了5个node。"
   ]
  },
  {
   "cell_type": "code",
   "execution_count": 17,
   "metadata": {
    "collapsed": false
   },
   "outputs": [
    {
     "data": {
      "text/html": [
       "<div>\n",
       "<table border=\"1\" class=\"dataframe\">\n",
       "  <thead>\n",
       "    <tr style=\"text-align: right;\">\n",
       "      <th></th>\n",
       "      <th>changeset</th>\n",
       "      <th>id</th>\n",
       "      <th>lat</th>\n",
       "      <th>lon</th>\n",
       "      <th>timestamp</th>\n",
       "      <th>uid</th>\n",
       "      <th>user</th>\n",
       "      <th>version</th>\n",
       "      <th>visible</th>\n",
       "    </tr>\n",
       "  </thead>\n",
       "  <tbody>\n",
       "    <tr>\n",
       "      <th>0</th>\n",
       "      <td>34651972</td>\n",
       "      <td>398692</td>\n",
       "      <td>48.1452196</td>\n",
       "      <td>11.5414971</td>\n",
       "      <td>2015-10-15T10:53:28Z</td>\n",
       "      <td>2290263</td>\n",
       "      <td>soemisch</td>\n",
       "      <td>20</td>\n",
       "      <td>true</td>\n",
       "    </tr>\n",
       "    <tr>\n",
       "      <th>1</th>\n",
       "      <td>34904180</td>\n",
       "      <td>1956100</td>\n",
       "      <td>48.1434822</td>\n",
       "      <td>11.5487963</td>\n",
       "      <td>2015-10-27T14:01:37Z</td>\n",
       "      <td>2385132</td>\n",
       "      <td>MENTZ_TU</td>\n",
       "      <td>43</td>\n",
       "      <td>true</td>\n",
       "    </tr>\n",
       "    <tr>\n",
       "      <th>2</th>\n",
       "      <td>10842011</td>\n",
       "      <td>21565151</td>\n",
       "      <td>48.1414994</td>\n",
       "      <td>11.5522715</td>\n",
       "      <td>2012-03-01T20:37:08Z</td>\n",
       "      <td>342705</td>\n",
       "      <td>KonB</td>\n",
       "      <td>4</td>\n",
       "      <td>true</td>\n",
       "    </tr>\n",
       "    <tr>\n",
       "      <th>3</th>\n",
       "      <td>9695595</td>\n",
       "      <td>21585828</td>\n",
       "      <td>48.1445431</td>\n",
       "      <td>11.5384205</td>\n",
       "      <td>2011-10-30T16:47:12Z</td>\n",
       "      <td>534662</td>\n",
       "      <td>Q12</td>\n",
       "      <td>17</td>\n",
       "      <td>true</td>\n",
       "    </tr>\n",
       "    <tr>\n",
       "      <th>4</th>\n",
       "      <td>9883923</td>\n",
       "      <td>60300474</td>\n",
       "      <td>48.1406915</td>\n",
       "      <td>11.5502820</td>\n",
       "      <td>2011-11-20T13:24:04Z</td>\n",
       "      <td>64536</td>\n",
       "      <td>Michael Forster</td>\n",
       "      <td>4</td>\n",
       "      <td>true</td>\n",
       "    </tr>\n",
       "    <tr>\n",
       "      <th>5</th>\n",
       "      <td>2434259</td>\n",
       "      <td>256554156</td>\n",
       "      <td>48.1431978</td>\n",
       "      <td>11.5197388</td>\n",
       "      <td>2009-09-10T10:34:54Z</td>\n",
       "      <td>127922</td>\n",
       "      <td>w3box</td>\n",
       "      <td>4</td>\n",
       "      <td>true</td>\n",
       "    </tr>\n",
       "    <tr>\n",
       "      <th>6</th>\n",
       "      <td>11085110</td>\n",
       "      <td>256554158</td>\n",
       "      <td>48.1432360</td>\n",
       "      <td>11.5170168</td>\n",
       "      <td>2012-03-24T14:42:27Z</td>\n",
       "      <td>342705</td>\n",
       "      <td>KonB</td>\n",
       "      <td>5</td>\n",
       "      <td>true</td>\n",
       "    </tr>\n",
       "    <tr>\n",
       "      <th>7</th>\n",
       "      <td>9505942</td>\n",
       "      <td>256554152</td>\n",
       "      <td>48.1420008</td>\n",
       "      <td>11.5383182</td>\n",
       "      <td>2011-10-08T19:22:24Z</td>\n",
       "      <td>334153</td>\n",
       "      <td>Alexander Roalter</td>\n",
       "      <td>4</td>\n",
       "      <td>true</td>\n",
       "    </tr>\n",
       "    <tr>\n",
       "      <th>8</th>\n",
       "      <td>30794039</td>\n",
       "      <td>1423405650</td>\n",
       "      <td>48.1398728</td>\n",
       "      <td>11.5447444</td>\n",
       "      <td>2015-05-04T23:26:30Z</td>\n",
       "      <td>354141</td>\n",
       "      <td>Anoniman</td>\n",
       "      <td>2</td>\n",
       "      <td>true</td>\n",
       "    </tr>\n",
       "    <tr>\n",
       "      <th>9</th>\n",
       "      <td>9212407</td>\n",
       "      <td>1423405651</td>\n",
       "      <td>48.1399051</td>\n",
       "      <td>11.5444005</td>\n",
       "      <td>2011-09-04T20:47:20Z</td>\n",
       "      <td>17085</td>\n",
       "      <td>cfaerber</td>\n",
       "      <td>1</td>\n",
       "      <td>true</td>\n",
       "    </tr>\n",
       "  </tbody>\n",
       "</table>\n",
       "</div>"
      ],
      "text/plain": [
       "  changeset          id         lat         lon             timestamp  \\\n",
       "0  34651972      398692  48.1452196  11.5414971  2015-10-15T10:53:28Z   \n",
       "1  34904180     1956100  48.1434822  11.5487963  2015-10-27T14:01:37Z   \n",
       "2  10842011    21565151  48.1414994  11.5522715  2012-03-01T20:37:08Z   \n",
       "3   9695595    21585828  48.1445431  11.5384205  2011-10-30T16:47:12Z   \n",
       "4   9883923    60300474  48.1406915  11.5502820  2011-11-20T13:24:04Z   \n",
       "5   2434259   256554156  48.1431978  11.5197388  2009-09-10T10:34:54Z   \n",
       "6  11085110   256554158  48.1432360  11.5170168  2012-03-24T14:42:27Z   \n",
       "7   9505942   256554152  48.1420008  11.5383182  2011-10-08T19:22:24Z   \n",
       "8  30794039  1423405650  48.1398728  11.5447444  2015-05-04T23:26:30Z   \n",
       "9   9212407  1423405651  48.1399051  11.5444005  2011-09-04T20:47:20Z   \n",
       "\n",
       "       uid               user version visible  \n",
       "0  2290263           soemisch      20    true  \n",
       "1  2385132           MENTZ_TU      43    true  \n",
       "2   342705               KonB       4    true  \n",
       "3   534662                Q12      17    true  \n",
       "4    64536    Michael Forster       4    true  \n",
       "5   127922              w3box       4    true  \n",
       "6   342705               KonB       5    true  \n",
       "7   334153  Alexander Roalter       4    true  \n",
       "8   354141           Anoniman       2    true  \n",
       "9    17085           cfaerber       1    true  "
      ]
     },
     "execution_count": 17,
     "metadata": {},
     "output_type": "execute_result"
    }
   ],
   "source": [
    "import pandas as pd\n",
    "nodelist2 = []\n",
    "for node in nodelist[0:10]:\n",
    "    nodelist2.append(node.attrs)\n",
    "#print(nodelist2)\n",
    "\n",
    "df = pd.DataFrame(nodelist2)\n",
    "df"
   ]
  },
  {
   "cell_type": "markdown",
   "metadata": {},
   "source": [
    "### 将Pandas.DataFrame转为GeoPandas.DataFrame，点生成为GeoSeries。  \n",
    "**注意:** 需要安装shapely和geopandas包。在anaconda先运行source activate GISpark，然后安装：  \n",
    "```\n",
    "conda install -y -c https://conda.anaconda.org/conda-forge fiona  \n",
    "conda install -y -c https://conda.anaconda.org/conda-forge gdal  \n",
    "conda install -y -c https://conda.anaconda.org/conda-forge geopandas  \n",
    "conda install -y -c https://conda.anaconda.org/conda-forge geojson \n",
    "```"
   ]
  },
  {
   "cell_type": "code",
   "execution_count": 18,
   "metadata": {
    "collapsed": false
   },
   "outputs": [],
   "source": [
    "from shapely.geometry import (Point, LinearRing, LineString, Polygon, MultiPoint)\n",
    "from geopandas import GeoSeries, GeoDataFrame\n",
    "from geopandas.base import GeoPandasBase\n",
    "\n",
    "def node2pandas(nodelist):\n",
    "    nodelist2 = []\n",
    "    for node in nodelist[0:10]:\n",
    "        nodelist2.append(node.attrs)\n",
    "    df = pd.DataFrame(nodelist2)\n",
    "    return df\n",
    "\n",
    "def pandas2geopandas(nodelist):\n",
    "    pass\n",
    "\n",
    "def node2geopandas(nodelist):\n",
    "    df = node2pandas(nodelist)\n",
    "\n",
    "    ps = []\n",
    "    ps0 = [1]\n",
    "    for index, row in df.iterrows():\n",
    "        #print(index,':',row['lat'],'-',row['lon'])\n",
    "        ps0[0] = Point(float(row['lon']),float(row['lat']))\n",
    "        ps.append(ps0[0])\n",
    "\n",
    "    gs = GeoSeries(ps,crs={'init': 'epsg:4326', 'no_defs': True})        \n",
    "    geodf = GeoDataFrame({'id' : df[\"id\"],'user' : df[\"id\"], \n",
    "                        'lon' : df[\"lon\"],'lat' : df[\"lat\"],\n",
    "                        'timestamp' : df[\"timestamp\"],'uid' : df[\"uid\"],'version' : df[\"version\"],\n",
    "                        'geometry' : gs\n",
    "                        })\n",
    "    return geodf"
   ]
  },
  {
   "cell_type": "code",
   "execution_count": 19,
   "metadata": {
    "collapsed": false
   },
   "outputs": [
    {
     "data": {
      "text/html": [
       "<div>\n",
       "<table border=\"1\" class=\"dataframe\">\n",
       "  <thead>\n",
       "    <tr style=\"text-align: right;\">\n",
       "      <th></th>\n",
       "      <th>geometry</th>\n",
       "      <th>id</th>\n",
       "      <th>lat</th>\n",
       "      <th>lon</th>\n",
       "      <th>timestamp</th>\n",
       "      <th>uid</th>\n",
       "      <th>user</th>\n",
       "      <th>version</th>\n",
       "    </tr>\n",
       "  </thead>\n",
       "  <tbody>\n",
       "    <tr>\n",
       "      <th>0</th>\n",
       "      <td>POINT (11.5414971 48.1452196)</td>\n",
       "      <td>398692</td>\n",
       "      <td>48.1452196</td>\n",
       "      <td>11.5414971</td>\n",
       "      <td>2015-10-15T10:53:28Z</td>\n",
       "      <td>2290263</td>\n",
       "      <td>398692</td>\n",
       "      <td>20</td>\n",
       "    </tr>\n",
       "    <tr>\n",
       "      <th>1</th>\n",
       "      <td>POINT (11.5487963 48.1434822)</td>\n",
       "      <td>1956100</td>\n",
       "      <td>48.1434822</td>\n",
       "      <td>11.5487963</td>\n",
       "      <td>2015-10-27T14:01:37Z</td>\n",
       "      <td>2385132</td>\n",
       "      <td>1956100</td>\n",
       "      <td>43</td>\n",
       "    </tr>\n",
       "    <tr>\n",
       "      <th>2</th>\n",
       "      <td>POINT (11.5522715 48.1414994)</td>\n",
       "      <td>21565151</td>\n",
       "      <td>48.1414994</td>\n",
       "      <td>11.5522715</td>\n",
       "      <td>2012-03-01T20:37:08Z</td>\n",
       "      <td>342705</td>\n",
       "      <td>21565151</td>\n",
       "      <td>4</td>\n",
       "    </tr>\n",
       "    <tr>\n",
       "      <th>3</th>\n",
       "      <td>POINT (11.5384205 48.1445431)</td>\n",
       "      <td>21585828</td>\n",
       "      <td>48.1445431</td>\n",
       "      <td>11.5384205</td>\n",
       "      <td>2011-10-30T16:47:12Z</td>\n",
       "      <td>534662</td>\n",
       "      <td>21585828</td>\n",
       "      <td>17</td>\n",
       "    </tr>\n",
       "    <tr>\n",
       "      <th>4</th>\n",
       "      <td>POINT (11.550282 48.1406915)</td>\n",
       "      <td>60300474</td>\n",
       "      <td>48.1406915</td>\n",
       "      <td>11.5502820</td>\n",
       "      <td>2011-11-20T13:24:04Z</td>\n",
       "      <td>64536</td>\n",
       "      <td>60300474</td>\n",
       "      <td>4</td>\n",
       "    </tr>\n",
       "    <tr>\n",
       "      <th>5</th>\n",
       "      <td>POINT (11.5197388 48.1431978)</td>\n",
       "      <td>256554156</td>\n",
       "      <td>48.1431978</td>\n",
       "      <td>11.5197388</td>\n",
       "      <td>2009-09-10T10:34:54Z</td>\n",
       "      <td>127922</td>\n",
       "      <td>256554156</td>\n",
       "      <td>4</td>\n",
       "    </tr>\n",
       "    <tr>\n",
       "      <th>6</th>\n",
       "      <td>POINT (11.5170168 48.143236)</td>\n",
       "      <td>256554158</td>\n",
       "      <td>48.1432360</td>\n",
       "      <td>11.5170168</td>\n",
       "      <td>2012-03-24T14:42:27Z</td>\n",
       "      <td>342705</td>\n",
       "      <td>256554158</td>\n",
       "      <td>5</td>\n",
       "    </tr>\n",
       "    <tr>\n",
       "      <th>7</th>\n",
       "      <td>POINT (11.5383182 48.1420008)</td>\n",
       "      <td>256554152</td>\n",
       "      <td>48.1420008</td>\n",
       "      <td>11.5383182</td>\n",
       "      <td>2011-10-08T19:22:24Z</td>\n",
       "      <td>334153</td>\n",
       "      <td>256554152</td>\n",
       "      <td>4</td>\n",
       "    </tr>\n",
       "    <tr>\n",
       "      <th>8</th>\n",
       "      <td>POINT (11.5447444 48.1398728)</td>\n",
       "      <td>1423405650</td>\n",
       "      <td>48.1398728</td>\n",
       "      <td>11.5447444</td>\n",
       "      <td>2015-05-04T23:26:30Z</td>\n",
       "      <td>354141</td>\n",
       "      <td>1423405650</td>\n",
       "      <td>2</td>\n",
       "    </tr>\n",
       "    <tr>\n",
       "      <th>9</th>\n",
       "      <td>POINT (11.5444005 48.1399051)</td>\n",
       "      <td>1423405651</td>\n",
       "      <td>48.1399051</td>\n",
       "      <td>11.5444005</td>\n",
       "      <td>2011-09-04T20:47:20Z</td>\n",
       "      <td>17085</td>\n",
       "      <td>1423405651</td>\n",
       "      <td>1</td>\n",
       "    </tr>\n",
       "  </tbody>\n",
       "</table>\n",
       "</div>"
      ],
      "text/plain": [
       "                        geometry          id         lat         lon  \\\n",
       "0  POINT (11.5414971 48.1452196)      398692  48.1452196  11.5414971   \n",
       "1  POINT (11.5487963 48.1434822)     1956100  48.1434822  11.5487963   \n",
       "2  POINT (11.5522715 48.1414994)    21565151  48.1414994  11.5522715   \n",
       "3  POINT (11.5384205 48.1445431)    21585828  48.1445431  11.5384205   \n",
       "4   POINT (11.550282 48.1406915)    60300474  48.1406915  11.5502820   \n",
       "5  POINT (11.5197388 48.1431978)   256554156  48.1431978  11.5197388   \n",
       "6   POINT (11.5170168 48.143236)   256554158  48.1432360  11.5170168   \n",
       "7  POINT (11.5383182 48.1420008)   256554152  48.1420008  11.5383182   \n",
       "8  POINT (11.5447444 48.1398728)  1423405650  48.1398728  11.5447444   \n",
       "9  POINT (11.5444005 48.1399051)  1423405651  48.1399051  11.5444005   \n",
       "\n",
       "              timestamp      uid        user version  \n",
       "0  2015-10-15T10:53:28Z  2290263      398692      20  \n",
       "1  2015-10-27T14:01:37Z  2385132     1956100      43  \n",
       "2  2012-03-01T20:37:08Z   342705    21565151       4  \n",
       "3  2011-10-30T16:47:12Z   534662    21585828      17  \n",
       "4  2011-11-20T13:24:04Z    64536    60300474       4  \n",
       "5  2009-09-10T10:34:54Z   127922   256554156       4  \n",
       "6  2012-03-24T14:42:27Z   342705   256554158       5  \n",
       "7  2011-10-08T19:22:24Z   334153   256554152       4  \n",
       "8  2015-05-04T23:26:30Z   354141  1423405650       2  \n",
       "9  2011-09-04T20:47:20Z    17085  1423405651       1  "
      ]
     },
     "execution_count": 19,
     "metadata": {},
     "output_type": "execute_result"
    }
   ],
   "source": [
    "gdf = node2geopandas(nodelist)\n",
    "gdf"
   ]
  },
  {
   "cell_type": "markdown",
   "metadata": {},
   "source": [
    "### 保存为shape格式文件。"
   ]
  },
  {
   "cell_type": "code",
   "execution_count": 20,
   "metadata": {
    "collapsed": true
   },
   "outputs": [],
   "source": [
    "filename = \"osm_test.shp\"\n",
    "gdf.to_file(filename)"
   ]
  },
  {
   "cell_type": "markdown",
   "metadata": {},
   "source": [
    "### 查看一下文件列表。"
   ]
  },
  {
   "cell_type": "code",
   "execution_count": 21,
   "metadata": {
    "collapsed": false
   },
   "outputs": [
    {
     "name": "stdout",
     "output_type": "stream",
     "text": [
      "总用量 2.8M\r\n",
      "-rw-rw-r-- 1 supermap supermap  25K 5月   4 15:17 osm-discovery.ipynb\r\n",
      "-rw-rw-r-- 1 supermap supermap 5.0K 4月  24 17:45 osm-overpass.ipynb\r\n",
      "-rw-rw-r-- 1 supermap supermap  15K 4月  23 08:23 osm-tag2json.ipynb\r\n",
      "-rw-rw-r-- 1 supermap supermap   10 5月   4 15:17 osm_test.cpg\r\n",
      "-rw-rw-r-- 1 supermap supermap 5.8K 5月   4 15:17 osm_test.dbf\r\n",
      "-rw-rw-r-- 1 supermap supermap 2.7M 5月   4 15:00 osm_test.osm\r\n",
      "-rw-rw-r-- 1 supermap supermap  380 5月   4 15:17 osm_test.shp\r\n",
      "-rw-rw-r-- 1 supermap supermap  180 5月   4 15:17 osm_test.shx\r\n"
     ]
    }
   ],
   "source": [
    "!ls -l -h"
   ]
  },
  {
   "cell_type": "code",
   "execution_count": null,
   "metadata": {
    "collapsed": true
   },
   "outputs": [],
   "source": []
  }
 ],
 "metadata": {
  "kernelspec": {
   "display_name": "Python 3",
   "language": "python",
   "name": "python3"
  },
  "language_info": {
   "codemirror_mode": {
    "name": "ipython",
    "version": 3
   },
   "file_extension": ".py",
   "mimetype": "text/x-python",
   "name": "python",
   "nbconvert_exporter": "python",
   "pygments_lexer": "ipython3",
   "version": "3.5.1"
  }
 },
 "nbformat": 4,
 "nbformat_minor": 0
}
