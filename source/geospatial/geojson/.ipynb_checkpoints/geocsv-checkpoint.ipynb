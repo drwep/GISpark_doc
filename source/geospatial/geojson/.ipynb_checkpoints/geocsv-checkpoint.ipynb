{
 "cells": [
  {
   "cell_type": "markdown",
   "metadata": {},
   "source": [
    "# GeoCSV 格式\n",
    "\n",
    "Hadoop和Spark为了便于分布式处理中数据切分，都主要按照分行处理方式设计。因此，空间数据经常保存为空间数据CSV格式，方便在分布式环境下使用。\n",
    "\n",
    "CSV格式是一种明码文本格式，数据域一般以`\"`分隔和表格符`\\t`两种常见格式，可以使用常见的文本编辑器直接打开、查看。GeoCSV中的几何对象一般采用[WKT(well known text)](geowkt.ipynb)、WKB(WKT的二进制编码)或GeoJSON格式存储，每行以回车结束。"
   ]
  },
  {
   "cell_type": "markdown",
   "metadata": {},
   "source": [
    "读写一个csv文件的流程：\n",
    "\n",
    "    打开一个csv文件。\n",
    "        扫描每一行：\n",
    "            获得Geometry域的字符串。\n",
    "            将字符串解码为几何对象。\n",
    "            使用该几何对象。\n",
    "    关闭文件。"
   ]
  },
  {
   "cell_type": "markdown",
   "metadata": {},
   "source": [
    "* GeoPandas\n",
    "\n",
    "使用GeoPandas可以创建GeoDataframe对象，将其保存为csv格式或者shp格式。"
   ]
  },
  {
   "cell_type": "markdown",
   "metadata": {},
   "source": [
    "* Spark\n",
    "\n",
    "Spark中的DataFrame对象和RDD都不直接支持几何对象类型，但可以将任何一个字符串域作为几何对象域来使用。\n",
    "\n",
    "目前，GISpark项目在做几何对象扩展的开发工作，主要通过三种形式调用：\n",
    "\n",
    "    1、基于RDD实现Scala的Geometry操作，并封装为Python等接口，功能较少。\n",
    "    2、基于iObject for Scala的对象操作，并封装为Python等接口，功能完整。\n",
    "    3、使用GIScript，基于Python语言在各个节点上运行计算模型，容易扩展、非常灵活。"
   ]
  }
 ],
 "metadata": {
  "kernelspec": {
   "display_name": "Python 3",
   "language": "python",
   "name": "python3"
  },
  "language_info": {
   "codemirror_mode": {
    "name": "ipython",
    "version": 3
   },
   "file_extension": ".py",
   "mimetype": "text/x-python",
   "name": "python",
   "nbconvert_exporter": "python",
   "pygments_lexer": "ipython3",
   "version": "3.5.1"
  }
 },
 "nbformat": 4,
 "nbformat_minor": 0
}
