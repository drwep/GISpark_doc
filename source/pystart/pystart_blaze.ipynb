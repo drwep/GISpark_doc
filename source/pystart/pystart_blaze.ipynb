{
 "cells": [
  {
   "cell_type": "markdown",
   "metadata": {},
   "source": [
    "# The Blaze Ecosystem\n",
    "http://blaze.pydata.org/\n",
    "\n",
    "The Blaze ecosystem is a set of libraries that help users store, describe, query and process data. It is composed of the following core projects:\n",
    "\n",
    "*    [Blaze](http://blaze.readthedocs.io/en/latest/index.html): An interface to query data on different storage systems\n",
    "*    Dask: Parallel computing through task scheduling and blocked algorithms\n",
    "*    Datashape: A data description language\n",
    "*    DyND: A C++ library for dynamic, multidimensional arrays\n",
    "*    Odo: Data migration between different storage systems\n",
    "\n",
    "**Github: **https://github.com/blaze/blaze.git\n",
    "\n",
    "**Blog:** \n",
    "* Balze: http://blaze.pydata.org/pages/talks/ep2015-blaze/\n",
    "* Github Analyze with Dask: http://blaze.pydata.org/blog/2016/02/17/dask-distributed-1/\n"
   ]
  },
  {
   "cell_type": "raw",
   "metadata": {
    "collapsed": false
   },
   "source": [
    "%%!\n",
    "cd ..\n",
    "source activate GISpark\n",
    "git clone https://github.com/blaze/blaze.git\n",
    "cd blaze\n",
    "python setup.py install "
   ]
  },
  {
   "cell_type": "code",
   "execution_count": 43,
   "metadata": {
    "collapsed": false
   },
   "outputs": [],
   "source": [
    "from blaze import *\n",
    "#from blaze import compute\n",
    "#from blaze import data\n",
    "#from blaze.utils import example\n",
    "from blaze import examples"
   ]
  },
  {
   "cell_type": "code",
   "execution_count": 44,
   "metadata": {
    "collapsed": false
   },
   "outputs": [
    {
     "name": "stdout",
     "output_type": "stream",
     "text": [
      "Help on package blaze:\n",
      "\n",
      "NAME\n",
      "    blaze\n",
      "\n",
      "PACKAGE CONTENTS\n",
      "    _version\n",
      "    cached\n",
      "    compatibility\n",
      "    compute (package)\n",
      "    dispatch\n",
      "    expr (package)\n",
      "    index\n",
      "    interactive\n",
      "    mongo\n",
      "    partition\n",
      "    server (package)\n",
      "    sql\n",
      "    tests (package)\n",
      "    utils\n",
      "\n",
      "SUBMODULES\n",
      "    datetime\n",
      "    examples\n",
      "\n",
      "DATA\n",
      "    Broadcastable = (<class 'blaze.expr.arithmetic.BinOp'>, <class 'blaze....\n",
      "    Cheap = (<class 'blaze.expr.collections.Head'>, <class 'blaze.expr.exp...\n",
      "    Sequence = (<class 'tuple'>, <class 'list'>, <class 'collections.abc.I...\n",
      "    abs = <dispatched abs>\n",
      "    absolute_import = _Feature((2, 5, 0, 'alpha', 1), (3, 0, 0, 'alpha', 0...\n",
      "    acos = <dispatched acos>\n",
      "    acosh = <dispatched acosh>\n",
      "    all = <dispatched all>\n",
      "    all_formats = frozenset({SerializationFormat(name='json', loads=<funct...\n",
      "    any = <dispatched any>\n",
      "    api = <flask.blueprints.Blueprint object>\n",
      "    append = <dispatched append>\n",
      "    asin = <dispatched asin>\n",
      "    asinh = <dispatched asinh>\n",
      "    atan = <dispatched atan>\n",
      "    atan2 = <dispatched atan2>\n",
      "    atanh = <dispatched atanh>\n",
      "    by = <dispatched by>\n",
      "    ceil = <dispatched ceil>\n",
      "    compute = <dispatched compute>\n",
      "    compute_down = <dispatched compute_down>\n",
      "    compute_up = <dispatched compute_up>\n",
      "    convert = <odo.core.NetworkDispatcher object>\n",
      "    copysign = <dispatched copysign>\n",
      "    cos = <dispatched cos>\n",
      "    cosh = <dispatched cosh>\n",
      "    create_index = <dispatched create_index>\n",
      "    degrees = <dispatched degrees>\n",
      "    discover = <dispatched discover>\n",
      "    dispatch = functools.partial(<function dispatch at 0x7fdaea...atched r...\n",
      "    division = _Feature((2, 2, 0, 'alpha', 2), (3, 0, 0, 'alpha', 0), 8192...\n",
      "    drop = <dispatched drop>\n",
      "    exp = <dispatched exp>\n",
      "    expm1 = <dispatched expm1>\n",
      "    floor = <dispatched floor>\n",
      "    fmod = <dispatched fmod>\n",
      "    greatest = <dispatched greatest>\n",
      "    hypot = <dispatched hypot>\n",
      "    i = 4\n",
      "    inf = inf\n",
      "    into = <dispatched into>\n",
      "    isnan = <dispatched isnan>\n",
      "    json_format = SerializationFormat(name='json', loads=<function...x7fdb...\n",
      "    ldexp = <dispatched ldexp>\n",
      "    least = <dispatched least>\n",
      "    log = <dispatched log>\n",
      "    log10 = <dispatched log10>\n",
      "    log1p = <dispatched log1p>\n",
      "    max = <dispatched max>\n",
      "    mean = <dispatched mean>\n",
      "    min = <dispatched min>\n",
      "    msgpack_format = SerializationFormat(name='msgpack', loads=functo...x7...\n",
      "    nan = nan\n",
      "    optimize = <dispatched optimize>\n",
      "    pickle_format = SerializationFormat(name='pickle', loads=<built-...s.p...\n",
      "    pre_compute = <dispatched pre_compute>\n",
      "    print_function = _Feature((2, 6, 0, 'alpha', 2), (3, 0, 0, 'alpha', 0)...\n",
      "    radians = <dispatched radians>\n",
      "    resource = <odo.regex.RegexDispatcher object>\n",
      "    rowfunc = <dispatched rowfunc>\n",
      "    shape = <dispatched shape>\n",
      "    sin = <dispatched sin>\n",
      "    sinh = <dispatched sinh>\n",
      "    sqrt = <dispatched sqrt>\n",
      "    std = <dispatched std>\n",
      "    sum = <dispatched sum>\n",
      "    tan = <dispatched tan>\n",
      "    tanh = <dispatched tanh>\n",
      "    to_html = <dispatched to_html>\n",
      "    trunc = <dispatched trunc>\n",
      "    var = <dispatched var>\n",
      "\n",
      "VERSION\n",
      "    0.9.1\n",
      "\n",
      "FILE\n",
      "    /home/supermap/anaconda3/envs/GISpark/lib/python3.5/site-packages/blaze/__init__.py\n",
      "\n",
      "\n"
     ]
    }
   ],
   "source": [
    "help(blaze)\n",
    "#help(examples)"
   ]
  },
  {
   "cell_type": "code",
   "execution_count": 59,
   "metadata": {
    "collapsed": false
   },
   "outputs": [
    {
     "data": {
      "text/plain": [
       "5"
      ]
     },
     "execution_count": 59,
     "metadata": {},
     "output_type": "execute_result"
    }
   ],
   "source": [
    "js = JSON(example('accounts.json'))\n",
    "s = symbol('s', discover(js))\n",
    "compute(s.count(), js)\n",
    "\n",
    "#jss = JSONLines(example('accounts-streaming.json'))\n",
    "#compute(s.count(), jss)"
   ]
  },
  {
   "cell_type": "code",
   "execution_count": 56,
   "metadata": {
    "collapsed": false
   },
   "outputs": [
    {
     "data": {
      "text/html": [
       "<table border=\"1\" class=\"dataframe\">\n",
       "  <thead>\n",
       "    <tr style=\"text-align: right;\">\n",
       "      <th></th>\n",
       "      <th>id</th>\n",
       "      <th>name</th>\n",
       "      <th>balance</th>\n",
       "    </tr>\n",
       "  </thead>\n",
       "  <tbody>\n",
       "    <tr>\n",
       "      <th>0</th>\n",
       "      <td>1</td>\n",
       "      <td>Alice</td>\n",
       "      <td>100</td>\n",
       "    </tr>\n",
       "    <tr>\n",
       "      <th>1</th>\n",
       "      <td>2</td>\n",
       "      <td>Bob</td>\n",
       "      <td>-200</td>\n",
       "    </tr>\n",
       "    <tr>\n",
       "      <th>2</th>\n",
       "      <td>3</td>\n",
       "      <td>Charlie</td>\n",
       "      <td>300</td>\n",
       "    </tr>\n",
       "    <tr>\n",
       "      <th>3</th>\n",
       "      <td>4</td>\n",
       "      <td>Denis</td>\n",
       "      <td>400</td>\n",
       "    </tr>\n",
       "    <tr>\n",
       "      <th>4</th>\n",
       "      <td>5</td>\n",
       "      <td>Edith</td>\n",
       "      <td>-500</td>\n",
       "    </tr>\n",
       "  </tbody>\n",
       "</table>"
      ],
      "text/plain": [
       "   id     name  balance\n",
       "0   1    Alice      100\n",
       "1   2      Bob     -200\n",
       "2   3  Charlie      300\n",
       "3   4    Denis      400\n",
       "4   5    Edith     -500"
      ]
     },
     "execution_count": 56,
     "metadata": {},
     "output_type": "execute_result"
    }
   ],
   "source": [
    "t = Data([(1, 'Alice', 100),\n",
    "        (2, 'Bob', -200),\n",
    "        (3, 'Charlie', 300),\n",
    "        (4, 'Denis', 400),\n",
    "        (5, 'Edith', -500)],\n",
    "        fields=['id', 'name', 'balance'])\n",
    "#help(t)\n",
    "t"
   ]
  },
  {
   "cell_type": "code",
   "execution_count": 55,
   "metadata": {
    "collapsed": false
   },
   "outputs": [
    {
     "data": {
      "text/html": [
       "<table border=\"1\" class=\"dataframe\">\n",
       "  <thead>\n",
       "    <tr style=\"text-align: right;\">\n",
       "      <th></th>\n",
       "      <th>sepal_length</th>\n",
       "      <th>sepal_width</th>\n",
       "      <th>petal_length</th>\n",
       "      <th>petal_width</th>\n",
       "      <th>species</th>\n",
       "    </tr>\n",
       "  </thead>\n",
       "  <tbody>\n",
       "    <tr>\n",
       "      <th>0</th>\n",
       "      <td>5.1</td>\n",
       "      <td>3.5</td>\n",
       "      <td>1.4</td>\n",
       "      <td>0.2</td>\n",
       "      <td>Iris-setosa</td>\n",
       "    </tr>\n",
       "    <tr>\n",
       "      <th>1</th>\n",
       "      <td>4.9</td>\n",
       "      <td>3.0</td>\n",
       "      <td>1.4</td>\n",
       "      <td>0.2</td>\n",
       "      <td>Iris-setosa</td>\n",
       "    </tr>\n",
       "    <tr>\n",
       "      <th>2</th>\n",
       "      <td>4.7</td>\n",
       "      <td>3.2</td>\n",
       "      <td>1.3</td>\n",
       "      <td>0.2</td>\n",
       "      <td>Iris-setosa</td>\n",
       "    </tr>\n",
       "    <tr>\n",
       "      <th>3</th>\n",
       "      <td>4.6</td>\n",
       "      <td>3.1</td>\n",
       "      <td>1.5</td>\n",
       "      <td>0.2</td>\n",
       "      <td>Iris-setosa</td>\n",
       "    </tr>\n",
       "    <tr>\n",
       "      <th>4</th>\n",
       "      <td>5.0</td>\n",
       "      <td>3.6</td>\n",
       "      <td>1.4</td>\n",
       "      <td>0.2</td>\n",
       "      <td>Iris-setosa</td>\n",
       "    </tr>\n",
       "    <tr>\n",
       "      <th>5</th>\n",
       "      <td>5.4</td>\n",
       "      <td>3.9</td>\n",
       "      <td>1.7</td>\n",
       "      <td>0.4</td>\n",
       "      <td>Iris-setosa</td>\n",
       "    </tr>\n",
       "    <tr>\n",
       "      <th>6</th>\n",
       "      <td>4.6</td>\n",
       "      <td>3.4</td>\n",
       "      <td>1.4</td>\n",
       "      <td>0.3</td>\n",
       "      <td>Iris-setosa</td>\n",
       "    </tr>\n",
       "    <tr>\n",
       "      <th>7</th>\n",
       "      <td>5.0</td>\n",
       "      <td>3.4</td>\n",
       "      <td>1.5</td>\n",
       "      <td>0.2</td>\n",
       "      <td>Iris-setosa</td>\n",
       "    </tr>\n",
       "    <tr>\n",
       "      <th>8</th>\n",
       "      <td>4.4</td>\n",
       "      <td>2.9</td>\n",
       "      <td>1.4</td>\n",
       "      <td>0.2</td>\n",
       "      <td>Iris-setosa</td>\n",
       "    </tr>\n",
       "    <tr>\n",
       "      <th>9</th>\n",
       "      <td>4.9</td>\n",
       "      <td>3.1</td>\n",
       "      <td>1.5</td>\n",
       "      <td>0.1</td>\n",
       "      <td>Iris-setosa</td>\n",
       "    </tr>\n",
       "    <tr>\n",
       "      <th>10</th>\n",
       "      <td>5.4</td>\n",
       "      <td>3.7</td>\n",
       "      <td>1.5</td>\n",
       "      <td>0.2</td>\n",
       "      <td>Iris-setosa</td>\n",
       "    </tr>\n",
       "  </tbody>\n",
       "</table>"
      ],
      "text/plain": [
       "    sepal_length  sepal_width  petal_length  petal_width      species\n",
       "0            5.1          3.5           1.4          0.2  Iris-setosa\n",
       "1            4.9          3.0           1.4          0.2  Iris-setosa\n",
       "2            4.7          3.2           1.3          0.2  Iris-setosa\n",
       "3            4.6          3.1           1.5          0.2  Iris-setosa\n",
       "4            5.0          3.6           1.4          0.2  Iris-setosa\n",
       "5            5.4          3.9           1.7          0.4  Iris-setosa\n",
       "6            4.6          3.4           1.4          0.3  Iris-setosa\n",
       "7            5.0          3.4           1.5          0.2  Iris-setosa\n",
       "8            4.4          2.9           1.4          0.2  Iris-setosa\n",
       "9            4.9          3.1           1.5          0.1  Iris-setosa\n",
       "..."
      ]
     },
     "execution_count": 55,
     "metadata": {},
     "output_type": "execute_result"
    }
   ],
   "source": [
    "iris = Data(example('iris.csv'))\n",
    "iris"
   ]
  },
  {
   "cell_type": "code",
   "execution_count": null,
   "metadata": {
    "collapsed": true
   },
   "outputs": [],
   "source": []
  }
 ],
 "metadata": {
  "kernelspec": {
   "display_name": "Python 3",
   "language": "python",
   "name": "python3"
  },
  "language_info": {
   "codemirror_mode": {
    "name": "ipython",
    "version": 3
   },
   "file_extension": ".py",
   "mimetype": "text/x-python",
   "name": "python",
   "nbconvert_exporter": "python",
   "pygments_lexer": "ipython3",
   "version": "3.5.1"
  }
 },
 "nbformat": 4,
 "nbformat_minor": 0
}
