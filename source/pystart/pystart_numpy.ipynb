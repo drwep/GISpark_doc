{
 "cells": [
  {
   "cell_type": "markdown",
   "metadata": {},
   "source": [
    "# NumPy\n",
    "\n",
    "NumPy的主要对象是同种元素的多维数组。\n",
    "* 这是一个所有的元素都是一种类型、通过一个正整数元组索引的元素表格(通常是元素是数字)。\n",
    "* 在NumPy中维度(dimensions)叫做`轴(axes)`，轴的个数叫做`秩(rank)`。\n",
    "\n",
    "例如，在3D空间一个点的坐标[1, 2, 3]是一个秩为1的数组，因为它只有一个轴。那个轴长度为3.  \n",
    "又例如，在以下例子中，数组的秩为2(它有两个维度).第一个维度长度为2,第二个维度长度为3.\n",
    "\n",
    "[[ 1., 0., 0.],\n",
    " [ 0., 1., 2.]]\n",
    "\n",
    "NumPy的数组类被称作`ndarray`, 通常被称作数组。注意numpy.array和标准Python库类array.array并不相同，后者只处理一维数组和提供少量功能。  \n",
    "\n",
    "更多重要ndarray对象属性有：\n",
    "\n",
    "*    **ndarray.ndim**  \n",
    "数组轴的个数，在python的世界中，轴的个数被称作秩\n",
    "*    **ndarray.shape**  \n",
    "数组的维度。这是一个指示数组在每个维度上大小的整数元组。例如一个n排m列的矩阵，它的shape属性将是(2,3),这个元组的长度显然是秩，即维度或者ndim属性.\n",
    "*    **ndarray.size**  \n",
    "数组元素的总个数，等于shape属性中元组元素的乘积。\n",
    "*    **ndarray.dtype**  \n",
    "一个用来描述数组中元素类型的对象，可以通过创造或指定dtype使用标准Python类型。另外NumPy提供它自己的数据类型。\n",
    "*    **ndarray.itemsize**  \n",
    "数组中每个元素的字节大小。例如，一个元素类型为float64的数组itemsiz属性值为8(=64/8),又如，一个元素类型为complex32的数组item属性为4(=32/8).\n",
    "*    **ndarray.data**  \n",
    "包含实际数组元素的缓冲区，通常我们不需要使用这个属性，因为我们总是通过索引来使用数组中的元素。\n",
    "\n",
    "### 示范例子"
   ]
  },
  {
   "cell_type": "code",
   "execution_count": 1,
   "metadata": {
    "collapsed": true
   },
   "outputs": [],
   "source": [
    "from numpy  import *"
   ]
  },
  {
   "cell_type": "code",
   "execution_count": 2,
   "metadata": {
    "collapsed": false
   },
   "outputs": [
    {
     "data": {
      "text/plain": [
       "array([[ 0,  1,  2,  3],\n",
       "       [ 4,  5,  6,  7],\n",
       "       [ 8,  9, 10, 11]])"
      ]
     },
     "execution_count": 2,
     "metadata": {},
     "output_type": "execute_result"
    }
   ],
   "source": [
    "a = arange(12).reshape(3, 4)\n",
    "a"
   ]
  },
  {
   "cell_type": "code",
   "execution_count": 25,
   "metadata": {
    "collapsed": false
   },
   "outputs": [
    {
     "name": "stdout",
     "output_type": "stream",
     "text": [
      "Dim:  2\n",
      "Shape:  (3, 4)\n"
     ]
    }
   ],
   "source": [
    "print(\"Dim: \",a.ndim)\n",
    "print(\"Shape: \",a.shape)"
   ]
  },
  {
   "cell_type": "code",
   "execution_count": 26,
   "metadata": {
    "collapsed": false
   },
   "outputs": [
    {
     "name": "stdout",
     "output_type": "stream",
     "text": [
      "<class 'numpy.ndarray'>\n",
      "int64\n",
      "8\n",
      "12\n"
     ]
    }
   ],
   "source": [
    "print(type(a))\n",
    "print(a.dtype.name)\n",
    "print(a.itemsize)\n",
    "print(a.size)"
   ]
  },
  {
   "cell_type": "markdown",
   "metadata": {},
   "source": [
    "改变Shape。"
   ]
  },
  {
   "cell_type": "code",
   "execution_count": 17,
   "metadata": {
    "collapsed": false
   },
   "outputs": [
    {
     "data": {
      "text/plain": [
       "array([[ 0,  1,  2],\n",
       "       [ 3,  4,  5],\n",
       "       [ 6,  7,  8],\n",
       "       [ 9, 10, 11]])"
      ]
     },
     "execution_count": 17,
     "metadata": {},
     "output_type": "execute_result"
    }
   ],
   "source": [
    "a1 = a.reshape(4,3)\n",
    "a1"
   ]
  },
  {
   "cell_type": "code",
   "execution_count": 16,
   "metadata": {
    "collapsed": false
   },
   "outputs": [
    {
     "data": {
      "text/plain": [
       "array([[ 0,  1,  2,  3,  4,  5,  6,  7,  8,  9, 10, 11]])"
      ]
     },
     "execution_count": 16,
     "metadata": {},
     "output_type": "execute_result"
    }
   ],
   "source": [
    "a2 = a.reshape(1,12)\n",
    "a2"
   ]
  },
  {
   "cell_type": "markdown",
   "metadata": {},
   "source": [
    "数据类型的实验。"
   ]
  },
  {
   "cell_type": "code",
   "execution_count": 20,
   "metadata": {
    "collapsed": false
   },
   "outputs": [
    {
     "name": "stdout",
     "output_type": "stream",
     "text": [
      "[6 7 8]\n",
      "<class 'numpy.ndarray'>\n",
      "[6 7 8]\n",
      "<class 'numpy.ndarray'>\n"
     ]
    }
   ],
   "source": [
    "b = array([6, 7, 8])\n",
    "print(b)\n",
    "print(type(b))\n",
    "\n",
    "print(array([6, 7, 8]))\n",
    "print(type(array([6, 7, 8])))"
   ]
  },
  {
   "cell_type": "markdown",
   "metadata": {},
   "source": [
    "## 创建数组\n",
    "\n",
    "有好几种创建数组的方法。\n",
    "\n",
    "例如，你可以使用array函数从常规的Python列表和元组创造数组。所创建的数组类型由原序列中的元素类型推导而来。"
   ]
  },
  {
   "cell_type": "code",
   "execution_count": 28,
   "metadata": {
    "collapsed": false
   },
   "outputs": [
    {
     "name": "stdout",
     "output_type": "stream",
     "text": [
      "[2 3 4]\n",
      "int64\n"
     ]
    }
   ],
   "source": [
    "from numpy  import *\n",
    "a = array( [2,3,4] )\n",
    "print(a)\n",
    "print(a.dtype)"
   ]
  },
  {
   "cell_type": "code",
   "execution_count": 29,
   "metadata": {
    "collapsed": false
   },
   "outputs": [
    {
     "name": "stdout",
     "output_type": "stream",
     "text": [
      "float64\n"
     ]
    }
   ],
   "source": [
    "b = array([1.2, 3.5, 5.1])\n",
    "print(b.dtype)"
   ]
  },
  {
   "cell_type": "markdown",
   "metadata": {},
   "source": [
    "一个常见的错误包括用多个数值参数调用array而不是提供一个由数值组成的列表作为一个参数。"
   ]
  },
  {
   "cell_type": "code",
   "execution_count": 30,
   "metadata": {
    "collapsed": false
   },
   "outputs": [
    {
     "ename": "ValueError",
     "evalue": "only 2 non-keyword arguments accepted",
     "output_type": "error",
     "traceback": [
      "\u001b[1;31m---------------------------------------------------------------------------\u001b[0m",
      "\u001b[1;31mValueError\u001b[0m                                Traceback (most recent call last)",
      "\u001b[1;32m<ipython-input-30-501541f17041>\u001b[0m in \u001b[0;36m<module>\u001b[1;34m()\u001b[0m\n\u001b[1;32m----> 1\u001b[1;33m \u001b[0ma\u001b[0m \u001b[1;33m=\u001b[0m \u001b[0marray\u001b[0m\u001b[1;33m(\u001b[0m\u001b[1;36m1\u001b[0m\u001b[1;33m,\u001b[0m\u001b[1;36m2\u001b[0m\u001b[1;33m,\u001b[0m\u001b[1;36m3\u001b[0m\u001b[1;33m,\u001b[0m\u001b[1;36m4\u001b[0m\u001b[1;33m)\u001b[0m    \u001b[1;31m# WRONG\u001b[0m\u001b[1;33m\u001b[0m\u001b[0m\n\u001b[0m",
      "\u001b[1;31mValueError\u001b[0m: only 2 non-keyword arguments accepted"
     ]
    }
   ],
   "source": [
    "a = array(1,2,3,4)    # WRONG"
   ]
  },
  {
   "cell_type": "code",
   "execution_count": 32,
   "metadata": {
    "collapsed": false
   },
   "outputs": [
    {
     "data": {
      "text/plain": [
       "array([1, 2, 3, 4])"
      ]
     },
     "execution_count": 32,
     "metadata": {},
     "output_type": "execute_result"
    }
   ],
   "source": [
    "a = array([1,2,3,4])  # RIGHT\n",
    "a"
   ]
  },
  {
   "cell_type": "markdown",
   "metadata": {},
   "source": [
    "数组将序列包含序列转化成二维的数组，序列包含序列包含序列转化成三维数组等等。"
   ]
  },
  {
   "cell_type": "code",
   "execution_count": 34,
   "metadata": {
    "collapsed": false
   },
   "outputs": [
    {
     "data": {
      "text/plain": [
       "array([[ 1.5,  2. ,  3. ],\n",
       "       [ 4. ,  5. ,  6. ]])"
      ]
     },
     "execution_count": 34,
     "metadata": {},
     "output_type": "execute_result"
    }
   ],
   "source": [
    "b = array( [ (1.5,2,3), (4,5,6) ] )\n",
    "b"
   ]
  },
  {
   "cell_type": "code",
   "execution_count": null,
   "metadata": {
    "collapsed": true
   },
   "outputs": [],
   "source": [
    "数组类型可以在创建时显示指定。"
   ]
  },
  {
   "cell_type": "code",
   "execution_count": 37,
   "metadata": {
    "collapsed": false
   },
   "outputs": [
    {
     "name": "stdout",
     "output_type": "stream",
     "text": [
      "complex128\n"
     ]
    },
    {
     "data": {
      "text/plain": [
       "array([[ 1.+0.j,  2.+0.j],\n",
       "       [ 3.+0.j,  4.+0.j]])"
      ]
     },
     "execution_count": 37,
     "metadata": {},
     "output_type": "execute_result"
    }
   ],
   "source": [
    "c = array( [ [1,2], [3,4] ], dtype=complex )\n",
    "print(c.dtype)\n",
    "c"
   ]
  },
  {
   "cell_type": "markdown",
   "metadata": {},
   "source": [
    "通常，数组的元素开始都是未知的，但是它的大小已知。因此，NumPy提供了一些使用占位符创建数组的函数。  \n",
    "函数zeros创建一个全是0的数组。  默认创建的数组类型(dtype)都是float64。"
   ]
  },
  {
   "cell_type": "code",
   "execution_count": 39,
   "metadata": {
    "collapsed": false
   },
   "outputs": [
    {
     "data": {
      "text/plain": [
       "array([[ 0.,  0.,  0.,  0.],\n",
       "       [ 0.,  0.,  0.,  0.],\n",
       "       [ 0.,  0.,  0.,  0.]])"
      ]
     },
     "execution_count": 39,
     "metadata": {},
     "output_type": "execute_result"
    }
   ],
   "source": [
    "zeros( (3,4) )"
   ]
  },
  {
   "cell_type": "markdown",
   "metadata": {},
   "source": [
    "函数ones创建一个全1的数组."
   ]
  },
  {
   "cell_type": "code",
   "execution_count": 40,
   "metadata": {
    "collapsed": false
   },
   "outputs": [
    {
     "data": {
      "text/plain": [
       "array([[[1, 1, 1, 1],\n",
       "        [1, 1, 1, 1],\n",
       "        [1, 1, 1, 1]],\n",
       "\n",
       "       [[1, 1, 1, 1],\n",
       "        [1, 1, 1, 1],\n",
       "        [1, 1, 1, 1]]], dtype=int16)"
      ]
     },
     "execution_count": 40,
     "metadata": {},
     "output_type": "execute_result"
    }
   ],
   "source": [
    "ones( (2,3,4), dtype=int16 )                # dtype can also be specified"
   ]
  },
  {
   "cell_type": "markdown",
   "metadata": {},
   "source": [
    "函数empty创建一个内容随机并且依赖与内存状态的数组."
   ]
  },
  {
   "cell_type": "code",
   "execution_count": 41,
   "metadata": {
    "collapsed": false
   },
   "outputs": [
    {
     "data": {
      "text/plain": [
       "array([[ 0.,  0.,  0.],\n",
       "       [ 0.,  0.,  0.]])"
      ]
     },
     "execution_count": 41,
     "metadata": {},
     "output_type": "execute_result"
    }
   ],
   "source": [
    "empty( (2,3) )"
   ]
  },
  {
   "cell_type": "markdown",
   "metadata": {},
   "source": [
    "为了创建一个数列，NumPy提供一个类似arange的函数返回数组而不是列表:"
   ]
  },
  {
   "cell_type": "code",
   "execution_count": 42,
   "metadata": {
    "collapsed": false
   },
   "outputs": [
    {
     "data": {
      "text/plain": [
       "array([10, 15, 20, 25])"
      ]
     },
     "execution_count": 42,
     "metadata": {},
     "output_type": "execute_result"
    }
   ],
   "source": [
    "arange( 10, 30, 5 )"
   ]
  },
  {
   "cell_type": "code",
   "execution_count": 43,
   "metadata": {
    "collapsed": false
   },
   "outputs": [
    {
     "data": {
      "text/plain": [
       "array([ 0. ,  0.3,  0.6,  0.9,  1.2,  1.5,  1.8])"
      ]
     },
     "execution_count": 43,
     "metadata": {},
     "output_type": "execute_result"
    }
   ],
   "source": [
    "arange( 0, 2, 0.3 )                 # it accepts float arguments"
   ]
  },
  {
   "cell_type": "markdown",
   "metadata": {},
   "source": [
    "当arange使用浮点数参数时，由于有限的浮点数精度，通常无法预测获得的元素个数。  \n",
    "因此，最好使用函数linspace去接收我们想要的元素个数来代替用range来指定步长。\n",
    "\n",
    "其它函数array, zeros, zeros_like, ones, ones_like, empty, empty_like, arange, linspace, rand, randn, fromfunction, fromfile参考：NumPy示例\n",
    "\n",
    "## 打印数组\n",
    "\n",
    "当你打印一个数组，NumPy以类似嵌套列表的形式显示它，但是呈以下布局：\n",
    "\n",
    "    最后的轴从左到右打印\n",
    "    次后的轴从顶向下打印\n",
    "    剩下的轴从顶向下打印，每个切片通过一个空行与下一个隔开\n",
    "\n",
    "一维数组被打印成行，二维数组成矩阵，三维数组成矩阵列表。"
   ]
  },
  {
   "cell_type": "code",
   "execution_count": 3,
   "metadata": {
    "collapsed": false
   },
   "outputs": [
    {
     "name": "stdout",
     "output_type": "stream",
     "text": [
      "[0 1 2 3 4 5]\n"
     ]
    }
   ],
   "source": [
    "a = arange(6)                         # 1d array\n",
    "print(a)"
   ]
  },
  {
   "cell_type": "code",
   "execution_count": 4,
   "metadata": {
    "collapsed": false
   },
   "outputs": [
    {
     "name": "stdout",
     "output_type": "stream",
     "text": [
      "[[ 0  1  2]\n",
      " [ 3  4  5]\n",
      " [ 6  7  8]\n",
      " [ 9 10 11]]\n"
     ]
    }
   ],
   "source": [
    "b = arange(12).reshape(4,3)           # 2d array\n",
    "print(b)"
   ]
  },
  {
   "cell_type": "code",
   "execution_count": 5,
   "metadata": {
    "collapsed": false
   },
   "outputs": [
    {
     "name": "stdout",
     "output_type": "stream",
     "text": [
      "[[[ 0  1  2  3]\n",
      "  [ 4  5  6  7]\n",
      "  [ 8  9 10 11]]\n",
      "\n",
      " [[12 13 14 15]\n",
      "  [16 17 18 19]\n",
      "  [20 21 22 23]]]\n"
     ]
    }
   ],
   "source": [
    "c = arange(24).reshape(2,3,4)         # 3d array\n",
    "print(c)"
   ]
  },
  {
   "cell_type": "markdown",
   "metadata": {},
   "source": [
    "如果一个数组用来打印太大了，NumPy自动省略中间部分而只打印角落"
   ]
  },
  {
   "cell_type": "code",
   "execution_count": 6,
   "metadata": {
    "collapsed": false
   },
   "outputs": [
    {
     "name": "stdout",
     "output_type": "stream",
     "text": [
      "[   0    1    2 ..., 9997 9998 9999]\n"
     ]
    }
   ],
   "source": [
    "print(arange(10000))"
   ]
  },
  {
   "cell_type": "code",
   "execution_count": 7,
   "metadata": {
    "collapsed": false
   },
   "outputs": [
    {
     "name": "stdout",
     "output_type": "stream",
     "text": [
      "[[   0    1    2 ...,   97   98   99]\n",
      " [ 100  101  102 ...,  197  198  199]\n",
      " [ 200  201  202 ...,  297  298  299]\n",
      " ..., \n",
      " [9700 9701 9702 ..., 9797 9798 9799]\n",
      " [9800 9801 9802 ..., 9897 9898 9899]\n",
      " [9900 9901 9902 ..., 9997 9998 9999]]\n"
     ]
    }
   ],
   "source": [
    "print(arange(10000).reshape(100,100))"
   ]
  },
  {
   "cell_type": "code",
   "execution_count": null,
   "metadata": {
    "collapsed": true
   },
   "outputs": [],
   "source": [
    "禁用NumPy的这种行为并强制打印整个数组，你可以设置printoptions参数来更改打印选项。"
   ]
  },
  {
   "cell_type": "code",
   "execution_count": 1,
   "metadata": {
    "collapsed": false
   },
   "outputs": [
    {
     "name": "stdout",
     "output_type": "stream",
     "text": [
      "[[  0   1   2   3   4   5   6   7   8   9  10  11  12  13  14  15  16  17\n",
      "   18  19]\n",
      " [ 20  21  22  23  24  25  26  27  28  29  30  31  32  33  34  35  36  37\n",
      "   38  39]\n",
      " [ 40  41  42  43  44  45  46  47  48  49  50  51  52  53  54  55  56  57\n",
      "   58  59]\n",
      " [ 60  61  62  63  64  65  66  67  68  69  70  71  72  73  74  75  76  77\n",
      "   78  79]\n",
      " [ 80  81  82  83  84  85  86  87  88  89  90  91  92  93  94  95  96  97\n",
      "   98  99]\n",
      " [100 101 102 103 104 105 106 107 108 109 110 111 112 113 114 115 116 117\n",
      "  118 119]\n",
      " [120 121 122 123 124 125 126 127 128 129 130 131 132 133 134 135 136 137\n",
      "  138 139]\n",
      " [140 141 142 143 144 145 146 147 148 149 150 151 152 153 154 155 156 157\n",
      "  158 159]\n",
      " [160 161 162 163 164 165 166 167 168 169 170 171 172 173 174 175 176 177\n",
      "  178 179]\n",
      " [180 181 182 183 184 185 186 187 188 189 190 191 192 193 194 195 196 197\n",
      "  198 199]\n",
      " [200 201 202 203 204 205 206 207 208 209 210 211 212 213 214 215 216 217\n",
      "  218 219]\n",
      " [220 221 222 223 224 225 226 227 228 229 230 231 232 233 234 235 236 237\n",
      "  238 239]\n",
      " [240 241 242 243 244 245 246 247 248 249 250 251 252 253 254 255 256 257\n",
      "  258 259]\n",
      " [260 261 262 263 264 265 266 267 268 269 270 271 272 273 274 275 276 277\n",
      "  278 279]\n",
      " [280 281 282 283 284 285 286 287 288 289 290 291 292 293 294 295 296 297\n",
      "  298 299]\n",
      " [300 301 302 303 304 305 306 307 308 309 310 311 312 313 314 315 316 317\n",
      "  318 319]\n",
      " [320 321 322 323 324 325 326 327 328 329 330 331 332 333 334 335 336 337\n",
      "  338 339]\n",
      " [340 341 342 343 344 345 346 347 348 349 350 351 352 353 354 355 356 357\n",
      "  358 359]\n",
      " [360 361 362 363 364 365 366 367 368 369 370 371 372 373 374 375 376 377\n",
      "  378 379]\n",
      " [380 381 382 383 384 385 386 387 388 389 390 391 392 393 394 395 396 397\n",
      "  398 399]]\n"
     ]
    }
   ],
   "source": [
    "from numpy import *\n",
    "\n",
    "#set_printoptions(threshold='nan')\n",
    "print(arange(400).reshape(20,20))"
   ]
  },
  {
   "cell_type": "markdown",
   "metadata": {},
   "source": [
    "## 基本运算\n",
    "\n",
    "数组的算术运算是按元素的。新的数组被创建并且被结果填充。"
   ]
  },
  {
   "cell_type": "code",
   "execution_count": 2,
   "metadata": {
    "collapsed": false
   },
   "outputs": [
    {
     "data": {
      "text/plain": [
       "array([0, 1, 2, 3])"
      ]
     },
     "execution_count": 2,
     "metadata": {},
     "output_type": "execute_result"
    }
   ],
   "source": [
    "a = array( [20,30,40,50] )\n",
    "b = arange( 4 )\n",
    "b"
   ]
  },
  {
   "cell_type": "code",
   "execution_count": 3,
   "metadata": {
    "collapsed": false
   },
   "outputs": [
    {
     "data": {
      "text/plain": [
       "array([20, 29, 38, 47])"
      ]
     },
     "execution_count": 3,
     "metadata": {},
     "output_type": "execute_result"
    }
   ],
   "source": [
    "array([0, 1, 2, 3])\n",
    "c = a-b\n",
    "c"
   ]
  },
  {
   "cell_type": "code",
   "execution_count": 7,
   "metadata": {
    "collapsed": false
   },
   "outputs": [
    {
     "data": {
      "text/plain": [
       "array([0, 1, 4, 9])"
      ]
     },
     "execution_count": 7,
     "metadata": {},
     "output_type": "execute_result"
    }
   ],
   "source": [
    "b**2"
   ]
  },
  {
   "cell_type": "code",
   "execution_count": 8,
   "metadata": {
    "collapsed": false
   },
   "outputs": [
    {
     "data": {
      "text/plain": [
       "array([ 9.12945251, -9.88031624,  7.4511316 , -2.62374854])"
      ]
     },
     "execution_count": 8,
     "metadata": {},
     "output_type": "execute_result"
    }
   ],
   "source": [
    "10*sin(a)"
   ]
  },
  {
   "cell_type": "code",
   "execution_count": 9,
   "metadata": {
    "collapsed": false
   },
   "outputs": [
    {
     "data": {
      "text/plain": [
       "array([ True,  True, False, False], dtype=bool)"
      ]
     },
     "execution_count": 9,
     "metadata": {},
     "output_type": "execute_result"
    }
   ],
   "source": [
    "a<35"
   ]
  },
  {
   "cell_type": "markdown",
   "metadata": {},
   "source": [
    "不像许多矩阵语言，NumPy中的乘法运算符*指示按元素计算，矩阵乘法可以使用dot函数或创建矩阵对象实现(参见教程中的矩阵章节)"
   ]
  },
  {
   "cell_type": "code",
   "execution_count": 10,
   "metadata": {
    "collapsed": false
   },
   "outputs": [
    {
     "data": {
      "text/plain": [
       "array([[2, 0],\n",
       "       [0, 4]])"
      ]
     },
     "execution_count": 10,
     "metadata": {},
     "output_type": "execute_result"
    }
   ],
   "source": [
    ">>> A = array( [[1,1],\n",
    "...             [0,1]] )\n",
    ">>> B = array( [[2,0],\n",
    "...             [3,4]] )\n",
    ">>> A*B                         # elementwise product"
   ]
  },
  {
   "cell_type": "code",
   "execution_count": 12,
   "metadata": {
    "collapsed": false
   },
   "outputs": [
    {
     "data": {
      "text/plain": [
       "array([[5, 4],\n",
       "       [3, 4]])"
      ]
     },
     "execution_count": 12,
     "metadata": {},
     "output_type": "execute_result"
    }
   ],
   "source": [
    ">>> dot(A,B)                    # matrix product"
   ]
  },
  {
   "cell_type": "markdown",
   "metadata": {},
   "source": [
    "有些操作符像+=和*=被用来更改已存在数组而不创建一个新的数组。"
   ]
  },
  {
   "cell_type": "code",
   "execution_count": 16,
   "metadata": {
    "collapsed": false
   },
   "outputs": [
    {
     "data": {
      "text/plain": [
       "array([[3, 3, 3],\n",
       "       [3, 3, 3]])"
      ]
     },
     "execution_count": 16,
     "metadata": {},
     "output_type": "execute_result"
    }
   ],
   "source": [
    ">>> a = ones((2,3), dtype=int)\n",
    ">>> b = random.random((2,3))\n",
    ">>> a *= 3\n",
    ">>> a"
   ]
  },
  {
   "cell_type": "code",
   "execution_count": 19,
   "metadata": {
    "collapsed": false
   },
   "outputs": [
    {
     "data": {
      "text/plain": [
       "array([[ 6.85503694,  6.96748783,  6.52052795],\n",
       "       [ 6.68384268,  6.34261586,  6.27204301]])"
      ]
     },
     "execution_count": 19,
     "metadata": {},
     "output_type": "execute_result"
    }
   ],
   "source": [
    ">>> b += a\n",
    ">>> b"
   ]
  },
  {
   "cell_type": "code",
   "execution_count": 20,
   "metadata": {
    "collapsed": false
   },
   "outputs": [
    {
     "ename": "TypeError",
     "evalue": "Cannot cast ufunc add output from dtype('float64') to dtype('int64') with casting rule 'same_kind'",
     "output_type": "error",
     "traceback": [
      "\u001b[1;31m---------------------------------------------------------------------------\u001b[0m",
      "\u001b[1;31mTypeError\u001b[0m                                 Traceback (most recent call last)",
      "\u001b[1;32m<ipython-input-20-2b1a0b731705>\u001b[0m in \u001b[0;36m<module>\u001b[1;34m()\u001b[0m\n\u001b[1;32m----> 1\u001b[1;33m \u001b[0ma\u001b[0m \u001b[1;33m+=\u001b[0m \u001b[0mb\u001b[0m                                  \u001b[1;31m# b is converted to integer type\u001b[0m\u001b[1;33m\u001b[0m\u001b[0m\n\u001b[0m\u001b[0;32m      2\u001b[0m \u001b[0ma\u001b[0m\u001b[1;33m\u001b[0m\u001b[0m\n",
      "\u001b[1;31mTypeError\u001b[0m: Cannot cast ufunc add output from dtype('float64') to dtype('int64') with casting rule 'same_kind'"
     ]
    }
   ],
   "source": [
    ">>> a += b                                  # b is converted to integer type\n",
    ">>> a"
   ]
  },
  {
   "cell_type": "markdown",
   "metadata": {},
   "source": [
    "当运算的是不同类型的数组时，结果数组和更普遍和精确的已知(这种行为叫做upcast)。"
   ]
  },
  {
   "cell_type": "code",
   "execution_count": 23,
   "metadata": {
    "collapsed": false
   },
   "outputs": [
    {
     "data": {
      "text/plain": [
       "'float64'"
      ]
     },
     "execution_count": 23,
     "metadata": {},
     "output_type": "execute_result"
    }
   ],
   "source": [
    ">>> a = ones(3, dtype=int32)\n",
    ">>> b = linspace(0,pi,3)\n",
    ">>> b.dtype.name"
   ]
  },
  {
   "cell_type": "code",
   "execution_count": 24,
   "metadata": {
    "collapsed": false
   },
   "outputs": [
    {
     "data": {
      "text/plain": [
       "array([ 1.        ,  2.57079633,  4.14159265])"
      ]
     },
     "execution_count": 24,
     "metadata": {},
     "output_type": "execute_result"
    }
   ],
   "source": [
    ">>> c = a+b\n",
    ">>> c"
   ]
  },
  {
   "cell_type": "code",
   "execution_count": 27,
   "metadata": {
    "collapsed": false
   },
   "outputs": [
    {
     "data": {
      "text/plain": [
       "array([ 0.54030231+0.84147098j, -0.84147098+0.54030231j,\n",
       "       -0.54030231-0.84147098j])"
      ]
     },
     "execution_count": 27,
     "metadata": {},
     "output_type": "execute_result"
    }
   ],
   "source": [
    ">>> c.dtype.name\n",
    "'float64'\n",
    ">>> d = exp(c*1j)\n",
    ">>> d"
   ]
  },
  {
   "cell_type": "code",
   "execution_count": 28,
   "metadata": {
    "collapsed": false
   },
   "outputs": [
    {
     "data": {
      "text/plain": [
       "'complex128'"
      ]
     },
     "execution_count": 28,
     "metadata": {},
     "output_type": "execute_result"
    }
   ],
   "source": [
    ">>> d.dtype.name\n",
    "'complex128' "
   ]
  },
  {
   "cell_type": "markdown",
   "metadata": {},
   "source": [
    "许多非数组运算，如计算数组所有元素之和，被作为ndarray类的方法实现"
   ]
  },
  {
   "cell_type": "code",
   "execution_count": 29,
   "metadata": {
    "collapsed": false
   },
   "outputs": [
    {
     "data": {
      "text/plain": [
       "array([[ 0.23922159,  0.9866543 ,  0.275936  ],\n",
       "       [ 0.75445987,  0.30227444,  0.38540421]])"
      ]
     },
     "execution_count": 29,
     "metadata": {},
     "output_type": "execute_result"
    }
   ],
   "source": [
    ">>> a = random.random((2,3))\n",
    ">>> a"
   ]
  },
  {
   "cell_type": "code",
   "execution_count": null,
   "metadata": {
    "collapsed": true
   },
   "outputs": [],
   "source": [
    ">>> a.sum()\n",
    "3.4552372100521485\n",
    ">>> a.min()\n",
    "0.16524768654743593\n",
    ">>> a.max()\n",
    "0.9479215542670073\n",
    "\n",
    "这些运算默认应用到数组好像它就是一个数字组成的列表，无关数组的形状。然而，指定axis参数你可以吧运算应用到数组指定的轴上：\n",
    "\n",
    ">>> b = arange(12).reshape(3,4)\n",
    ">>> b\n",
    "array([[ 0,  1,  2,  3],\n",
    "       [ 4,  5,  6,  7],\n",
    "       [ 8,  9, 10, 11]])\n",
    ">>>\n",
    ">>> b.sum(axis=0)                            # sum of each column\n",
    "array([12, 15, 18, 21])\n",
    ">>>\n",
    ">>> b.min(axis=1)                            # min of each row\n",
    "array([0, 4, 8])\n",
    ">>>\n",
    ">>> b.cumsum(axis=1)                         # cumulative sum along each row\n",
    "array([[ 0,  1,  3,  6],\n",
    "       [ 4,  9, 15, 22],\n",
    "       [ 8, 17, 27, 38]])"
   ]
  },
  {
   "cell_type": "markdown",
   "metadata": {},
   "source": [
    "## 通用函数(ufunc)\n",
    "\n",
    "NumPy提供常见的数学函数如sin,cos和exp。在NumPy中，这些叫作“通用函数”(ufunc)。在NumPy里这些函数作用按数组的元素运算，产生一个数组作为输出。"
   ]
  },
  {
   "cell_type": "code",
   "execution_count": 30,
   "metadata": {
    "collapsed": false
   },
   "outputs": [
    {
     "data": {
      "text/plain": [
       "array([ 2.,  0.,  6.])"
      ]
     },
     "execution_count": 30,
     "metadata": {},
     "output_type": "execute_result"
    }
   ],
   "source": [
    ">>> B = arange(3)\n",
    ">>> B\n",
    "array([0, 1, 2])\n",
    ">>> exp(B)\n",
    "array([ 1.        ,  2.71828183,  7.3890561 ])\n",
    ">>> sqrt(B)\n",
    "array([ 0.        ,  1.        ,  1.41421356])\n",
    ">>> C = array([2., -1., 4.])\n",
    ">>> add(B, C)\n",
    "array([ 2.,  0.,  6.])"
   ]
  },
  {
   "cell_type": "markdown",
   "metadata": {},
   "source": [
    "更多函数all, alltrue, any, apply along axis, argmax, argmin, argsort, average, bincount, ceil, clip, conj, conjugate, corrcoef, cov, cross, cumprod, cumsum, diff, dot, floor, inner, inv, lexsort, max, maximum, mean, median, min, minimum, nonzero, outer, prod, re, round, sometrue, sort, std, sum, trace, transpose, var, vdot, vectorize, where 参见:NumPy示例\n",
    "\n",
    "## 索引，切片和迭代.\n",
    "\n",
    "一维数组可以被索引、切片和迭代，就像列表和其它Python序列。"
   ]
  },
  {
   "cell_type": "code",
   "execution_count": 36,
   "metadata": {
    "collapsed": false
   },
   "outputs": [
    {
     "name": "stdout",
     "output_type": "stream",
     "text": [
      "[  0   1   8  27  64 125 216 343 512 729]\n",
      "8\n"
     ]
    }
   ],
   "source": [
    ">>> a = arange(10)**3\n",
    ">>> print(a)\n",
    ">>> print(a[2])"
   ]
  },
  {
   "cell_type": "code",
   "execution_count": 48,
   "metadata": {
    "collapsed": false
   },
   "outputs": [
    {
     "name": "stdout",
     "output_type": "stream",
     "text": [
      "[-1000    27 -1000]\n",
      "[-1000     1 -1000    27 -1000   125   216   343   512   729]\n",
      "[  729   512   343   216   125 -1000    27 -1000     1 -1000]\n",
      "a = : [-1000     1 -1000    27 -1000   125   216   343   512   729]\n",
      "nan\n",
      "1.0\n",
      "nan\n",
      "3.0\n",
      "nan\n",
      "5.0\n",
      "6.0\n",
      "7.0\n",
      "8.0\n",
      "9.0\n"
     ]
    },
    {
     "name": "stderr",
     "output_type": "stream",
     "text": [
      "/home/supermap/anaconda3/envs/GISpark/lib/python3.5/site-packages/ipykernel/__main__.py:10: RuntimeWarning: invalid value encountered in power\n"
     ]
    }
   ],
   "source": [
    ">>> print(a[2:5])\n",
    ">>> a[:6:2] = -1000    # equivalent to a[0:6:2] = -1000; from start to position 6, exclusive, set every 2nd element to -1000\n",
    ">>> print(a)\n",
    "\n",
    "array([-1000,     1, -1000,    27, -1000,   125,   216,   343,   512,   729])\n",
    ">>> print(a[ : :-1])                             # reversed a\n",
    "\n",
    "print(\"a = :\",a)\n",
    "for i in a:\n",
    "    print(i**(1/3.))"
   ]
  },
  {
   "cell_type": "code",
   "execution_count": null,
   "metadata": {
    "collapsed": true
   },
   "outputs": [],
   "source": [
    "多维数组可以每个轴有一个索引。这些索引由一个逗号分割的元组给出。"
   ]
  },
  {
   "cell_type": "code",
   "execution_count": 46,
   "metadata": {
    "collapsed": false
   },
   "outputs": [
    {
     "data": {
      "text/plain": [
       "array([[ 0,  1,  2,  3],\n",
       "       [10, 11, 12, 13],\n",
       "       [20, 21, 22, 23],\n",
       "       [30, 31, 32, 33],\n",
       "       [40, 41, 42, 43]])"
      ]
     },
     "execution_count": 46,
     "metadata": {},
     "output_type": "execute_result"
    }
   ],
   "source": [
    "def f(x,y):\n",
    "   return 10*x+y\n",
    "\n",
    "b = fromfunction(f,(5,4),dtype=int)\n",
    "b"
   ]
  },
  {
   "cell_type": "code",
   "execution_count": 52,
   "metadata": {
    "collapsed": false
   },
   "outputs": [
    {
     "data": {
      "text/plain": [
       "23"
      ]
     },
     "execution_count": 52,
     "metadata": {},
     "output_type": "execute_result"
    }
   ],
   "source": [
    ">>> b[2,3]"
   ]
  },
  {
   "cell_type": "code",
   "execution_count": 50,
   "metadata": {
    "collapsed": false
   },
   "outputs": [
    {
     "data": {
      "text/plain": [
       "array([ 1, 11, 21, 31, 41])"
      ]
     },
     "execution_count": 50,
     "metadata": {},
     "output_type": "execute_result"
    }
   ],
   "source": [
    ">>> b[0:5, 1]                       # each row in the second column of b"
   ]
  },
  {
   "cell_type": "code",
   "execution_count": null,
   "metadata": {
    "collapsed": true
   },
   "outputs": [],
   "source": [
    ">>> b[ : ,1]                        # equivalent to the previous example\n",
    ">>> b[1:3, : ]                      # each column in the second and third row of b"
   ]
  },
  {
   "cell_type": "markdown",
   "metadata": {},
   "source": [
    "当少于轴数的索引被提供时，确失的索引被认为是整个切片："
   ]
  },
  {
   "cell_type": "code",
   "execution_count": 55,
   "metadata": {
    "collapsed": false
   },
   "outputs": [
    {
     "data": {
      "text/plain": [
       "array([40, 41, 42, 43])"
      ]
     },
     "execution_count": 55,
     "metadata": {},
     "output_type": "execute_result"
    }
   ],
   "source": [
    ">>> b[-1]                                  # the last row. Equivalent to b[-1,:]"
   ]
  },
  {
   "cell_type": "markdown",
   "metadata": {},
   "source": [
    "b[i]中括号中的表达式被当作i和一系列:，来代表剩下的轴。NumPy也允许你使用“点”像b[i,...]。\n",
    "\n",
    "点(…)代表许多产生一个完整的索引元组必要的分号。如果x是秩为5的数组(即它有5个轴)，那么:\n",
    "\n",
    "    x[1,2,…] 等同于 x[1,2,:,:,:],\n",
    "    x[…,3] 等同于 x[:,:,:,:,3]\n",
    "    x[4,…,5,:] 等同 x[4,:,:,5,:]."
   ]
  },
  {
   "cell_type": "code",
   "execution_count": 56,
   "metadata": {
    "collapsed": false
   },
   "outputs": [
    {
     "data": {
      "text/plain": [
       "(2, 2, 3)"
      ]
     },
     "execution_count": 56,
     "metadata": {},
     "output_type": "execute_result"
    }
   ],
   "source": [
    ">>> c = array( [ [[  0,  1,  2],      # a 3D array (two stacked 2D arrays)\n",
    "...               [ 10, 12, 13]],\n",
    "...\n",
    "...              [[100,101,102],\n",
    "...               [110,112,113]] ] )\n",
    ">>> c.shape"
   ]
  },
  {
   "cell_type": "code",
   "execution_count": 58,
   "metadata": {
    "collapsed": false
   },
   "outputs": [
    {
     "data": {
      "text/plain": [
       "array([[100, 101, 102],\n",
       "       [110, 112, 113]])"
      ]
     },
     "execution_count": 58,
     "metadata": {},
     "output_type": "execute_result"
    }
   ],
   "source": [
    ">>> c[1,...]                          # same as c[1,:,:] or c[1]"
   ]
  },
  {
   "cell_type": "code",
   "execution_count": 59,
   "metadata": {
    "collapsed": false
   },
   "outputs": [
    {
     "data": {
      "text/plain": [
       "array([[  2,  13],\n",
       "       [102, 113]])"
      ]
     },
     "execution_count": 59,
     "metadata": {},
     "output_type": "execute_result"
    }
   ],
   "source": [
    ">>> c[...,2]                          # same as c[:,:,2]"
   ]
  },
  {
   "cell_type": "markdown",
   "metadata": {},
   "source": [
    "迭代多维数组是就第一个轴而言的:2"
   ]
  },
  {
   "cell_type": "code",
   "execution_count": 61,
   "metadata": {
    "collapsed": false
   },
   "outputs": [
    {
     "name": "stdout",
     "output_type": "stream",
     "text": [
      "[0 1 2 3]\n",
      "[10 11 12 13]\n",
      "[20 21 22 23]\n",
      "[30 31 32 33]\n",
      "[40 41 42 43]\n"
     ]
    }
   ],
   "source": [
    ">>> for row in b:\n",
    "...         print(row)"
   ]
  },
  {
   "cell_type": "markdown",
   "metadata": {},
   "source": [
    "然而，如果想对每个数组中元素进行运算，我们可以使用flat属性，该属性是数组元素的一个迭代器:"
   ]
  },
  {
   "cell_type": "code",
   "execution_count": 63,
   "metadata": {
    "collapsed": false
   },
   "outputs": [
    {
     "name": "stdout",
     "output_type": "stream",
     "text": [
      "0\n",
      "1\n",
      "2\n",
      "3\n",
      "10\n",
      "11\n",
      "12\n",
      "13\n",
      "20\n",
      "21\n",
      "22\n",
      "23\n",
      "30\n",
      "31\n",
      "32\n",
      "33\n",
      "40\n",
      "41\n",
      "42\n",
      "43\n"
     ]
    }
   ],
   "source": [
    ">>> for element in b.flat:\n",
    "...         print(element,)"
   ]
  },
  {
   "cell_type": "markdown",
   "metadata": {},
   "source": [
    "更多[], …, newaxis, ndenumerate, indices, index exp 参考NumPy示例\n",
    "\n",
    "## 形状操作\n",
    "### 更改数组的形状\n",
    "\n",
    "一个数组的形状由它每个轴上的元素个数给出："
   ]
  },
  {
   "cell_type": "code",
   "execution_count": null,
   "metadata": {
    "collapsed": true
   },
   "outputs": [],
   "source": [
    ">>> a = floor(10*random.random((3,4)))\n",
    ">>> a\n",
    ">>> a.shape"
   ]
  },
  {
   "cell_type": "markdown",
   "metadata": {},
   "source": [
    "一个数组的形状可以被多种命令修改："
   ]
  },
  {
   "cell_type": "code",
   "execution_count": null,
   "metadata": {
    "collapsed": true
   },
   "outputs": [],
   "source": [
    ">>> a.ravel() # flatten the array\n",
    ">>> a.shape = (6, 2)\n",
    ">>> a.transpose()"
   ]
  },
  {
   "cell_type": "markdown",
   "metadata": {},
   "source": [
    "由ravel()展平的数组元素的顺序通常是“C风格”的，就是说，最右边的索引变化得最快，所以元素a[0,0]之后是a[0,1]。如果数组被改变形状(reshape)成其它形状，数组仍然是“C风格”的。NumPy通常创建一个以这个顺序保存数据的数组，所以ravel()将总是不需要复制它的参数3。但是如果数组是通过切片其它数组或有不同寻常的选项时，它可能需要被复制。函数reshape()和ravel()还可以被同过一些可选参数构建成FORTRAN风格的数组，即最左边的索引变化最快。\n",
    "\n",
    "reshape函数改变参数形状并返回它，而resize函数改变数组自身。"
   ]
  },
  {
   "cell_type": "code",
   "execution_count": null,
   "metadata": {
    "collapsed": true
   },
   "outputs": [],
   "source": [
    ">>> a\n",
    "array([[ 7.,  5.],\n",
    "       [ 9.,  3.],\n",
    "       [ 7.,  2.],\n",
    "       [ 7.,  8.],\n",
    "       [ 6.,  8.],\n",
    "       [ 3.,  2.]])\n",
    ">>> a.resize((2,6))\n",
    ">>> a\n",
    "array([[ 7.,  5.,  9.,  3.,  7.,  2.],\n",
    "       [ 7.,  8.,  6.,  8.,  3.,  2.]])"
   ]
  },
  {
   "cell_type": "markdown",
   "metadata": {},
   "source": [
    "如果在改变形状操作中一个维度被给做-1，其维度将自动被计算.更多 shape, reshape, resize, ravel 参考NumPy示例\n",
    "\n",
    "### 组合(stack)不同的数组\n",
    "\n",
    "几种方法可以沿不同轴将数组堆叠在一起："
   ]
  },
  {
   "cell_type": "code",
   "execution_count": null,
   "metadata": {
    "collapsed": true
   },
   "outputs": [],
   "source": [
    ">>> a = floor(10*random.random((2,2)))\n",
    ">>> a\n",
    "array([[ 1.,  1.],\n",
    "       [ 5.,  8.]])\n",
    ">>> b = floor(10*random.random((2,2)))\n",
    ">>> b\n",
    "array([[ 3.,  3.],\n",
    "       [ 6.,  0.]])\n",
    ">>> vstack((a,b))\n",
    "array([[ 1.,  1.],\n",
    "       [ 5.,  8.],\n",
    "       [ 3.,  3.],\n",
    "       [ 6.,  0.]])\n",
    ">>> hstack((a,b))\n",
    "array([[ 1.,  1.,  3.,  3.],\n",
    "       [ 5.,  8.,  6.,  0.]])"
   ]
  },
  {
   "cell_type": "code",
   "execution_count": null,
   "metadata": {
    "collapsed": true
   },
   "outputs": [],
   "source": [
    "函数column_stack以列将一维数组合成二维数组，它等同与vstack对一维数组。"
   ]
  },
  {
   "cell_type": "code",
   "execution_count": null,
   "metadata": {
    "collapsed": true
   },
   "outputs": [],
   "source": [
    ">>> column_stack((a,b))   # With 2D arrays\n",
    "array([[ 1.,  1.,  3.,  3.],\n",
    "       [ 5.,  8.,  6.,  0.]])\n",
    ">>> a=array([4.,2.])\n",
    ">>> b=array([2.,8.])\n",
    ">>> a[:,newaxis]  # This allows to have a 2D columns vector\n",
    "array([[ 4.],\n",
    "       [ 2.]])\n",
    ">>> column_stack((a[:,newaxis],b[:,newaxis]))\n",
    "array([[ 4.,  2.],\n",
    "       [ 2.,  8.]])\n",
    ">>> vstack((a[:,newaxis],b[:,newaxis])) # The behavior of vstack is different\n",
    "array([[ 4.],\n",
    "       [ 2.],\n",
    "       [ 2.],\n",
    "       [ 8.]])"
   ]
  },
  {
   "cell_type": "markdown",
   "metadata": {},
   "source": [
    "row_stack函数，另一方面，将一维数组以行组合成二维数组。\n",
    "\n",
    "对那些维度比二维更高的数组，hstack沿着第二个轴组合，vstack沿着第一个轴组合,concatenate允许可选参数给出组合时沿着的轴。\n",
    "\n",
    "Note\n",
    "\n",
    "在复杂情况下，r_[]和c_[]对创建沿着一个方向组合的数很有用，它们允许范围符号(“:”):"
   ]
  },
  {
   "cell_type": "code",
   "execution_count": 64,
   "metadata": {
    "collapsed": false
   },
   "outputs": [
    {
     "data": {
      "text/plain": [
       "array([1, 2, 3, 0, 4])"
      ]
     },
     "execution_count": 64,
     "metadata": {},
     "output_type": "execute_result"
    }
   ],
   "source": [
    ">>> r_[1:4,0,4]\n",
    "array([1, 2, 3, 0, 4])"
   ]
  },
  {
   "cell_type": "markdown",
   "metadata": {},
   "source": [
    "当使用数组作为参数时，r_和c_的默认行为和vstack和hstack很像，但是允许可选的参数给出组合所沿着的轴的代号。\n",
    "\n",
    "更多函数hstack , vstack, column_stack , row_stack , concatenate , c_ , r_ 参见NumPy示例.\n",
    "将一个数组分割(split)成几个小数组\n",
    "\n",
    "使用hsplit你能将数组沿着它的水平轴分割，或者指定返回相同形状数组的个数，或者指定在哪些列后发生分割:"
   ]
  },
  {
   "cell_type": "code",
   "execution_count": null,
   "metadata": {
    "collapsed": true
   },
   "outputs": [],
   "source": [
    ">>> a = floor(10*random.random((2,12)))\n",
    ">>> a\n",
    "array([[ 8.,  8.,  3.,  9.,  0.,  4.,  3.,  0.,  0.,  6.,  4.,  4.],\n",
    "       [ 0.,  3.,  2.,  9.,  6.,  0.,  4.,  5.,  7.,  5.,  1.,  4.]])\n",
    ">>> hsplit(a,3)   # Split a into 3\n",
    "[array([[ 8.,  8.,  3.,  9.],\n",
    "       [ 0.,  3.,  2.,  9.]]), array([[ 0.,  4.,  3.,  0.],\n",
    "       [ 6.,  0.,  4.,  5.]]), array([[ 0.,  6.,  4.,  4.],\n",
    "       [ 7.,  5.,  1.,  4.]])]\n",
    ">>> hsplit(a,(3,4))   # Split a after the third and the fourth column\n",
    "[array([[ 8.,  8.,  3.],\n",
    "       [ 0.,  3.,  2.]]), array([[ 9.],\n",
    "       [ 9.]]), array([[ 0.,  4.,  3.,  0.,  0.,  6.,  4.,  4.],\n",
    "       [ 6.,  0.,  4.,  5.,  7.,  5.,  1.,  4.]])]"
   ]
  },
  {
   "cell_type": "markdown",
   "metadata": {},
   "source": [
    "vsplit沿着纵向的轴分割，array split允许指定沿哪个轴分割。\n",
    "\n",
    "## 复制和视图\n",
    "\n",
    "当运算和处理数组时，它们的数据有时被拷贝到新的数组有时不是。这通常是新手的困惑之源。  \n",
    "这有三种情况:\n",
    "完全不拷贝,简单的赋值不拷贝数组对象或它们的数据。"
   ]
  },
  {
   "cell_type": "code",
   "execution_count": null,
   "metadata": {
    "collapsed": true
   },
   "outputs": [],
   "source": [
    ">>> a = arange(12)\n",
    ">>> b = a            # no new object is created\n",
    ">>> b is a           # a and b are two names for the same ndarray object\n",
    "True\n",
    ">>> b.shape = 3,4    # changes the shape of a\n",
    ">>> a.shape\n",
    "(3, 4)"
   ]
  },
  {
   "cell_type": "markdown",
   "metadata": {},
   "source": [
    "Python 传递不定对象作为参考4，所以函数调用不拷贝数组。"
   ]
  },
  {
   "cell_type": "code",
   "execution_count": null,
   "metadata": {
    "collapsed": true
   },
   "outputs": [],
   "source": [
    ">>> def f(x):\n",
    "...     print id(x)\n",
    ">>> id(a)                           # id is a unique identifier of an object\n",
    "148293216\n",
    ">>> f(a)\n",
    "148293216"
   ]
  },
  {
   "cell_type": "markdown",
   "metadata": {},
   "source": [
    "### 视图(view)和浅复制\n",
    "\n",
    "不同的数组对象分享同一个数据。视图方法创造一个新的数组对象指向同一数据。"
   ]
  },
  {
   "cell_type": "code",
   "execution_count": null,
   "metadata": {
    "collapsed": true
   },
   "outputs": [],
   "source": [
    ">>> c = a.view()\n",
    ">>> c is a\n",
    "False\n",
    ">>> c.base is a                        # c is a view of the data owned by a\n",
    "True\n",
    ">>> c.flags.owndata\n",
    "False\n",
    ">>>\n",
    ">>> c.shape = 2,6                      # a's shape doesn't change\n",
    ">>> a.shape\n",
    "(3, 4)\n",
    ">>> c[0,4] = 1234                      # a's data changes\n",
    ">>> a\n",
    "array([[   0,    1,    2,    3],\n",
    "       [1234,    5,    6,    7],\n",
    "       [   8,    9,   10,   11]])\n",
    "\n",
    "#切片数组返回它的一个视图：\n",
    ">>> s = a[ : , 1:3]     # spaces added for clarity; could also be written \"s = a[:,1:3]\"\n",
    ">>> s[:] = 10           # s[:] is a view of s. Note the difference between s=10 and s[:]=10\n",
    ">>> a\n",
    "array([[   0,   10,   10,    3],\n",
    "       [1234,   10,   10,    7],\n",
    "       [   8,   10,   10,   11]])"
   ]
  },
  {
   "cell_type": "markdown",
   "metadata": {},
   "source": [
    "### 深复制\n",
    "\n",
    "这个复制方法完全复制数组和它的数据。"
   ]
  },
  {
   "cell_type": "code",
   "execution_count": null,
   "metadata": {
    "collapsed": true
   },
   "outputs": [],
   "source": [
    ">>> d = a.copy()                          # a new array object with new data is created\n",
    ">>> d is a\n",
    "False\n",
    ">>> d.base is a                           # d doesn't share anything with a\n",
    "False\n",
    ">>> d[0,0] = 9999\n",
    ">>> a\n",
    "array([[   0,   10,   10,    3],\n",
    "       [1234,   10,   10,    7],\n",
    "       [   8,   10,   10,   11]])"
   ]
  },
  {
   "cell_type": "markdown",
   "metadata": {},
   "source": [
    "## 函数和方法(method)总览\n",
    "\n",
    "这是个NumPy函数和方法分类排列目录。这些名字链接到NumPy示例,你可以看到这些函数起作用。5\n",
    "\n",
    "### 创建数组\n",
    "\n",
    "arange, array, copy, empty, empty_like, eye, fromfile, fromfunction, identity, linspace, logspace, mgrid, ogrid, ones, ones_like, r , zeros, zeros_like \n",
    "\n",
    "### 转化\n",
    "\n",
    "astype, atleast 1d, atleast 2d, atleast 3d, mat \n",
    "\n",
    "### 操作\n",
    "\n",
    "array split, column stack, concatenate, diagonal, dsplit, dstack, hsplit, hstack, item, newaxis, ravel, repeat, reshape, resize, squeeze, swapaxes, take, transpose, vsplit, vstack \n",
    "\n",
    "### 询问\n",
    "\n",
    "all, any, nonzero, where \n",
    "\n",
    "### 排序\n",
    "\n",
    "argmax, argmin, argsort, max, min, ptp, searchsorted, sort \n",
    "\n",
    "### 运算\n",
    "\n",
    "choose, compress, cumprod, cumsum, inner, fill, imag, prod, put, putmask, real, sum \n",
    "\n",
    "### 基本统计\n",
    "\n",
    "cov, mean, std, var \n",
    "\n",
    "### 基本线性代数\n",
    "\n",
    "cross, dot, outer, svd, vdot\n",
    "\n",
    "## 进阶\n",
    "\n",
    "### 广播法则(rule)\n",
    "\n",
    "广播法则能使通用函数有意义地处理不具有相同形状的输入。\n",
    "\n",
    "广播第一法则是，如果所有的输入数组维度不都相同，一个“1”将被重复地添加在维度较小的数组上直至所有的数组拥有一样的维度。\n",
    "\n",
    "广播第二法则确定长度为1的数组沿着特殊的方向表现地好像它有沿着那个方向最大形状的大小。对数组来说，沿着那个维度的数组元素的值理应相同。\n",
    "\n",
    "应用广播法则之后，所有数组的大小必须匹配。更多细节可以从这个文档找到。\n",
    "花哨的索引和索引技巧\n",
    "\n",
    "NumPy比普通Python序列提供更多的索引功能。除了索引整数和切片，正如我们之前看到的，数组可以被整数数组和布尔数组索引。\n",
    "\n",
    "### 通过数组索引"
   ]
  },
  {
   "cell_type": "code",
   "execution_count": null,
   "metadata": {
    "collapsed": true
   },
   "outputs": [],
   "source": [
    ">>> a = arange(12)**2                          # the first 12 square numbers\n",
    ">>> i = array( [ 1,1,3,8,5 ] )                 # an array of indices\n",
    ">>> a[i]                                       # the elements of a at the positions i\n",
    "array([ 1,  1,  9, 64, 25])\n",
    ">>>\n",
    ">>> j = array( [ [ 3, 4], [ 9, 7 ] ] )         # a bidimensional array of indices\n",
    ">>> a[j]                                       # the same shape as j\n",
    "array([[ 9, 16],\n",
    "       [81, 49]])"
   ]
  },
  {
   "cell_type": "markdown",
   "metadata": {},
   "source": [
    "当被索引数组a是多维的时，每一个唯一的索引数列指向a的第一维[^5]。以下示例通过将图片标签用调色版转换成色彩图像展示了这种行为。"
   ]
  },
  {
   "cell_type": "code",
   "execution_count": null,
   "metadata": {
    "collapsed": true
   },
   "outputs": [],
   "source": [
    ">>> palette = array( [ [0,0,0],                # black\n",
    "...                    [255,0,0],              # red\n",
    "...                    [0,255,0],              # green\n",
    "...                    [0,0,255],              # blue\n",
    "...                    [255,255,255] ] )       # white\n",
    ">>> image = array( [ [ 0, 1, 2, 0 ],           # each value corresponds to a color in the palette\n",
    "...                  [ 0, 3, 4, 0 ]  ] )\n",
    ">>> palette[image]                            # the (2,4,3) color image\n",
    "array([[[  0,   0,   0],\n",
    "        [255,   0,   0],\n",
    "        [  0, 255,   0],\n",
    "        [  0,   0,   0]],\n",
    "       [[  0,   0,   0],\n",
    "        [  0,   0, 255],\n",
    "        [255, 255, 255],\n",
    "        [  0,   0,   0]]])"
   ]
  },
  {
   "cell_type": "markdown",
   "metadata": {},
   "source": [
    "我们也可以给出不不止一维的索引，每一维的索引数组必须有相同的形状。"
   ]
  },
  {
   "cell_type": "code",
   "execution_count": null,
   "metadata": {
    "collapsed": true
   },
   "outputs": [],
   "source": [
    ">>> a = arange(12).reshape(3,4)\n",
    ">>> a\n",
    "array([[ 0,  1,  2,  3],\n",
    "       [ 4,  5,  6,  7],\n",
    "       [ 8,  9, 10, 11]])\n",
    ">>> i = array( [ [0,1],                        # indices for the first dim of a\n",
    "...              [1,2] ] )\n",
    ">>> j = array( [ [2,1],                        # indices for the second dim\n",
    "...              [3,3] ] )\n",
    ">>>\n",
    ">>> a[i,j]                                     # i and j must have equal shape\n",
    "array([[ 2,  5],\n",
    "       [ 7, 11]])\n",
    ">>>\n",
    ">>> a[i,2]\n",
    "array([[ 2,  6],\n",
    "       [ 6, 10]])\n",
    ">>>\n",
    ">>> a[:,j]                                     # i.e., a[ : , j]\n",
    "array([[[ 2,  1],\n",
    "        [ 3,  3]],\n",
    "       [[ 6,  5],\n",
    "        [ 7,  7]],\n",
    "       [[10,  9],\n",
    "        [11, 11]]])"
   ]
  },
  {
   "cell_type": "markdown",
   "metadata": {},
   "source": [
    "自然，我们可以把i和j放到序列中(比如说列表)然后通过list索引。"
   ]
  },
  {
   "cell_type": "code",
   "execution_count": null,
   "metadata": {
    "collapsed": true
   },
   "outputs": [],
   "source": [
    ">>> l = [i,j]\n",
    ">>> a[l]                                       # equivalent to a[i,j]\n",
    "array([[ 2,  5],\n",
    "       [ 7, 11]])"
   ]
  },
  {
   "cell_type": "markdown",
   "metadata": {},
   "source": [
    "然而，我们不能把i和j放在一个数组中，因为这个数组将被解释成索引a的第一维。"
   ]
  },
  {
   "cell_type": "code",
   "execution_count": null,
   "metadata": {
    "collapsed": true
   },
   "outputs": [],
   "source": [
    ">>> s = array( [i,j] )\n",
    ">>> a[s]                                       # not what we want\n",
    "---------------------------------------------------------------------------\n",
    "IndexError                                Traceback (most recent call last)\n",
    "<ipython-input-100-b912f631cc75> in <module>()\n",
    "----> 1 a[s]\n",
    "\n",
    "IndexError: index (3) out of range (0<=index<2) in dimension 0\n",
    ">>>\n",
    ">>> a[tuple(s)]                                # same as a[i,j]\n",
    "array([[ 2,  5],\n",
    "       [ 7, 11]])"
   ]
  },
  {
   "cell_type": "markdown",
   "metadata": {},
   "source": [
    "另一个常用的数组索引用法是搜索时间序列最大值6。"
   ]
  },
  {
   "cell_type": "code",
   "execution_count": null,
   "metadata": {
    "collapsed": true
   },
   "outputs": [],
   "source": [
    ">>> time = linspace(20, 145, 5)                 # time scale\n",
    ">>> data = sin(arange(20)).reshape(5,4)         # 4 time-dependent series\n",
    ">>> time\n",
    "array([  20.  ,   51.25,   82.5 ,  113.75,  145.  ])\n",
    ">>> data\n",
    "array([[ 0.        ,  0.84147098,  0.90929743,  0.14112001],\n",
    "       [-0.7568025 , -0.95892427, -0.2794155 ,  0.6569866 ],\n",
    "       [ 0.98935825,  0.41211849, -0.54402111, -0.99999021],\n",
    "       [-0.53657292,  0.42016704,  0.99060736,  0.65028784],\n",
    "       [-0.28790332, -0.96139749, -0.75098725,  0.14987721]])\n",
    ">>>\n",
    ">>> ind = data.argmax(axis=0)                   # index of the maxima for each series\n",
    ">>> ind\n",
    "array([2, 0, 3, 1])\n",
    ">>>\n",
    ">>> time_max = time[ ind]                       # times corresponding to the maxima\n",
    ">>>\n",
    ">>> data_max = data[ind, xrange(data.shape[1])] # => data[ind[0],0], data[ind[1],1]...\n",
    ">>>\n",
    ">>> time_max\n",
    "array([  82.5 ,   20.  ,  113.75,   51.25])\n",
    ">>> data_max\n",
    "array([ 0.98935825,  0.84147098,  0.99060736,  0.6569866 ])\n",
    ">>>\n",
    ">>> all(data_max == data.max(axis=0))\n",
    "True"
   ]
  },
  {
   "cell_type": "markdown",
   "metadata": {},
   "source": [
    "你也可以使用数组索引作为目标来赋值："
   ]
  },
  {
   "cell_type": "code",
   "execution_count": null,
   "metadata": {
    "collapsed": true
   },
   "outputs": [],
   "source": [
    ">>> a = arange(5)\n",
    ">>> a\n",
    "array([0, 1, 2, 3, 4])\n",
    ">>> a[[1,3,4]] = 0\n",
    ">>> a\n",
    "array([0, 0, 2, 0, 0])"
   ]
  },
  {
   "cell_type": "markdown",
   "metadata": {},
   "source": [
    "然而，当一个索引列表包含重复时，赋值被多次完成，保留最后的值："
   ]
  },
  {
   "cell_type": "code",
   "execution_count": null,
   "metadata": {
    "collapsed": true
   },
   "outputs": [],
   "source": [
    ">>> a = arange(5)\n",
    ">>> a[[0,0,2]]=[1,2,3]\n",
    ">>> a\n",
    "array([2, 1, 3, 3, 4])"
   ]
  },
  {
   "cell_type": "markdown",
   "metadata": {},
   "source": [
    "这足够合理，但是小心如果你想用Python的+=结构，可能结果并非你所期望："
   ]
  },
  {
   "cell_type": "code",
   "execution_count": null,
   "metadata": {
    "collapsed": true
   },
   "outputs": [],
   "source": [
    ">>> a = arange(5)\n",
    ">>> a[[0,0,2]]+=1\n",
    ">>> a\n",
    "array([1, 1, 3, 3, 4])"
   ]
  },
  {
   "cell_type": "markdown",
   "metadata": {},
   "source": [
    "即使0在索引列表中出现两次，索引为0的元素仅仅增加一次。这是因为Python要求a+=1和a=a+1等同。\n",
    "### 通过布尔数组索引\n",
    "\n",
    "当我们使用整数数组索引数组时，我们提供一个索引列表去选择。通过布尔数组索引的方法是不同的我们显式地选择数组中我们想要和不想要的元素。\n",
    "\n",
    "我们能想到的使用布尔数组的索引最自然方式就是使用和原数组一样形状的布尔数组。"
   ]
  },
  {
   "cell_type": "code",
   "execution_count": null,
   "metadata": {
    "collapsed": true
   },
   "outputs": [],
   "source": [
    ">>> a = arange(12).reshape(3,4)\n",
    ">>> b = a > 4\n",
    ">>> b                                          # b is a boolean with a's shape\n",
    "array([[False, False, False, False],\n",
    "       [False, True, True, True],\n",
    "       [True, True, True, True]], dtype=bool)\n",
    ">>> a[b]                                       # 1d array with the selected elements\n",
    "array([ 5,  6,  7,  8,  9, 10, 11])"
   ]
  },
  {
   "cell_type": "markdown",
   "metadata": {},
   "source": [
    "这个属性在赋值时非常有用："
   ]
  },
  {
   "cell_type": "code",
   "execution_count": null,
   "metadata": {
    "collapsed": true
   },
   "outputs": [],
   "source": [
    ">>> a[b] = 0                                   # All elements of 'a' higher than 4 become 0\n",
    ">>> a\n",
    "array([[0, 1, 2, 3],\n",
    "       [4, 0, 0, 0],\n",
    "       [0, 0, 0, 0]])"
   ]
  },
  {
   "cell_type": "markdown",
   "metadata": {},
   "source": [
    "可以参考曼德博集合示例看看如何使用布尔索引来生成曼德博集合的图像。\n",
    "\n",
    "第二种通过布尔来索引的方法更近似于整数索引；  \n",
    "对数组的每个维度我们给一个一维布尔数组来选择我们想要的切片。"
   ]
  },
  {
   "cell_type": "code",
   "execution_count": null,
   "metadata": {
    "collapsed": true
   },
   "outputs": [],
   "source": [
    ">>> a = arange(12).reshape(3,4)\n",
    ">>> b1 = array([False,True,True])             # first dim selection\n",
    ">>> b2 = array([True,False,True,False])       # second dim selection\n",
    ">>>\n",
    ">>> a[b1,:]                                   # selecting rows\n",
    "array([[ 4,  5,  6,  7],\n",
    "       [ 8,  9, 10, 11]])\n",
    ">>>\n",
    ">>> a[b1]                                     # same thing\n",
    "array([[ 4,  5,  6,  7],\n",
    "       [ 8,  9, 10, 11]])\n",
    ">>>\n",
    ">>> a[:,b2]                                   # selecting columns\n",
    "array([[ 0,  2],\n",
    "       [ 4,  6],\n",
    "       [ 8, 10]])\n",
    ">>>\n",
    ">>> a[b1,b2]                                  # a weird thing to do\n",
    "array([ 4, 10])"
   ]
  },
  {
   "cell_type": "markdown",
   "metadata": {},
   "source": [
    "注意一维数组的长度必须和你想要切片的维度或轴的长度一致，在之前的例子中，b1是一个秩为1长度为三的数组(a的行数)，b2(长度为4)与a的第二秩(列)相一致。\n",
    "\n",
    "## ix_()函数\n",
    "ix_函数可以为了获得多元组的结果而用来结合不同向量。例如，如果你想要用所有向量a、b和c元素组成的三元组来计算a+b*c："
   ]
  },
  {
   "cell_type": "code",
   "execution_count": null,
   "metadata": {
    "collapsed": true
   },
   "outputs": [],
   "source": [
    ">>> a = array([2,3,4,5])\n",
    ">>> b = array([8,5,4])\n",
    ">>> c = array([5,4,6,8,3])\n",
    ">>> ax,bx,cx = ix_(a,b,c)\n",
    ">>> ax\n",
    "array([[[2]],\n",
    "\n",
    "       [[3]],\n",
    "\n",
    "       [[4]],\n",
    "\n",
    "       [[5]]])\n",
    ">>> bx\n",
    "array([[[8],\n",
    "        [5],\n",
    "        [4]]])\n",
    ">>> cx\n",
    "array([[[5, 4, 6, 8, 3]]])\n",
    ">>> ax.shape, bx.shape, cx.shape\n",
    "((4, 1, 1), (1, 3, 1), (1, 1, 5))\n",
    ">>> result = ax+bx*cx\n",
    ">>> result\n",
    "array([[[42, 34, 50, 66, 26],\n",
    "        [27, 22, 32, 42, 17],\n",
    "        [22, 18, 26, 34, 14]],\n",
    "       [[43, 35, 51, 67, 27],\n",
    "        [28, 23, 33, 43, 18],\n",
    "        [23, 19, 27, 35, 15]],\n",
    "       [[44, 36, 52, 68, 28],\n",
    "        [29, 24, 34, 44, 19],\n",
    "        [24, 20, 28, 36, 16]],\n",
    "       [[45, 37, 53, 69, 29],\n",
    "        [30, 25, 35, 45, 20],\n",
    "        [25, 21, 29, 37, 17]]])\n",
    ">>> result[3,2,4]\n",
    "17\n",
    ">>> a[3]+b[2]*c[4]\n",
    "17"
   ]
  },
  {
   "cell_type": "markdown",
   "metadata": {},
   "source": [
    "你也可以实行如下简化："
   ]
  },
  {
   "cell_type": "code",
   "execution_count": null,
   "metadata": {
    "collapsed": true
   },
   "outputs": [],
   "source": [
    "def ufunc_reduce(ufct, *vectors):\n",
    "    vs = ix_(*vectors)\n",
    "    r = ufct.identity\n",
    "    for v in vs:\n",
    "        r = ufct(r,v)\n",
    "    return r"
   ]
  },
  {
   "cell_type": "markdown",
   "metadata": {},
   "source": [
    "然后这样使用它："
   ]
  },
  {
   "cell_type": "code",
   "execution_count": null,
   "metadata": {
    "collapsed": true
   },
   "outputs": [],
   "source": [
    ">>> ufunc_reduce(add,a,b,c)\n",
    "array([[[15, 14, 16, 18, 13],\n",
    "        [12, 11, 13, 15, 10],\n",
    "        [11, 10, 12, 14,  9]],\n",
    "       [[16, 15, 17, 19, 14],\n",
    "        [13, 12, 14, 16, 11],\n",
    "        [12, 11, 13, 15, 10]],\n",
    "       [[17, 16, 18, 20, 15],\n",
    "        [14, 13, 15, 17, 12],\n",
    "        [13, 12, 14, 16, 11]],\n",
    "       [[18, 17, 19, 21, 16],\n",
    "        [15, 14, 16, 18, 13],\n",
    "        [14, 13, 15, 17, 12]]])"
   ]
  },
  {
   "cell_type": "markdown",
   "metadata": {},
   "source": [
    "这个reduce与ufunc.reduce(比如说add.reduce)相比的优势在于它利用了广播法则，避免了创建一个输出大小乘以向量个数的参数数组。8\n",
    "用字符串索引\n",
    "\n",
    "参见RecordArray。\n",
    "\n",
    "## 线性代数\n",
    "\n",
    "继续前进，基本线性代数包含在这里。\n",
    "\n",
    "### 简单数组运算\n",
    "\n",
    "参考numpy文件夹中的linalg.py获得更多信息"
   ]
  },
  {
   "cell_type": "code",
   "execution_count": null,
   "metadata": {
    "collapsed": true
   },
   "outputs": [],
   "source": [
    ">>> from numpy import *\n",
    ">>> from numpy.linalg import *\n",
    "\n",
    ">>> a = array([[1.0, 2.0], [3.0, 4.0]])\n",
    ">>> print a\n",
    "[[ 1.  2.]\n",
    " [ 3.  4.]]\n",
    "\n",
    ">>> a.transpose()\n",
    "array([[ 1.,  3.],\n",
    "       [ 2.,  4.]])\n",
    "\n",
    ">>> inv(a)\n",
    "array([[-2. ,  1. ],\n",
    "       [ 1.5, -0.5]])\n",
    "\n",
    ">>> u = eye(2) # unit 2x2 matrix; \"eye\" represents \"I\"\n",
    ">>> u\n",
    "array([[ 1.,  0.],\n",
    "       [ 0.,  1.]])\n",
    ">>> j = array([[0.0, -1.0], [1.0, 0.0]])\n",
    "\n",
    ">>> dot (j, j) # matrix product\n",
    "array([[-1.,  0.],\n",
    "       [ 0., -1.]])\n",
    "\n",
    ">>> trace(u)  # trace\n",
    " 2.0\n",
    "\n",
    ">>> y = array([[5.], [7.]])\n",
    ">>> solve(a, y)\n",
    "array([[-3.],\n",
    "       [ 4.]])\n",
    "\n",
    ">>> eig(j)\n",
    "(array([ 0.+1.j,  0.-1.j]),\n",
    "array([[ 0.70710678+0.j,  0.70710678+0.j],\n",
    "       [ 0.00000000-0.70710678j,  0.00000000+0.70710678j]]))"
   ]
  },
  {
   "cell_type": "markdown",
   "metadata": {},
   "source": [
    "Parameters:\n",
    "    square matrix\n",
    "\n",
    "Returns\n",
    "    The eigenvalues, each repeated according to its multiplicity.\n",
    "\n",
    "    The normalized (unit \"length\") eigenvectors, such that the\n",
    "    column ``v[:,i]`` is the eigenvector corresponding to the\n",
    "    eigenvalue ``w[i]`` .\n",
    "\n",
    "## 矩阵类\n",
    "\n",
    "这是一个关于矩阵类的简短介绍。"
   ]
  },
  {
   "cell_type": "code",
   "execution_count": null,
   "metadata": {
    "collapsed": true
   },
   "outputs": [],
   "source": [
    ">>> A = matrix('1.0 2.0; 3.0 4.0')\n",
    ">>> A\n",
    "[[ 1.  2.]\n",
    " [ 3.  4.]]\n",
    ">>> type(A)  # file where class is defined\n",
    "<class 'numpy.matrixlib.defmatrix.matrix'>\n",
    "\n",
    ">>> A.T  # transpose\n",
    "[[ 1.  3.]\n",
    " [ 2.  4.]]\n",
    "\n",
    ">>> X = matrix('5.0 7.0')\n",
    ">>> Y = X.T\n",
    ">>> Y\n",
    "[[5.]\n",
    " [7.]]\n",
    "\n",
    ">>> print A*Y  # matrix multiplication\n",
    "[[19.]\n",
    " [43.]]\n",
    "\n",
    ">>> print A.I  # inverse\n",
    "[[-2.   1. ]\n",
    " [ 1.5 -0.5]]\n",
    "\n",
    ">>> solve(A, Y)  # solving linear equation\n",
    "matrix([[-3.],\n",
    "        [ 4.]])"
   ]
  },
  {
   "cell_type": "markdown",
   "metadata": {},
   "source": [
    "### 索引：比较矩阵和二维数组\n",
    "\n",
    "注意NumPy中数组和矩阵有些重要的区别。NumPy提供了两个基本的对象：一个N维数组对象和一个通用函数对象。其它对象都是建构在它们之上的。特别的，矩阵是继承自NumPy数组对象的二维数组对象。对数组和矩阵，索引都必须包含合适的一个或多个这些组合：整数标量、省略号(ellipses)、整数列表;布尔值，整数或布尔值构成的元组，和一个一维整数或布尔值数组。矩阵可以被用作矩阵的索引，但是通常需要数组、列表或者其它形式来完成这个任务。\n",
    "\n",
    "像平常在Python中一样，索引是从0开始的。传统上我们用矩形的行和列表示一个二维数组或矩阵，其中沿着0轴的方向被穿过的称作行，沿着1轴的方向被穿过的是列。\n",
    "\n",
    "让我们创建数组和矩阵用来切片："
   ]
  },
  {
   "cell_type": "code",
   "execution_count": null,
   "metadata": {
    "collapsed": true
   },
   "outputs": [],
   "source": [
    ">>> A = arange(12)\n",
    ">>> A\n",
    "array([ 0,  1,  2,  3,  4,  5,  6,  7,  8,  9, 10, 11])\n",
    ">>> A.shape = (3,4)\n",
    ">>> M = mat(A.copy())\n",
    ">>> print type(A),\"  \",type(M)\n",
    "<type 'numpy.ndarray'>    <class 'numpy.core.defmatrix.matrix'>\n",
    ">>> print A\n",
    "[[ 0  1  2  3]\n",
    " [ 4  5  6  7]\n",
    " [ 8  9 10 11]]\n",
    ">>> print M\n",
    "[[ 0  1  2  3]\n",
    " [ 4  5  6  7]\n",
    " [ 8  9 10 11]]"
   ]
  },
  {
   "cell_type": "markdown",
   "metadata": {},
   "source": [
    "现在，让我们简单的切几片。基本的切片使用切片对象或整数。  \n",
    "例如，A[:]和M[:]的求值将表现得和Python索引很相似。  \n",
    "然而要注意很重要的一点就是NumPy切片数组不创建数据的副本;切片提供统一数据的视图。"
   ]
  },
  {
   "cell_type": "code",
   "execution_count": null,
   "metadata": {
    "collapsed": true
   },
   "outputs": [],
   "source": [
    ">>> print A[:]; \n",
    "print A[:].shape\n",
    "[[ 0  1  2  3]\n",
    " [ 4  5  6  7]\n",
    " [ 8  9 10 11]]\n",
    "(3, 4)\n",
    ">>> print M[:]; \n",
    "print M[:].shape\n",
    "[[ 0  1  2  3]\n",
    " [ 4  5  6  7]\n",
    " [ 8  9 10 11]]\n",
    "(3, 4)"
   ]
  },
  {
   "cell_type": "markdown",
   "metadata": {},
   "source": [
    "现在有些和Python索引不同的了：你可以同时使用逗号分割索引来沿着多个轴索引。"
   ]
  },
  {
   "cell_type": "code",
   "execution_count": null,
   "metadata": {
    "collapsed": true
   },
   "outputs": [],
   "source": [
    ">>> print A[:,1]; print A[:,1].shape\n",
    "[1 5 9]\n",
    "(3,)\n",
    ">>> print M[:,1]; print M[:,1].shape\n",
    "[[1]\n",
    " [5]\n",
    " [9]]\n",
    "(3, 1)"
   ]
  },
  {
   "cell_type": "markdown",
   "metadata": {},
   "source": [
    "注意最后两个结果的不同。对二维数组使用一个冒号产生一个一维数组，然而矩阵产生了一个二维矩阵。10例如，一个M[2,:]切片产生了一个形状为(1,4)的矩阵，相比之下，一个数组的切片总是产生一个最低可能维度11的数组。例如，如果C是一个三维数组，C[...,1]产生一个二维的数组而C[1,:,1]产生一个一维数组。从这时开始，如果相应的矩阵切片结果是相同的话，我们将只展示数组切片的结果。\n",
    "\n",
    "假如我们想要一个数组的第一列和第三列，一种方法是使用列表切片："
   ]
  },
  {
   "cell_type": "code",
   "execution_count": null,
   "metadata": {
    "collapsed": true
   },
   "outputs": [],
   "source": [
    ">>> A[:,[1,3]]\n",
    "array([[ 1,  3],\n",
    "       [ 5,  7],\n",
    "       [ 9, 11]])"
   ]
  },
  {
   "cell_type": "markdown",
   "metadata": {},
   "source": [
    "稍微复杂点的方法是使用take()方法(method):"
   ]
  },
  {
   "cell_type": "code",
   "execution_count": null,
   "metadata": {
    "collapsed": true
   },
   "outputs": [],
   "source": [
    ">>> A[:,].take([1,3],axis=1)\n",
    "array([[ 1,  3],\n",
    "       [ 5,  7],\n",
    "       [ 9, 11]])"
   ]
  },
  {
   "cell_type": "markdown",
   "metadata": {},
   "source": [
    "如果我们想跳过第一行，我们可以这样："
   ]
  },
  {
   "cell_type": "code",
   "execution_count": null,
   "metadata": {
    "collapsed": true
   },
   "outputs": [],
   "source": [
    ">>> A[1:,].take([1,3],axis=1)\n",
    "array([[ 5,  7],\n",
    "       [ 9, 11]])"
   ]
  },
  {
   "cell_type": "markdown",
   "metadata": {},
   "source": [
    "或者我们仅仅使用A[1:,[1,3]]。还有一种方法是通过矩阵向量积(叉积)。"
   ]
  },
  {
   "cell_type": "code",
   "execution_count": null,
   "metadata": {
    "collapsed": true
   },
   "outputs": [],
   "source": [
    ">>> A[ix_((1,2),(1,3))]\n",
    "array([[ 5,  7],\n",
    "       [ 9, 11]])"
   ]
  },
  {
   "cell_type": "markdown",
   "metadata": {},
   "source": [
    "为了读者的方便，在次写下之前的矩阵："
   ]
  },
  {
   "cell_type": "code",
   "execution_count": null,
   "metadata": {
    "collapsed": true
   },
   "outputs": [],
   "source": [
    ">>> A[ix_((1,2),(1,3))]\n",
    "array([[ 5,  7],\n",
    "       [ 9, 11]])"
   ]
  },
  {
   "cell_type": "markdown",
   "metadata": {},
   "source": [
    "现在让我们做些更复杂的。比如说我们想要保留第一行大于1的列。一种方法是创建布尔索引："
   ]
  },
  {
   "cell_type": "code",
   "execution_count": null,
   "metadata": {
    "collapsed": true
   },
   "outputs": [],
   "source": [
    ">>> A[0,:]>1\n",
    "array([False, False, True, True], dtype=bool)\n",
    ">>> A[:,A[0,:]>1]\n",
    "array([[ 2,  3],\n",
    "       [ 6,  7],\n",
    "       [10, 11]])"
   ]
  },
  {
   "cell_type": "markdown",
   "metadata": {},
   "source": [
    "就是我们想要的！但是索引矩阵没这么方便。"
   ]
  },
  {
   "cell_type": "code",
   "execution_count": null,
   "metadata": {
    "collapsed": true
   },
   "outputs": [],
   "source": [
    ">>> M[0,:]>1\n",
    "matrix([[False, False, True, True]], dtype=bool)\n",
    ">>> M[:,M[0,:]>1]\n",
    "matrix([[2, 3]])"
   ]
  },
  {
   "cell_type": "markdown",
   "metadata": {},
   "source": [
    "这个过程的问题是用“矩阵切片”来切片产生一个矩阵12，但是矩阵有个方便的A属性，它的值是数组呈现的。所以我们仅仅做以下替代："
   ]
  },
  {
   "cell_type": "code",
   "execution_count": null,
   "metadata": {
    "collapsed": true
   },
   "outputs": [],
   "source": [
    ">>> M[:,M.A[0,:]>1]\n",
    "matrix([[ 2,  3],\n",
    "        [ 6,  7],\n",
    "        [10, 11]])"
   ]
  },
  {
   "cell_type": "markdown",
   "metadata": {},
   "source": [
    "如果我们想要在矩阵两个方向有条件地切片，我们必须稍微调整策略，代之以："
   ]
  },
  {
   "cell_type": "code",
   "execution_count": null,
   "metadata": {
    "collapsed": true
   },
   "outputs": [],
   "source": [
    ">>> A[A[:,0]>2,A[0,:]>1]\n",
    "array([ 6, 11])\n",
    ">>> M[M.A[:,0]>2,M.A[0,:]>1]\n",
    "matrix([[ 6, 11]])"
   ]
  },
  {
   "cell_type": "markdown",
   "metadata": {},
   "source": [
    "我们需要使用向量积ix_:"
   ]
  },
  {
   "cell_type": "code",
   "execution_count": null,
   "metadata": {
    "collapsed": true
   },
   "outputs": [],
   "source": [
    ">>> A[ix_(A[:,0]>2,A[0,:]>1)]\n",
    "array([[ 6,  7],\n",
    "       [10, 11]])\n",
    ">>> M[ix_(M.A[:,0]>2,M.A[0,:]>1)]\n",
    "matrix([[ 6,  7],\n",
    "        [10, 11]])"
   ]
  },
  {
   "cell_type": "markdown",
   "metadata": {},
   "source": [
    "### 技巧和提示\n",
    "\n",
    "下面我们给出简短和有用的提示。\n",
    "“自动”改变形状\n",
    "\n",
    "更改数组的维度，你可以省略一个尺寸，它将被自动推导出来。"
   ]
  },
  {
   "cell_type": "code",
   "execution_count": null,
   "metadata": {
    "collapsed": true
   },
   "outputs": [],
   "source": [
    ">>> a = arange(30)\n",
    ">>> a.shape = 2,-1,3  # -1 means \"whatever is needed\"\n",
    ">>> a.shape\n",
    "(2, 5, 3)\n",
    ">>> a\n",
    "array([[[ 0,  1,  2],\n",
    "        [ 3,  4,  5],\n",
    "        [ 6,  7,  8],\n",
    "        [ 9, 10, 11],\n",
    "        [12, 13, 14]],\n",
    "       [[15, 16, 17],\n",
    "        [18, 19, 20],\n",
    "        [21, 22, 23],\n",
    "        [24, 25, 26],\n",
    "        [27, 28, 29]]])"
   ]
  },
  {
   "cell_type": "markdown",
   "metadata": {},
   "source": [
    "### 向量组合(stacking)\n",
    "\n",
    "我们如何用两个相同尺寸的行向量列表构建一个二维数组？在MATLAB中这非常简单：如果x和y是两个相同长度的向量，你仅仅需要做m=[x;y]。在NumPy中这个过程通过函数column_stack、dstack、hstack和vstack来完成，取决于你想要在那个维度上组合。例如："
   ]
  },
  {
   "cell_type": "code",
   "execution_count": 74,
   "metadata": {
    "collapsed": false
   },
   "outputs": [
    {
     "data": {
      "text/plain": [
       "array([0, 2, 4, 6, 8, 0, 1, 2, 3, 4])"
      ]
     },
     "execution_count": 74,
     "metadata": {},
     "output_type": "execute_result"
    }
   ],
   "source": [
    "x = arange(0,10,2)                     # x=([0,2,4,6,8])\n",
    "y = arange(5)                          # y=([0,1,2,3,4])\n",
    "m = vstack([x,y])                      # m=([[0,2,4,6,8],\n",
    "                                       #     [0,1,2,3,4]])\n",
    "xy = hstack([x,y])                     # xy =([0,2,4,6,8,0,1,2,3,4])\n",
    "xy"
   ]
  },
  {
   "cell_type": "markdown",
   "metadata": {},
   "source": [
    "二维以上这些函数背后的逻辑会很奇怪。\n",
    "\n",
    "参考写个Matlab用户的NumPy指南并且在这里添加你的新发现: )\n",
    "\n",
    "### 直方图(histogram)\n",
    "\n",
    "NumPy中histogram函数应用到一个数组返回一对变量：直方图数组和箱式向量。注意：matplotlib也有一个用来建立直方图的函数(叫作hist,正如matlab中一样)与NumPy中的不同。主要的差别是pylab.hist自动绘制直方图，而numpy.histogram仅仅产生数据。"
   ]
  },
  {
   "cell_type": "code",
   "execution_count": 1,
   "metadata": {
    "collapsed": false
   },
   "outputs": [
    {
     "name": "stdout",
     "output_type": "stream",
     "text": [
      "Populating the interactive namespace from numpy and matplotlib\n"
     ]
    },
    {
     "data": {
      "image/png": "[encoded data removed]",
      "text/plain": [
       "<matplotlib.figure.Figure at 0x7febbb96b0b8>"
      ]
     },
     "metadata": {},
     "output_type": "display_data"
    },
    {
     "data": {
      "image/png": "[encoded data removed]",
      "text/plain": [
       "<matplotlib.figure.Figure at 0x7feb91bccf28>"
      ]
     },
     "metadata": {},
     "output_type": "display_data"
    }
   ],
   "source": [
    "%pylab inline\n",
    "\n",
    "import numpy\n",
    "import pylab\n",
    "\n",
    "# Build a vector of 10000 normal deviates with variance 0.5^2 and mean 2\n",
    "mu, sigma = 2, 0.5\n",
    "v = numpy.random.normal(mu,sigma,10000)\n",
    "\n",
    "# Plot a normalized histogram with 50 bins\n",
    "pylab.hist(v, bins=50, normed=1)       # matplotlib version (plot)\n",
    "pylab.show()\n",
    "\n",
    "# Compute the histogram with numpy and then plot it\n",
    "(n, bins) = numpy.histogram(v, bins=50, normed=True)  # NumPy version (no plot)\n",
    "pylab.plot(.5*(bins[1:]+bins[:-1]), n)\n",
    "\n",
    "pylab.show()"
   ]
  },
  {
   "cell_type": "markdown",
   "metadata": {},
   "source": [
    "## 参考文献\n",
    "\n",
    "* [The Python tutorial.](http://docs.python.org/tut/tut.html)\n",
    "* [The Numpy Example List.](http://scipy.org/Numpy_Example_List)\n",
    "* [The nonexistent NumPy Tutorial at scipy.org, where we can find the old Numeric documentation.](http://scipy.org/NumPy_Tutorial)\n",
    "* [The Guide to NumPy book.](http://www.tramy.us/)\n",
    "* [The SciPy Tutorial](http://scipy.org/SciPy_Tutorial) and a [SciPy course online](http://www.rexx.com/~dkuhlman/scipy_course_01.html)\n",
    "* [NumPy for Matlab Users.](http://scipy.org/NumPy_for_Matlab_Users)\n",
    "* [A matlab, R, IDL, NumPy/SciPy dictionary.](http://mathesaurus.sf.net/)"
   ]
  }
 ],
 "metadata": {
  "kernelspec": {
   "display_name": "Python 3",
   "language": "python",
   "name": "python3"
  },
  "language_info": {
   "codemirror_mode": {
    "name": "ipython",
    "version": 3
   },
   "file_extension": ".py",
   "mimetype": "text/x-python",
   "name": "python",
   "nbconvert_exporter": "python",
   "pygments_lexer": "ipython3",
   "version": "3.5.1"
  }
 },
 "nbformat": 4,
 "nbformat_minor": 0
}
