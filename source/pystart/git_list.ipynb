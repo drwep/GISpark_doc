{
 "cells": [
  {
   "cell_type": "markdown",
   "metadata": {},
   "source": [
    "\n",
    "## IPython Notebook Tutorial and Skills open source...\n",
    "##### by [openthings@163.com](http://my.oschina.net/u/2306127/blog?catalog=3420733), 2016-04.   \n",
    "### Pandas tutorial for new user.\n",
    "[https://bitbucket.org/hrojas/learn-pandas.git](https://bitbucket.org/hrojas/learn-pandas.git)\n",
    "### echo Pandas Cookbook.\n",
    "[https://github.com/jvns/pandas-cookbook.git](https://github.com/jvns/pandas-cookbook.git)\n",
    "### Some Files for Finance Analysis.\n",
    "[clone https://github.com/wy36101299/ipynb-file.git](clone https://github.com/wy36101299/ipynb-file.git)\n",
    "### Practical data analysis with Python\n",
    "[https://leanpub.com/analyticshandbook](https://leanpub.com/analyticshandbook)\n",
    "### Mining-the-Social-Web-2nd-Edition\n",
    "[https://github.com/ptwobrussell/Mining-the-Social-Web-2nd-Edition.git](https://github.com/ptwobrussell/Mining-the-Social-Web-2nd-Edition.git)\n",
    "### Biolab\n",
    "[https://github.com/biolab/ipynb.git](https://github.com/biolab/ipynb.git)\n",
    "### Build a flask server for Jupyter.\n",
    "[https://github.com/yhilpisch/ipynb-docker.git](https://github.com/yhilpisch/ipynb-docker.git)\n",
    "### IPython notebooks used in Georgia Tech's CSE 6040: Computing for Data Analysis\n",
    "[https://github.com/rvuduc/cse6040-ipynbs.git](https://github.com/rvuduc/cse6040-ipynbs.git)\n",
    "### Jupyter Notebook Tools for Sphinx\n",
    "[https://github.com/spatialaudio/nbsphinx.git](https://github.com/spatialaudio/nbsphinx.git)\n",
    "### A collection of Notebooks for using IPython effectively\n",
    "[https://github.com/odewahn/ipynb-examples.git](https://github.com/odewahn/ipynb-examples.git)\n",
    "### aka \"Bayesian Methods for Hackers\"\n",
    "[https://github.com/CamDavidsonPilon/Probabilistic-Programming-and-Bayesian-Methods-for-Hackers.git](https://github.com/CamDavidsonPilon/Probabilistic-Programming-and-Bayesian-Methods-for-Hackers.git)\n",
    "### /bokeh-tutorial-ipynb\n",
    "[https://github.com/chdoig/bokeh-tutorial-ipynb.git](https://github.com/chdoig/bokeh-tutorial-ipynb.git)\n",
    "### collection all kinds of ipynb\n",
    "[https://github.com/OpenBookProjects/ipynb.git](https://github.com/OpenBookProjects/ipynb.git)\n",
    "### Just a shared git repo for Social Graphs & Interaction\n",
    "[https://github.com/timmevandermeer/ipynb.git](https://github.com/timmevandermeer/ipynb.git)\n",
    "### Neural Networks Training Jupyter Notebooks\n",
    "[https://github.com/tmeits/ipynb.git](https://github.com/tmeits/ipynb.git)\n",
    "### tensorflow-ipynb\n",
    "[https://github.com/fujun-liu/tensorflow-ipynb.git](https://github.com/fujun-liu/tensorflow-ipynb.git)\n",
    "### https://github.com/charlesjhlee/ml_ipynb.git\n",
    "[https://github.com/charlesjhlee/ml_ipynb.git](https://github.com/charlesjhlee/ml_ipynb.git)\n",
    "### Ipython Notebook Visuals\n",
    "[https://github.com/bangadennis/ipynb_visuals.git](https://github.com/bangadennis/ipynb_visuals.git)\n",
    "### Canvas Widget for IPython Notebook https://github.com/Who8MyLunch/ipynb_widget_canvas\n",
    "[https://github.com/Who8MyLunch/ipynb_widget_canvas.git](https://github.com/Who8MyLunch/ipynb_widget_canvas.git)\n",
    "### Copy of Udacity DL course ipynb files, and maybe some other stuff\n",
    "[https://github.com/damienstanton/tensorflownotes.git](https://github.com/damienstanton/tensorflownotes.git)\n",
    "### This is an ipynb in which we use simple logistic regression from Spark MLlib to train a sarcasm detector on comments from reddit.\n",
    "[https://github.com/FranekJemiolo/SarcasmDetector.git](https://github.com/FranekJemiolo/SarcasmDetector.git)\n",
    "### IPython project\n",
    "[https://github.com/ipython/ipython.git](https://github.com/ipython/ipython.git)\n",
    "### Topik project\n",
    "[https://github.com/ContinuumIO/topik.git](https://github.com/ContinuumIO/topik.git)\n",
    "### scientific-python-lectures\n",
    "[https://github.com/ContinuumIO/scientific-python-lectures.git](https://github.com/ContinuumIO/scientific-python-lectures.git)\n",
    "### Continuum work from XDATA January 2016 Hackathon with U. S. Census Bureau\n",
    "[https://github.com/ContinuumIO/xdata-2016-census.git](https://github.com/ContinuumIO/xdata-2016-census.git)\n",
    "### Analysis on Each Image\n",
    "[https://github.com/ContinuumIO/image-analyzer.git](https://github.com/ContinuumIO/image-analyzer.git)\n"
   ]
  },
  {
   "cell_type": "code",
   "execution_count": null,
   "metadata": {
    "collapsed": true
   },
   "outputs": [],
   "source": []
  }
 ],
 "metadata": {
  "kernelspec": {
   "display_name": "Python 3",
   "language": "python",
   "name": "python3"
  },
  "language_info": {
   "codemirror_mode": {
    "name": "ipython",
    "version": 3
   },
   "file_extension": ".py",
   "mimetype": "text/x-python",
   "name": "python",
   "nbconvert_exporter": "python",
   "pygments_lexer": "ipython3",
   "version": "3.5.1"
  }
 },
 "nbformat": 4,
 "nbformat_minor": 0
}
