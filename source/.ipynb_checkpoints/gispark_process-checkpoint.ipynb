{
 "cells": [
  {
   "cell_type": "markdown",
   "metadata": {},
   "source": [
    "# 地理空间信息数据处理\n",
    "\n",
    "## 地理空间数据格式\n",
    "### GeoJSON 规范\n",
    "[**GeoJSON**](geospatial/geojson/geojson.ipynb)是一种对各种地理数据结构进行编码的格式。GeoJSON对象可以表示几何、特征或者特征集合。GeoJSON支持下面几何类型：点、线、面、多点、多线、多面和几何集合。GeoJSON里的特征包含一个几何对象和其他属性，特征集合表示一系列特征。\n",
    "\n",
    "### GeoJSON 编程\n",
    "GeoJSON很容易[通过Python编程操作](geospatial/geojson/pygeojson.ipynb)\n",
    "\n",
    "### CSV+GeoJSON格式\n",
    "[空间数据CSV格式](geospatial/geocsv.ipynb)\n",
    "\n",
    "## 几何对象与地图绘制\n",
    "\n",
    "* [Matplotlib绘制地图](geospatial/matplotlib/mpl_basemap.ipynb)\n",
    "* [GeoPandas内存数据集](geospatial/geopandas.ipynb)\n",
    "* [Shapely几何对象结构](geospatial/shapely.ipynb)\n",
    "* [Fiona几何计算操作](geospatial/fiona.ipynb)\n",
    "\n",
    "## GDAL库安装与使用\n",
    "[GDAL库安装与使用](geospatial/gdal/gdal-geometry.ipynb)  \n",
    "GDAL的Geometry使用:http://nbviewer.jupyter.org/github/supergis/git_notebook/blob/master/gdal/gdal-geometry.ipynb\n",
    "\n",
    "## GIScript安装与使用\n",
    "* [GIScript安装与使用](geospatial/giscript/giscript_quickstart.ipynb)\n",
    "\n",
    "## OSM开源地图数据处理\n",
    "* [OSM数据下载与结构分析](geospatial/openstreetmap/osm-discovery.ipynb)\n",
    "* [Overpass在线API使用](geospatial/openstreetmap/osm-overpass-node.ipynb)\n",
    "* [OSM流式转为行存储JSON](geospatial/openstreetmap/osm-extract2json.ipynb)\n",
    "* [OSM构建Geometry](geospatial/openstreetmap/osm-spark.ipynb)\n",
    "* PySpark中数据查询\n",
    "\n",
    "## SRTM地形高程数据处理\n",
    "* [SRTM地形高程数据处理](geospatial/srtm/srtm_usgs.ipynb)\n",
    "\n",
    "## 影像数据处理与挖掘\n",
    "    以TM影像处理为例。"
   ]
  }
 ],
 "metadata": {
  "kernelspec": {
   "display_name": "Python 3",
   "language": "python",
   "name": "python3"
  },
  "language_info": {
   "codemirror_mode": {
    "name": "ipython",
    "version": 3
   },
   "file_extension": ".py",
   "mimetype": "text/x-python",
   "name": "python",
   "nbconvert_exporter": "python",
   "pygments_lexer": "ipython3",
   "version": "3.5.1"
  }
 },
 "nbformat": 4,
 "nbformat_minor": 0
}
