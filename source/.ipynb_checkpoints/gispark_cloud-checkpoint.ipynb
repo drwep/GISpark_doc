{
 "cells": [
  {
   "cell_type": "markdown",
   "metadata": {},
   "source": [
    "# 云计算基础设施\n",
    "\n",
    "## OpenStack的安装\n",
    "    * 虚拟机镜像管理\n",
    "    * 弹性计算平台\n",
    "    * 集成管理控制台\n",
    "    \n",
    "## 虚拟存储系统\n",
    "\n",
    "    * HDFS\n",
    "    * Ceph\n",
    "    * MongoDB\n",
    "\n",
    "## Docker计算容器系统\n",
    "    * Docker Engine\n",
    "    * Docker Machine\n",
    "    * Docker Compose\n",
    "    * Docker Registry\n",
    "    * Docker Swarm\n",
    "\n",
    "## Mesos与运维\n",
    "\n",
    "* Chronos"
   ]
  }
 ],
 "metadata": {
  "kernelspec": {
   "display_name": "Python 3",
   "language": "python",
   "name": "python3"
  },
  "language_info": {
   "codemirror_mode": {
    "name": "ipython",
    "version": 3
   },
   "file_extension": ".py",
   "mimetype": "text/x-python",
   "name": "python",
   "nbconvert_exporter": "python",
   "pygments_lexer": "ipython3",
   "version": "3.5.1"
  }
 },
 "nbformat": 4,
 "nbformat_minor": 0
}
