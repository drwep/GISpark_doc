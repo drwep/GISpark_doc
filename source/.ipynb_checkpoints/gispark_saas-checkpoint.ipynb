{
 "cells": [
  {
   "cell_type": "markdown",
   "metadata": {},
   "source": [
    "# 地理空间信息服务平台\n",
    "\n",
    "## 应用服务系统搭建\n",
    "iCloudManager,iPortal,iServer,iExpress.\n",
    "\n",
    "## 客户端应用及开发\n",
    "iClient\n",
    "iMobile\n",
    "iDesktop\n"
   ]
  }
 ],
 "metadata": {
  "kernelspec": {
   "display_name": "Python 3",
   "language": "python",
   "name": "python3"
  },
  "language_info": {
   "codemirror_mode": {
    "name": "ipython",
    "version": 3
   },
   "file_extension": ".py",
   "mimetype": "text/x-python",
   "name": "python",
   "nbconvert_exporter": "python",
   "pygments_lexer": "ipython3",
   "version": "3.5.1"
  }
 },
 "nbformat": 4,
 "nbformat_minor": 0
}
