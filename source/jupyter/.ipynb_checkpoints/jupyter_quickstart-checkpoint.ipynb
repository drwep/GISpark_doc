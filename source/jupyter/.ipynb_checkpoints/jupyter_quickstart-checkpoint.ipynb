{
 "cells": [
  {
   "cell_type": "markdown",
   "metadata": {},
   "source": [
    "\"nbsphinx-toctree\": {\n",
    "  \"maxdepth\": 3,\n",
    "  \"numbered\": true\n",
    "}"
   ]
  },
  {
   "cell_type": "markdown",
   "metadata": {},
   "source": [
    "# 安装并启动jupyter\n",
    "\n",
    "## 安装并启动jupyter\n",
    "安装 Anaconda 后, 再安装 jupyter\n",
    "```\n",
    "pip install jupyter\n",
    "```\n",
    "* 设置环境\n",
    "```\n",
    "ipython --ipython-dir= # override the default IPYTHONDIR directory, ~/.ipython/ by default\n",
    "ipython profile create foo # create the profile foo\n",
    "ipython profile locate foo # find foo profile directory, IPYTHONDIR by default,\n",
    "ipython --profile=foo # start IPython using the new profile\n",
    "```\n",
    "\n",
    "启动jupyter的几个命令, 启动后, 默认还将启动一个浏览器进入 notebook 环境\n",
    "ipython notebook # 启动 jupyter notebook服务器, 使用默认端口8080\n",
    "ipython notebook --ip=0.0.0.0 --port=80 # 启动 jupyter notebook服务器, 指定端口\n",
    "ipython notebook --profile=foo # 使用 foo profile 启动 jupyter notebook服务器\n",
    "ipython notebook --pylab inline # 启用 PyLab graphing support\n",
    "ipython notebook 是老版本的命令组合, 新版是jupyter notebook命令组合, 如果使用Anaconda的发布包, 直接使用jupyter-notebook这个工具.\n",
    "\n",
    "更多jupyter使用信息, 见\n",
    "http://nbviewer.jupyter.org/github/ipython/ipython/blob/3.x/examples/Notebook/Notebook%20Basics.ipynb"
   ]
  },
  {
   "cell_type": "markdown",
   "metadata": {},
   "source": [
    "## 定制Jupyter\n",
    "\n",
    "[root#]./jupyter-notebook --generate-config\n",
    "将生成一个jupyter的配置文件, 比如 /root/.jupyter/jupyter_notebook_config.py , 在其中可配置Notebook App的基本信息\n",
    "文件名为: /root/.jupyter/jupyter_notebook_config.py\n",
    "```\n",
    "c = get_config()\n",
    "c.IPKernelApp.pylab = 'inline'\n",
    "c.NoteBookApp.ip = '0.0.0.0'\n",
    "c.NotebookApp.open_browser = False\n",
    "c.NotebookApp.port = 8880 # or whatever you want\n",
    "```\n",
    "\n",
    "### 为 notebook 的 cell增加line number\n",
    "\n",
    "在 ~/.ipython/profile_foo/static/custom/custom.js 增加下面几行\n",
    "\n",
    "define([\n",
    "    'base/js/namespace',\n",
    "    'base/js/events'\n",
    "    ], \n",
    "    function(IPython, events) {\n",
    "        events.on(\"app_initialized.NotebookApp\", \n",
    "            function () {\n",
    "                require(\"notebook/js/cell\").Cell.options_default.cm_config.lineNumbers = true;\n",
    "            }\n",
    "        );\n",
    "    }\n",
    ");\n",
    "\n",
    "### 更改jupyter的主题\n",
    "\n",
    "https://github.com/transcranial/jupyter-themer\n",
    "更改命令\n",
    "jupyter-themer -c monokai\n",
    "访问远端的notebook server"
   ]
  },
  {
   "cell_type": "markdown",
   "metadata": {},
   "source": [
    "pip install jupyter-themer"
   ]
  },
  {
   "cell_type": "markdown",
   "metadata": {},
   "source": [
    "## Jupyter服务器\n",
    "\n",
    "如果是在远端开启了notebook server, 在本机浏览器直接访问, 将不能打开, 这应该是notebook server为安全考虑, 有意屏蔽非本机的访问. 当然, 我们总不能一直通过x-windows到远端打开浏览器使用notebook吧.\n",
    "\n",
    "1.最简单的做法是,启动notebook sever时, 加上参数--ip=0.0.0.0, 即:\n",
    "./jupyter-notebook --port=7777 --ip=0.0.0.0\n",
    "2.另一个方法是:在本机使用ssh软件建立一个连接远端的ssh tunnel, 本机浏览器通过ssh tunnel就可以访问远端的notebook server. 比如, 我习惯使用putty, 方法是:\n",
    "putty-> Connection > SSH > Tunnels\n",
    "Under Add new forwarded port:, enter the following information:\n",
    "Source port: local_port\n",
    "Destination: remote_host:remote_port\n",
    "Click Add.然后, 使用这个配置ssh连接远端server.\n",
    "访问远端的ipython\n",
    "\n",
    "jupyter是使用tab能进行代码补全, 但在浏览器中有时并不起作用, 使用远端的ipython就没有这个问题, 当然ipython在EDA(探索式数据分析)文档化方面比notebook弱多了, 鱼和熊掌不能皆得. 我更喜欢ipython qtconsole方式.\n",
    "连接远端ipython的步骤:\n",
    "\n",
    "    远端开启ipython host, 命令为 ipython kernel -f ~/ipython-connect-info.json # 这是一个没有前端的ipython进程.\n",
    "    将远端的kernel-1234.json 文件复制到本机, 修改其中的ip地址为远端真实的地址\n",
    "    本机上使用putty为kernel-1234.json 文件中的5个port都开启ssh tunnel\n",
    "    本机执行 ipython qtconsole --existing c:\\kernel-connect-info.json"
   ]
  },
  {
   "cell_type": "markdown",
   "metadata": {},
   "source": [
    "## 与PySpark集成\n",
    "\n",
    "IPython和普通的Python interpreter相比, 优点在于对交互性支持更好, 所以PySpark只有在需要更好交互性的情形下, 才有集成IPython的必要, 显然只有 pyspark shell 才需要集成IPython.\n",
    "Jupyter和PySpark shell集成方式有好几种, 比如:\n",
    "\n",
    "    先启动IPython, 然后调用pyspark\\shell.py启动spark.\n",
    "    启动IPython后, 我们可以手动调用pyspark\\shell.py, 将调用脚本加到IPython profile目录中自动启动, 自动启动python程序. 调用pyspark\\shell.py应放在文件 ~/.ipython/profile_foo/startup/00-pyspark-setup.py 中.\n",
    "    00-pyspark-setup.py的写法可参考 https://github.com/harisekhon/pytools/blob/master/.ipython-notebook-pyspark.00-pyspark-setup.py\n",
    "\n",
    "    采用IPython 这个高级 interpreter 来启动pyspark\n",
    "    例子1, 在 spark master server 上以notebook的形式启动 pyspark shell.\n",
    "    spark_master_node$ PYSPARK_DRIVER_PYTHON=/usr/python_anaconda/bin/ipython PYSPARK_DRIVER_PYTHON_OPTS=\"notebook --no-browser --ip=0.0.0.0 --port=7777\" pyspark --master spark://quickstart.cloudera:7077\n",
    "\n",
    "例子2, 在 spark master server 上以ipython kernel的形式启动 pyspark shell, 以便其他机器连入\n",
    "spark_master_node$ PYSPARK_DRIVER_PYTHON=/usr/python_anaconda/bin/ipython PYSPARK_DRIVER_PYTHON_OPTS=\"kernel -f ~/ipython-connect-info.json\" pyspark --master spark://quickstart.cloudera:7077\n",
    "\n",
    "例子3, 在 spark master server 上以notebook的形式启动 pyspark shell, 并加载额外的package, 指定内存参数.\n",
    "spark_master_node$ PYSPARK_DRIVER_PYTHON=ipython PYSPARK_DRIVER_PYTHON_OPTS=\"notebook --no-browser --port=7777 --profile=foo\" pyspark --packages com.databricks:spark-csv_2.10:1.1.0 --master spark://spark_master_hostname:7077 --executor-memory 6400M --driver-memory 6400M\n",
    "\n",
    "设置 PYSPARK_DRIVER_PYTHON 和 PYSPARK_DRIVER_PYTHON_OPTS 环境变量后, 之后调用pyspark将采用这两个环境变量指定的Python 解释器配置来运行python 版spark 应用.\n",
    "\n",
    "注意不应该export 这两个环境变量, 因为export后, 非shell的pyspark spark应用也将使用IPython运行, 容易造成滥用.\n",
    "虽然我不推荐在Linux profile将 PYSPARK_DRIVER_PYTHON 设置为IPython, 但我推荐将 PYSPARK_DRIVER_PYTHON 设置为 Anaconda的 python, 因为这将省去安装额外科学计算包的麻烦, 当然, 环境变量PYSPARK_DRIVER_PYTHON_OPTS不应该再带上notebook或kernel参数.\n",
    "\n",
    "最好在 spark-env.sh 增加下面4个参数,\n",
    "```\n",
    "# worker和driver 的python版本应该是一致的, 否则spark会报错的, 当然driver可以设置为ipython.\n",
    "export PYSPARK_PYTHON=/usr/bin/python3\n",
    "export PYSPARK_DRIVER_PYTHON=/usr/bin/ipython3\n",
    "# 为了简化提交pyspark 应用的提交,可以预先设置一个 PYSPARK_SUBMIT_ARGS 环境变量.\n",
    "export PYSPARK_SUBMIT_ARGS='--master local[2]'\n",
    "export PYSPARK_SUBMIT_ARGS='--master yarn --deploy-mode client --num-executors 24 --executor-memory 10g --executor-cores 5'\n",
    "```"
   ]
  },
  {
   "cell_type": "markdown",
   "metadata": {},
   "source": [
    "* 参考文章\n",
    "\n",
    "\n",
    "1. [How-to: Use IPython Notebook with Apache Spark](http://www.tuicool.com/articles/rqIv6z)\n",
    "2. [http://blog.cloudera.com/blog/2014/08/how-to-use-ipython-notebook-with](How to Install PySpark and Integrate with IPython Notebook)\n",
    "3. [https://www.dataquest.io/blog/installing-pyspark/](http://www.tuicool.com/articles/VFn6j2Y)\n",
    "4. [Configuring IPython Notebook Support for PySpark](http://ramhiser.com/2015/02/01/configuring-ipython-notebook-support-for-pyspark/)\n",
    "5. [Using Jupyter on Apache Spark: Step-by-Step with a Terabyte of Reddit Data](http://blog.insightdatalabs.com/jupyter-on-apache-spark-step-by-step/)\n",
    "6. [如何自定义jupyter notebook的主题](http://www.cnblogs.com/wybert/p/5030697.html)\n",
    "7. [jupyter cell 增加 line number](https://stackoverflow.com/questions/20197471/how-to-display-line-numbers-in-ipython-notebook-code-cell-by-default/20197878)\n",
    "8. [Spark编程环境搭建(IPython)](http://www.kinelf.com/?p=169)\n",
    "9. [如何使用Docker快速配置数据科学开发环境(搭建Docker + Jupyter环境 )](https://linux.cn/article-6644-1.html)"
   ]
  }
 ],
 "metadata": {
  "kernelspec": {
   "display_name": "Python 3",
   "language": "python",
   "name": "python3"
  },
  "language_info": {
   "codemirror_mode": {
    "name": "ipython",
    "version": 3
   },
   "file_extension": ".py",
   "mimetype": "text/x-python",
   "name": "python",
   "nbconvert_exporter": "python",
   "pygments_lexer": "ipython3",
   "version": "3.5.1"
  }
 },
 "nbformat": 4,
 "nbformat_minor": 0
}
