{
 "cells": [
  {
   "cell_type": "markdown",
   "metadata": {},
   "source": [
    "# 附录"
   ]
  },
  {
   "cell_type": "markdown",
   "metadata": {
    "nbsphinx-toctree": {
     "maxdepth": 2
    },
    "raw_mimetype": "text/markdown"
   },
   "source": [
    "* [全球开放数据源](opendatasource.md)\n",
    "* [Sphinx快速入门](jupyter/sphinx_quickstart.ipynb)\n",
    "* [Jupyter快速入门](jupyter/jupyter_quickstart.ipynb)\n",
    "* [Python数据列表](pystart/pystart_databasic.ipynb)"
   ]
  }
 ],
 "metadata": {
  "celltoolbar": "Edit Metadata",
  "kernelspec": {
   "display_name": "Python 3",
   "language": "python",
   "name": "python3"
  },
  "language_info": {
   "codemirror_mode": {
    "name": "ipython",
    "version": 3
   },
   "file_extension": ".py",
   "mimetype": "text/x-python",
   "name": "python",
   "nbconvert_exporter": "python",
   "pygments_lexer": "ipython3",
   "version": "3.5.1"
  }
 },
 "nbformat": 4,
 "nbformat_minor": 0
}
